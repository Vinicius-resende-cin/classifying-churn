{
  "nbformat": 4,
  "nbformat_minor": 0,
  "metadata": {
    "colab": {
      "provenance": [],
      "collapsed_sections": [
        "fCaQcByCJHBp",
        "0afoLfT3JZWB",
        "h7H67oBpL4os",
        "OXRvMnHlJKbj",
        "MXiiKlu2JMoT",
        "fSGO55TvJdDf"
      ],
      "toc_visible": true
    },
    "kernelspec": {
      "name": "python3",
      "display_name": "Python 3"
    },
    "language_info": {
      "name": "python"
    }
  },
  "cells": [
    {
      "cell_type": "markdown",
      "source": [
        "# Previsão de churn (abandono) em telecom\n",
        "\n",
        "### Referências:\n",
        "- https://github.com/RomeroBarata/IF702-redes-neurais\n",
        "\n",
        "### Grupo 8:\n",
        "- Erbert Gadelha (ebgr)\n",
        "- João Pedro (jpba)\n",
        "- Vinicius Barbosa (vrb)\n",
        "- Almir Alves (aasc)\n",
        "- Felipe Mateus (fmfb)"
      ],
      "metadata": {
        "id": "bY-vqNlNoacX"
      }
    },
    {
      "cell_type": "markdown",
      "source": [
        "# Preparação e importação da base de dados"
      ],
      "metadata": {
        "id": "xT4On_GqsOxB"
      }
    },
    {
      "cell_type": "code",
      "execution_count": 1,
      "metadata": {
        "id": "IiEYqDaNoWZz"
      },
      "outputs": [],
      "source": [
        "import kagglehub\n",
        "import numpy as np\n",
        "import pandas as pd\n",
        "import tensorflow as tf\n",
        "\n",
        "import matplotlib.pyplot as plt\n",
        "import seaborn as sns\n",
        "\n",
        "from sklearn.model_selection import train_test_split\n",
        "\n",
        "tf.random.set_seed(42)\n",
        "np.random.seed(42)"
      ]
    },
    {
      "cell_type": "code",
      "source": [
        "#@title Download data and create DataFrame\n",
        "churn_data_path = kagglehub.dataset_download(\"kapturovalexander/customers-churned-in-telecom-services\")\n",
        "print(\"Path to dataset files:\", churn_data_path)\n",
        "\n",
        "churn_df = pd.read_csv(churn_data_path + \"/customer_churn_telecom_services.csv\")\n",
        "print(f\"Data shape {churn_df.shape}\")\n",
        "churn_df.head()"
      ],
      "metadata": {
        "colab": {
          "base_uri": "https://localhost:8080/",
          "height": 382
        },
        "cellView": "form",
        "id": "qOt7IYqYpGgU",
        "outputId": "1a18c28b-4557-4152-a16e-39c3a803a36f"
      },
      "execution_count": 2,
      "outputs": [
        {
          "output_type": "stream",
          "name": "stdout",
          "text": [
            "Downloading from https://www.kaggle.com/api/v1/datasets/download/kapturovalexander/customers-churned-in-telecom-services?dataset_version_number=3...\n"
          ]
        },
        {
          "output_type": "stream",
          "name": "stderr",
          "text": [
            "100%|██████████| 112k/112k [00:00<00:00, 43.6MB/s]"
          ]
        },
        {
          "output_type": "stream",
          "name": "stdout",
          "text": [
            "Extracting files...\n",
            "Path to dataset files: /root/.cache/kagglehub/datasets/kapturovalexander/customers-churned-in-telecom-services/versions/3\n",
            "Data shape (7043, 20)\n"
          ]
        },
        {
          "output_type": "stream",
          "name": "stderr",
          "text": [
            "\n"
          ]
        },
        {
          "output_type": "execute_result",
          "data": {
            "text/plain": [
              "   gender  SeniorCitizen Partner Dependents  tenure PhoneService  \\\n",
              "0  Female              0     Yes         No       1           No   \n",
              "1    Male              0      No         No      34          Yes   \n",
              "2    Male              0      No         No       2          Yes   \n",
              "3    Male              0      No         No      45           No   \n",
              "4  Female              0      No         No       2          Yes   \n",
              "\n",
              "      MultipleLines InternetService OnlineSecurity OnlineBackup  \\\n",
              "0  No phone service             DSL             No          Yes   \n",
              "1                No             DSL            Yes           No   \n",
              "2                No             DSL            Yes          Yes   \n",
              "3  No phone service             DSL            Yes           No   \n",
              "4                No     Fiber optic             No           No   \n",
              "\n",
              "  DeviceProtection TechSupport StreamingTV StreamingMovies        Contract  \\\n",
              "0               No          No          No              No  Month-to-month   \n",
              "1              Yes          No          No              No        One year   \n",
              "2               No          No          No              No  Month-to-month   \n",
              "3              Yes         Yes          No              No        One year   \n",
              "4               No          No          No              No  Month-to-month   \n",
              "\n",
              "  PaperlessBilling              PaymentMethod  MonthlyCharges  TotalCharges  \\\n",
              "0              Yes           Electronic check           29.85         29.85   \n",
              "1               No               Mailed check           56.95       1889.50   \n",
              "2              Yes               Mailed check           53.85        108.15   \n",
              "3               No  Bank transfer (automatic)           42.30       1840.75   \n",
              "4              Yes           Electronic check           70.70        151.65   \n",
              "\n",
              "  Churn  \n",
              "0    No  \n",
              "1    No  \n",
              "2   Yes  \n",
              "3    No  \n",
              "4   Yes  "
            ],
            "text/html": [
              "\n",
              "  <div id=\"df-8429e97b-82f9-4ec6-8026-624a12d2d6be\" class=\"colab-df-container\">\n",
              "    <div>\n",
              "<style scoped>\n",
              "    .dataframe tbody tr th:only-of-type {\n",
              "        vertical-align: middle;\n",
              "    }\n",
              "\n",
              "    .dataframe tbody tr th {\n",
              "        vertical-align: top;\n",
              "    }\n",
              "\n",
              "    .dataframe thead th {\n",
              "        text-align: right;\n",
              "    }\n",
              "</style>\n",
              "<table border=\"1\" class=\"dataframe\">\n",
              "  <thead>\n",
              "    <tr style=\"text-align: right;\">\n",
              "      <th></th>\n",
              "      <th>gender</th>\n",
              "      <th>SeniorCitizen</th>\n",
              "      <th>Partner</th>\n",
              "      <th>Dependents</th>\n",
              "      <th>tenure</th>\n",
              "      <th>PhoneService</th>\n",
              "      <th>MultipleLines</th>\n",
              "      <th>InternetService</th>\n",
              "      <th>OnlineSecurity</th>\n",
              "      <th>OnlineBackup</th>\n",
              "      <th>DeviceProtection</th>\n",
              "      <th>TechSupport</th>\n",
              "      <th>StreamingTV</th>\n",
              "      <th>StreamingMovies</th>\n",
              "      <th>Contract</th>\n",
              "      <th>PaperlessBilling</th>\n",
              "      <th>PaymentMethod</th>\n",
              "      <th>MonthlyCharges</th>\n",
              "      <th>TotalCharges</th>\n",
              "      <th>Churn</th>\n",
              "    </tr>\n",
              "  </thead>\n",
              "  <tbody>\n",
              "    <tr>\n",
              "      <th>0</th>\n",
              "      <td>Female</td>\n",
              "      <td>0</td>\n",
              "      <td>Yes</td>\n",
              "      <td>No</td>\n",
              "      <td>1</td>\n",
              "      <td>No</td>\n",
              "      <td>No phone service</td>\n",
              "      <td>DSL</td>\n",
              "      <td>No</td>\n",
              "      <td>Yes</td>\n",
              "      <td>No</td>\n",
              "      <td>No</td>\n",
              "      <td>No</td>\n",
              "      <td>No</td>\n",
              "      <td>Month-to-month</td>\n",
              "      <td>Yes</td>\n",
              "      <td>Electronic check</td>\n",
              "      <td>29.85</td>\n",
              "      <td>29.85</td>\n",
              "      <td>No</td>\n",
              "    </tr>\n",
              "    <tr>\n",
              "      <th>1</th>\n",
              "      <td>Male</td>\n",
              "      <td>0</td>\n",
              "      <td>No</td>\n",
              "      <td>No</td>\n",
              "      <td>34</td>\n",
              "      <td>Yes</td>\n",
              "      <td>No</td>\n",
              "      <td>DSL</td>\n",
              "      <td>Yes</td>\n",
              "      <td>No</td>\n",
              "      <td>Yes</td>\n",
              "      <td>No</td>\n",
              "      <td>No</td>\n",
              "      <td>No</td>\n",
              "      <td>One year</td>\n",
              "      <td>No</td>\n",
              "      <td>Mailed check</td>\n",
              "      <td>56.95</td>\n",
              "      <td>1889.50</td>\n",
              "      <td>No</td>\n",
              "    </tr>\n",
              "    <tr>\n",
              "      <th>2</th>\n",
              "      <td>Male</td>\n",
              "      <td>0</td>\n",
              "      <td>No</td>\n",
              "      <td>No</td>\n",
              "      <td>2</td>\n",
              "      <td>Yes</td>\n",
              "      <td>No</td>\n",
              "      <td>DSL</td>\n",
              "      <td>Yes</td>\n",
              "      <td>Yes</td>\n",
              "      <td>No</td>\n",
              "      <td>No</td>\n",
              "      <td>No</td>\n",
              "      <td>No</td>\n",
              "      <td>Month-to-month</td>\n",
              "      <td>Yes</td>\n",
              "      <td>Mailed check</td>\n",
              "      <td>53.85</td>\n",
              "      <td>108.15</td>\n",
              "      <td>Yes</td>\n",
              "    </tr>\n",
              "    <tr>\n",
              "      <th>3</th>\n",
              "      <td>Male</td>\n",
              "      <td>0</td>\n",
              "      <td>No</td>\n",
              "      <td>No</td>\n",
              "      <td>45</td>\n",
              "      <td>No</td>\n",
              "      <td>No phone service</td>\n",
              "      <td>DSL</td>\n",
              "      <td>Yes</td>\n",
              "      <td>No</td>\n",
              "      <td>Yes</td>\n",
              "      <td>Yes</td>\n",
              "      <td>No</td>\n",
              "      <td>No</td>\n",
              "      <td>One year</td>\n",
              "      <td>No</td>\n",
              "      <td>Bank transfer (automatic)</td>\n",
              "      <td>42.30</td>\n",
              "      <td>1840.75</td>\n",
              "      <td>No</td>\n",
              "    </tr>\n",
              "    <tr>\n",
              "      <th>4</th>\n",
              "      <td>Female</td>\n",
              "      <td>0</td>\n",
              "      <td>No</td>\n",
              "      <td>No</td>\n",
              "      <td>2</td>\n",
              "      <td>Yes</td>\n",
              "      <td>No</td>\n",
              "      <td>Fiber optic</td>\n",
              "      <td>No</td>\n",
              "      <td>No</td>\n",
              "      <td>No</td>\n",
              "      <td>No</td>\n",
              "      <td>No</td>\n",
              "      <td>No</td>\n",
              "      <td>Month-to-month</td>\n",
              "      <td>Yes</td>\n",
              "      <td>Electronic check</td>\n",
              "      <td>70.70</td>\n",
              "      <td>151.65</td>\n",
              "      <td>Yes</td>\n",
              "    </tr>\n",
              "  </tbody>\n",
              "</table>\n",
              "</div>\n",
              "    <div class=\"colab-df-buttons\">\n",
              "\n",
              "  <div class=\"colab-df-container\">\n",
              "    <button class=\"colab-df-convert\" onclick=\"convertToInteractive('df-8429e97b-82f9-4ec6-8026-624a12d2d6be')\"\n",
              "            title=\"Convert this dataframe to an interactive table.\"\n",
              "            style=\"display:none;\">\n",
              "\n",
              "  <svg xmlns=\"http://www.w3.org/2000/svg\" height=\"24px\" viewBox=\"0 -960 960 960\">\n",
              "    <path d=\"M120-120v-720h720v720H120Zm60-500h600v-160H180v160Zm220 220h160v-160H400v160Zm0 220h160v-160H400v160ZM180-400h160v-160H180v160Zm440 0h160v-160H620v160ZM180-180h160v-160H180v160Zm440 0h160v-160H620v160Z\"/>\n",
              "  </svg>\n",
              "    </button>\n",
              "\n",
              "  <style>\n",
              "    .colab-df-container {\n",
              "      display:flex;\n",
              "      gap: 12px;\n",
              "    }\n",
              "\n",
              "    .colab-df-convert {\n",
              "      background-color: #E8F0FE;\n",
              "      border: none;\n",
              "      border-radius: 50%;\n",
              "      cursor: pointer;\n",
              "      display: none;\n",
              "      fill: #1967D2;\n",
              "      height: 32px;\n",
              "      padding: 0 0 0 0;\n",
              "      width: 32px;\n",
              "    }\n",
              "\n",
              "    .colab-df-convert:hover {\n",
              "      background-color: #E2EBFA;\n",
              "      box-shadow: 0px 1px 2px rgba(60, 64, 67, 0.3), 0px 1px 3px 1px rgba(60, 64, 67, 0.15);\n",
              "      fill: #174EA6;\n",
              "    }\n",
              "\n",
              "    .colab-df-buttons div {\n",
              "      margin-bottom: 4px;\n",
              "    }\n",
              "\n",
              "    [theme=dark] .colab-df-convert {\n",
              "      background-color: #3B4455;\n",
              "      fill: #D2E3FC;\n",
              "    }\n",
              "\n",
              "    [theme=dark] .colab-df-convert:hover {\n",
              "      background-color: #434B5C;\n",
              "      box-shadow: 0px 1px 3px 1px rgba(0, 0, 0, 0.15);\n",
              "      filter: drop-shadow(0px 1px 2px rgba(0, 0, 0, 0.3));\n",
              "      fill: #FFFFFF;\n",
              "    }\n",
              "  </style>\n",
              "\n",
              "    <script>\n",
              "      const buttonEl =\n",
              "        document.querySelector('#df-8429e97b-82f9-4ec6-8026-624a12d2d6be button.colab-df-convert');\n",
              "      buttonEl.style.display =\n",
              "        google.colab.kernel.accessAllowed ? 'block' : 'none';\n",
              "\n",
              "      async function convertToInteractive(key) {\n",
              "        const element = document.querySelector('#df-8429e97b-82f9-4ec6-8026-624a12d2d6be');\n",
              "        const dataTable =\n",
              "          await google.colab.kernel.invokeFunction('convertToInteractive',\n",
              "                                                    [key], {});\n",
              "        if (!dataTable) return;\n",
              "\n",
              "        const docLinkHtml = 'Like what you see? Visit the ' +\n",
              "          '<a target=\"_blank\" href=https://colab.research.google.com/notebooks/data_table.ipynb>data table notebook</a>'\n",
              "          + ' to learn more about interactive tables.';\n",
              "        element.innerHTML = '';\n",
              "        dataTable['output_type'] = 'display_data';\n",
              "        await google.colab.output.renderOutput(dataTable, element);\n",
              "        const docLink = document.createElement('div');\n",
              "        docLink.innerHTML = docLinkHtml;\n",
              "        element.appendChild(docLink);\n",
              "      }\n",
              "    </script>\n",
              "  </div>\n",
              "\n",
              "\n",
              "    <div id=\"df-61438ca7-35dd-4ffd-9b7a-1affc6868246\">\n",
              "      <button class=\"colab-df-quickchart\" onclick=\"quickchart('df-61438ca7-35dd-4ffd-9b7a-1affc6868246')\"\n",
              "                title=\"Suggest charts\"\n",
              "                style=\"display:none;\">\n",
              "\n",
              "<svg xmlns=\"http://www.w3.org/2000/svg\" height=\"24px\"viewBox=\"0 0 24 24\"\n",
              "     width=\"24px\">\n",
              "    <g>\n",
              "        <path d=\"M19 3H5c-1.1 0-2 .9-2 2v14c0 1.1.9 2 2 2h14c1.1 0 2-.9 2-2V5c0-1.1-.9-2-2-2zM9 17H7v-7h2v7zm4 0h-2V7h2v10zm4 0h-2v-4h2v4z\"/>\n",
              "    </g>\n",
              "</svg>\n",
              "      </button>\n",
              "\n",
              "<style>\n",
              "  .colab-df-quickchart {\n",
              "      --bg-color: #E8F0FE;\n",
              "      --fill-color: #1967D2;\n",
              "      --hover-bg-color: #E2EBFA;\n",
              "      --hover-fill-color: #174EA6;\n",
              "      --disabled-fill-color: #AAA;\n",
              "      --disabled-bg-color: #DDD;\n",
              "  }\n",
              "\n",
              "  [theme=dark] .colab-df-quickchart {\n",
              "      --bg-color: #3B4455;\n",
              "      --fill-color: #D2E3FC;\n",
              "      --hover-bg-color: #434B5C;\n",
              "      --hover-fill-color: #FFFFFF;\n",
              "      --disabled-bg-color: #3B4455;\n",
              "      --disabled-fill-color: #666;\n",
              "  }\n",
              "\n",
              "  .colab-df-quickchart {\n",
              "    background-color: var(--bg-color);\n",
              "    border: none;\n",
              "    border-radius: 50%;\n",
              "    cursor: pointer;\n",
              "    display: none;\n",
              "    fill: var(--fill-color);\n",
              "    height: 32px;\n",
              "    padding: 0;\n",
              "    width: 32px;\n",
              "  }\n",
              "\n",
              "  .colab-df-quickchart:hover {\n",
              "    background-color: var(--hover-bg-color);\n",
              "    box-shadow: 0 1px 2px rgba(60, 64, 67, 0.3), 0 1px 3px 1px rgba(60, 64, 67, 0.15);\n",
              "    fill: var(--button-hover-fill-color);\n",
              "  }\n",
              "\n",
              "  .colab-df-quickchart-complete:disabled,\n",
              "  .colab-df-quickchart-complete:disabled:hover {\n",
              "    background-color: var(--disabled-bg-color);\n",
              "    fill: var(--disabled-fill-color);\n",
              "    box-shadow: none;\n",
              "  }\n",
              "\n",
              "  .colab-df-spinner {\n",
              "    border: 2px solid var(--fill-color);\n",
              "    border-color: transparent;\n",
              "    border-bottom-color: var(--fill-color);\n",
              "    animation:\n",
              "      spin 1s steps(1) infinite;\n",
              "  }\n",
              "\n",
              "  @keyframes spin {\n",
              "    0% {\n",
              "      border-color: transparent;\n",
              "      border-bottom-color: var(--fill-color);\n",
              "      border-left-color: var(--fill-color);\n",
              "    }\n",
              "    20% {\n",
              "      border-color: transparent;\n",
              "      border-left-color: var(--fill-color);\n",
              "      border-top-color: var(--fill-color);\n",
              "    }\n",
              "    30% {\n",
              "      border-color: transparent;\n",
              "      border-left-color: var(--fill-color);\n",
              "      border-top-color: var(--fill-color);\n",
              "      border-right-color: var(--fill-color);\n",
              "    }\n",
              "    40% {\n",
              "      border-color: transparent;\n",
              "      border-right-color: var(--fill-color);\n",
              "      border-top-color: var(--fill-color);\n",
              "    }\n",
              "    60% {\n",
              "      border-color: transparent;\n",
              "      border-right-color: var(--fill-color);\n",
              "    }\n",
              "    80% {\n",
              "      border-color: transparent;\n",
              "      border-right-color: var(--fill-color);\n",
              "      border-bottom-color: var(--fill-color);\n",
              "    }\n",
              "    90% {\n",
              "      border-color: transparent;\n",
              "      border-bottom-color: var(--fill-color);\n",
              "    }\n",
              "  }\n",
              "</style>\n",
              "\n",
              "      <script>\n",
              "        async function quickchart(key) {\n",
              "          const quickchartButtonEl =\n",
              "            document.querySelector('#' + key + ' button');\n",
              "          quickchartButtonEl.disabled = true;  // To prevent multiple clicks.\n",
              "          quickchartButtonEl.classList.add('colab-df-spinner');\n",
              "          try {\n",
              "            const charts = await google.colab.kernel.invokeFunction(\n",
              "                'suggestCharts', [key], {});\n",
              "          } catch (error) {\n",
              "            console.error('Error during call to suggestCharts:', error);\n",
              "          }\n",
              "          quickchartButtonEl.classList.remove('colab-df-spinner');\n",
              "          quickchartButtonEl.classList.add('colab-df-quickchart-complete');\n",
              "        }\n",
              "        (() => {\n",
              "          let quickchartButtonEl =\n",
              "            document.querySelector('#df-61438ca7-35dd-4ffd-9b7a-1affc6868246 button');\n",
              "          quickchartButtonEl.style.display =\n",
              "            google.colab.kernel.accessAllowed ? 'block' : 'none';\n",
              "        })();\n",
              "      </script>\n",
              "    </div>\n",
              "\n",
              "    </div>\n",
              "  </div>\n"
            ],
            "application/vnd.google.colaboratory.intrinsic+json": {
              "type": "dataframe",
              "variable_name": "churn_df",
              "summary": "{\n  \"name\": \"churn_df\",\n  \"rows\": 7043,\n  \"fields\": [\n    {\n      \"column\": \"gender\",\n      \"properties\": {\n        \"dtype\": \"category\",\n        \"num_unique_values\": 2,\n        \"samples\": [\n          \"Male\",\n          \"Female\"\n        ],\n        \"semantic_type\": \"\",\n        \"description\": \"\"\n      }\n    },\n    {\n      \"column\": \"SeniorCitizen\",\n      \"properties\": {\n        \"dtype\": \"number\",\n        \"std\": 0,\n        \"min\": 0,\n        \"max\": 1,\n        \"num_unique_values\": 2,\n        \"samples\": [\n          1,\n          0\n        ],\n        \"semantic_type\": \"\",\n        \"description\": \"\"\n      }\n    },\n    {\n      \"column\": \"Partner\",\n      \"properties\": {\n        \"dtype\": \"category\",\n        \"num_unique_values\": 2,\n        \"samples\": [\n          \"No\",\n          \"Yes\"\n        ],\n        \"semantic_type\": \"\",\n        \"description\": \"\"\n      }\n    },\n    {\n      \"column\": \"Dependents\",\n      \"properties\": {\n        \"dtype\": \"category\",\n        \"num_unique_values\": 2,\n        \"samples\": [\n          \"Yes\",\n          \"No\"\n        ],\n        \"semantic_type\": \"\",\n        \"description\": \"\"\n      }\n    },\n    {\n      \"column\": \"tenure\",\n      \"properties\": {\n        \"dtype\": \"number\",\n        \"std\": 24,\n        \"min\": 0,\n        \"max\": 72,\n        \"num_unique_values\": 73,\n        \"samples\": [\n          8,\n          40\n        ],\n        \"semantic_type\": \"\",\n        \"description\": \"\"\n      }\n    },\n    {\n      \"column\": \"PhoneService\",\n      \"properties\": {\n        \"dtype\": \"category\",\n        \"num_unique_values\": 2,\n        \"samples\": [\n          \"Yes\",\n          \"No\"\n        ],\n        \"semantic_type\": \"\",\n        \"description\": \"\"\n      }\n    },\n    {\n      \"column\": \"MultipleLines\",\n      \"properties\": {\n        \"dtype\": \"category\",\n        \"num_unique_values\": 3,\n        \"samples\": [\n          \"No phone service\",\n          \"No\"\n        ],\n        \"semantic_type\": \"\",\n        \"description\": \"\"\n      }\n    },\n    {\n      \"column\": \"InternetService\",\n      \"properties\": {\n        \"dtype\": \"category\",\n        \"num_unique_values\": 3,\n        \"samples\": [\n          \"DSL\",\n          \"Fiber optic\"\n        ],\n        \"semantic_type\": \"\",\n        \"description\": \"\"\n      }\n    },\n    {\n      \"column\": \"OnlineSecurity\",\n      \"properties\": {\n        \"dtype\": \"category\",\n        \"num_unique_values\": 3,\n        \"samples\": [\n          \"No\",\n          \"Yes\"\n        ],\n        \"semantic_type\": \"\",\n        \"description\": \"\"\n      }\n    },\n    {\n      \"column\": \"OnlineBackup\",\n      \"properties\": {\n        \"dtype\": \"category\",\n        \"num_unique_values\": 3,\n        \"samples\": [\n          \"Yes\",\n          \"No\"\n        ],\n        \"semantic_type\": \"\",\n        \"description\": \"\"\n      }\n    },\n    {\n      \"column\": \"DeviceProtection\",\n      \"properties\": {\n        \"dtype\": \"category\",\n        \"num_unique_values\": 3,\n        \"samples\": [\n          \"No\",\n          \"Yes\"\n        ],\n        \"semantic_type\": \"\",\n        \"description\": \"\"\n      }\n    },\n    {\n      \"column\": \"TechSupport\",\n      \"properties\": {\n        \"dtype\": \"category\",\n        \"num_unique_values\": 3,\n        \"samples\": [\n          \"No\",\n          \"Yes\"\n        ],\n        \"semantic_type\": \"\",\n        \"description\": \"\"\n      }\n    },\n    {\n      \"column\": \"StreamingTV\",\n      \"properties\": {\n        \"dtype\": \"category\",\n        \"num_unique_values\": 3,\n        \"samples\": [\n          \"No\",\n          \"Yes\"\n        ],\n        \"semantic_type\": \"\",\n        \"description\": \"\"\n      }\n    },\n    {\n      \"column\": \"StreamingMovies\",\n      \"properties\": {\n        \"dtype\": \"category\",\n        \"num_unique_values\": 3,\n        \"samples\": [\n          \"No\",\n          \"Yes\"\n        ],\n        \"semantic_type\": \"\",\n        \"description\": \"\"\n      }\n    },\n    {\n      \"column\": \"Contract\",\n      \"properties\": {\n        \"dtype\": \"category\",\n        \"num_unique_values\": 3,\n        \"samples\": [\n          \"Month-to-month\",\n          \"One year\"\n        ],\n        \"semantic_type\": \"\",\n        \"description\": \"\"\n      }\n    },\n    {\n      \"column\": \"PaperlessBilling\",\n      \"properties\": {\n        \"dtype\": \"category\",\n        \"num_unique_values\": 2,\n        \"samples\": [\n          \"No\",\n          \"Yes\"\n        ],\n        \"semantic_type\": \"\",\n        \"description\": \"\"\n      }\n    },\n    {\n      \"column\": \"PaymentMethod\",\n      \"properties\": {\n        \"dtype\": \"category\",\n        \"num_unique_values\": 4,\n        \"samples\": [\n          \"Mailed check\",\n          \"Credit card (automatic)\"\n        ],\n        \"semantic_type\": \"\",\n        \"description\": \"\"\n      }\n    },\n    {\n      \"column\": \"MonthlyCharges\",\n      \"properties\": {\n        \"dtype\": \"number\",\n        \"std\": 30.09004709767854,\n        \"min\": 18.25,\n        \"max\": 118.75,\n        \"num_unique_values\": 1585,\n        \"samples\": [\n          48.85,\n          20.05\n        ],\n        \"semantic_type\": \"\",\n        \"description\": \"\"\n      }\n    },\n    {\n      \"column\": \"TotalCharges\",\n      \"properties\": {\n        \"dtype\": \"number\",\n        \"std\": 2266.7713618831453,\n        \"min\": 18.8,\n        \"max\": 8684.8,\n        \"num_unique_values\": 6530,\n        \"samples\": [\n          5594.0,\n          6840.95\n        ],\n        \"semantic_type\": \"\",\n        \"description\": \"\"\n      }\n    },\n    {\n      \"column\": \"Churn\",\n      \"properties\": {\n        \"dtype\": \"category\",\n        \"num_unique_values\": 2,\n        \"samples\": [\n          \"Yes\",\n          \"No\"\n        ],\n        \"semantic_type\": \"\",\n        \"description\": \"\"\n      }\n    }\n  ]\n}"
            }
          },
          "metadata": {},
          "execution_count": 2
        }
      ]
    },
    {
      "cell_type": "markdown",
      "source": [
        "# Exploração dos dados\n",
        "\n",
        "### Descrição das colunas:\n",
        "\n",
        "| Column Name | Description |\n",
        "|-------------|-------------|\n",
        "| gender | Customer's gender (Male/Female) |\n",
        "| SeniorCitizen |\tIndicates if the customer is a senior citizen (1 = Yes, 0 = No) |\n",
        "| Partner | Whether the customer has a partner (Yes/No) |\n",
        "| Dependents | Whether the customer has dependents (Yes/No) |\n",
        "|tenure |\tNumber of months the customer has stayed with the company |\n",
        "|PhoneService |\tWhether the customer has a phone service (Yes/No) |\n",
        "|MultipleLines | Whether the customer has multiple phone lines (No, Yes, No phone service) |\n",
        "|InternetService | Type of internet service (DSL, Fiber optic, No) |\n",
        "|OnlineSecurity |\tWhether the customer has online security (Yes, No, No internet service) |\n",
        "|OnlineBackup |\tWhether the customer has online backup (Yes, No, No internet service) |\n",
        "|DeviceProtection |\tWhether the customer has device protection (Yes, No, No internet service) |\n",
        "|TechSupport | Whether the customer has tech support (Yes, No, No internet service) |\n",
        "|StreamingTV | Whether the customer has streaming TV (Yes, No, No internet service) |\n",
        "|StreamingMovies |\tWhether the customer has streaming movies (Yes, No, No internet service) |\n",
        "|Contract |\tType of contract (Month-to-month, One year, Two year) |\n",
        "|PaperlessBilling |\tWhether the customer has paperless billing (Yes/No) |\n",
        "|PaymentMethod | Payment method used (Electronic check, Mailed check, Bank transfer, Credit card) |\n",
        "|MonthlyCharges |\tMonthly charges the customer pays |\n",
        "|TotalCharges |\tTotal amount charged to the customer |\n",
        "|Churn |\tWhether the customer has churned (Yes/No) |"
      ],
      "metadata": {
        "id": "x3W4L-87qsVH"
      }
    },
    {
      "cell_type": "markdown",
      "source": [
        "## Verificando valores nulos"
      ],
      "metadata": {
        "id": "CstWx2p3o3Zi"
      }
    },
    {
      "cell_type": "code",
      "source": [
        "#@title Verificando o dataset\n",
        "churn_df.info()\n",
        "nulls = churn_df['TotalCharges'].isnull().sum()"
      ],
      "metadata": {
        "colab": {
          "base_uri": "https://localhost:8080/"
        },
        "cellView": "form",
        "id": "QI-4B2d5qu6f",
        "outputId": "67860ace-4c15-462e-a74d-1d5a4e0f2b93"
      },
      "execution_count": 3,
      "outputs": [
        {
          "output_type": "stream",
          "name": "stdout",
          "text": [
            "<class 'pandas.core.frame.DataFrame'>\n",
            "RangeIndex: 7043 entries, 0 to 7042\n",
            "Data columns (total 20 columns):\n",
            " #   Column            Non-Null Count  Dtype  \n",
            "---  ------            --------------  -----  \n",
            " 0   gender            7043 non-null   object \n",
            " 1   SeniorCitizen     7043 non-null   int64  \n",
            " 2   Partner           7043 non-null   object \n",
            " 3   Dependents        7043 non-null   object \n",
            " 4   tenure            7043 non-null   int64  \n",
            " 5   PhoneService      7043 non-null   object \n",
            " 6   MultipleLines     7043 non-null   object \n",
            " 7   InternetService   7043 non-null   object \n",
            " 8   OnlineSecurity    7043 non-null   object \n",
            " 9   OnlineBackup      7043 non-null   object \n",
            " 10  DeviceProtection  7043 non-null   object \n",
            " 11  TechSupport       7043 non-null   object \n",
            " 12  StreamingTV       7043 non-null   object \n",
            " 13  StreamingMovies   7043 non-null   object \n",
            " 14  Contract          7043 non-null   object \n",
            " 15  PaperlessBilling  7043 non-null   object \n",
            " 16  PaymentMethod     7043 non-null   object \n",
            " 17  MonthlyCharges    7043 non-null   float64\n",
            " 18  TotalCharges      7032 non-null   float64\n",
            " 19  Churn             7043 non-null   object \n",
            "dtypes: float64(2), int64(2), object(16)\n",
            "memory usage: 1.1+ MB\n"
          ]
        }
      ]
    },
    {
      "cell_type": "markdown",
      "source": [
        "A colunas `TotalCharges` possui 11 valores nulos, portanto essas amostras serão removidas."
      ],
      "metadata": {
        "id": "Sc-lDPCwoI0A"
      }
    },
    {
      "cell_type": "code",
      "source": [
        "#@title Removendo valores nulos\n",
        "print(f\"Data shape (before cleaning) {churn_df.shape}\")\n",
        "churn_df = churn_df.dropna()\n",
        "print(f\"Data shape (after cleaning) {churn_df.shape}\")"
      ],
      "metadata": {
        "colab": {
          "base_uri": "https://localhost:8080/"
        },
        "cellView": "form",
        "id": "D8vdJ8JXoVa6",
        "outputId": "9f3ab909-b152-4751-f326-714d6f1a69dc"
      },
      "execution_count": 4,
      "outputs": [
        {
          "output_type": "stream",
          "name": "stdout",
          "text": [
            "Data shape (before cleaning) (7043, 20)\n",
            "Data shape (after cleaning) (7032, 20)\n"
          ]
        }
      ]
    },
    {
      "cell_type": "markdown",
      "source": [
        "## Verificando outliers"
      ],
      "metadata": {
        "id": "Q6dDywiHIuiP"
      }
    },
    {
      "cell_type": "code",
      "source": [
        "#@title Verificando a existência de outliers\n",
        "\n",
        "numerical_features = ['tenure', 'MonthlyCharges', 'TotalCharges']\n",
        "colors = ['tab:orange', 'tab:blue', 'tab:green']\n",
        "fig, axes = plt.subplots(1, 3, figsize=(15, 5))\n",
        "for i, feature in enumerate(numerical_features):\n",
        "  sns.boxplot(churn_df, x=feature, ax=axes[i], color=colors[i])\n",
        "plt.tight_layout()"
      ],
      "metadata": {
        "id": "u7-MFynfIxxp",
        "cellView": "form",
        "outputId": "273b88f5-6d71-4762-dcce-ae5d7a9d56a2",
        "colab": {
          "base_uri": "https://localhost:8080/",
          "height": 507
        }
      },
      "execution_count": 22,
      "outputs": [
        {
          "output_type": "display_data",
          "data": {
            "text/plain": [
              "<Figure size 1500x500 with 3 Axes>"
            ],
            "image/png": "[encoded data removed]"
          },
          "metadata": {}
        }
      ]
    },
    {
      "cell_type": "markdown",
      "source": [
        "## Analisando distribuições"
      ],
      "metadata": {
        "id": "Em3nWMe9o8_K"
      }
    },
    {
      "cell_type": "markdown",
      "source": [
        "### Features Contínuas"
      ],
      "metadata": {
        "id": "4pCzjZEOqH7w"
      }
    },
    {
      "cell_type": "code",
      "source": [
        "#@title Histograma por abandono\n",
        "\n",
        "fig, axes = plt.subplots(1, 3, figsize=(15, 5))\n",
        "for i, feature in enumerate(numerical_features):\n",
        "  sns.histplot(churn_df, x=feature, ax=axes[i], hue='Churn')\n",
        "plt.tight_layout()\n",
        "plt.show()"
      ],
      "metadata": {
        "colab": {
          "base_uri": "https://localhost:8080/",
          "height": 507
        },
        "id": "FU-G1VWopAHq",
        "outputId": "d3b6b096-95e4-445b-ea44-762234604bf6"
      },
      "execution_count": null,
      "outputs": [
        {
          "output_type": "display_data",
          "data": {
            "text/plain": [
              "<Figure size 1500x500 with 3 Axes>"
            ],
            "image/png": "[encoded data removed]"
          },
          "metadata": {}
        }
      ]
    },
    {
      "cell_type": "markdown",
      "source": [
        "A partir das distribuições podemos deduzir os seguintes pontos:\n",
        "*   Clientes jovens tendem a abandonar mais, enquanto pessoas com mais idade tendem a continuar sendo clientes\n",
        "*   Cobranças mensais muito baixas contribuem para uma alta taxa de fidelidade, mas valores mais altos não apresentam uma influência notável\n",
        "\n"
      ],
      "metadata": {
        "id": "ha-MV1qRsMP9"
      }
    },
    {
      "cell_type": "markdown",
      "source": [
        "# Preparação dos dados"
      ],
      "metadata": {
        "id": "d9NH8OGF8-Gm"
      }
    },
    {
      "cell_type": "code",
      "source": [
        "#@title Convertendo tipos categóricos\n",
        "\n",
        "cat_df = churn_df.select_dtypes(include=['object', 'category'])\n",
        "for col in cat_df.columns:\n",
        "  churn_df[col] = churn_df[col].astype('category')\n",
        "  churn_df[col] = churn_df[col].cat.codes\n",
        "\n",
        "  if col == 'Churn':\n",
        "    continue\n",
        "\n",
        "  # one hot encode if more than 2 alternatives\n",
        "  if len(churn_df[col].unique()) > 2:\n",
        "    churn_df = pd.concat([churn_df, pd.get_dummies(churn_df[col], prefix=col)], axis=1)\n",
        "    churn_df = churn_df.drop(columns=[col])\n",
        "\n",
        "churn_df.info()"
      ],
      "metadata": {
        "colab": {
          "base_uri": "https://localhost:8080/"
        },
        "cellView": "form",
        "id": "vfhSuOXJBHDQ",
        "outputId": "73bd98f6-0c38-400d-e7d3-c40b5e76cf66"
      },
      "execution_count": null,
      "outputs": [
        {
          "output_type": "stream",
          "name": "stdout",
          "text": [
            "<class 'pandas.core.frame.DataFrame'>\n",
            "Index: 7032 entries, 0 to 7042\n",
            "Data columns (total 41 columns):\n",
            " #   Column              Non-Null Count  Dtype  \n",
            "---  ------              --------------  -----  \n",
            " 0   gender              7032 non-null   int8   \n",
            " 1   SeniorCitizen       7032 non-null   int64  \n",
            " 2   Partner             7032 non-null   int8   \n",
            " 3   Dependents          7032 non-null   int8   \n",
            " 4   tenure              7032 non-null   int64  \n",
            " 5   PhoneService        7032 non-null   int8   \n",
            " 6   PaperlessBilling    7032 non-null   int8   \n",
            " 7   MonthlyCharges      7032 non-null   float64\n",
            " 8   TotalCharges        7032 non-null   float64\n",
            " 9   Churn               7032 non-null   int8   \n",
            " 10  MultipleLines_0     7032 non-null   bool   \n",
            " 11  MultipleLines_1     7032 non-null   bool   \n",
            " 12  MultipleLines_2     7032 non-null   bool   \n",
            " 13  InternetService_0   7032 non-null   bool   \n",
            " 14  InternetService_1   7032 non-null   bool   \n",
            " 15  InternetService_2   7032 non-null   bool   \n",
            " 16  OnlineSecurity_0    7032 non-null   bool   \n",
            " 17  OnlineSecurity_1    7032 non-null   bool   \n",
            " 18  OnlineSecurity_2    7032 non-null   bool   \n",
            " 19  OnlineBackup_0      7032 non-null   bool   \n",
            " 20  OnlineBackup_1      7032 non-null   bool   \n",
            " 21  OnlineBackup_2      7032 non-null   bool   \n",
            " 22  DeviceProtection_0  7032 non-null   bool   \n",
            " 23  DeviceProtection_1  7032 non-null   bool   \n",
            " 24  DeviceProtection_2  7032 non-null   bool   \n",
            " 25  TechSupport_0       7032 non-null   bool   \n",
            " 26  TechSupport_1       7032 non-null   bool   \n",
            " 27  TechSupport_2       7032 non-null   bool   \n",
            " 28  StreamingTV_0       7032 non-null   bool   \n",
            " 29  StreamingTV_1       7032 non-null   bool   \n",
            " 30  StreamingTV_2       7032 non-null   bool   \n",
            " 31  StreamingMovies_0   7032 non-null   bool   \n",
            " 32  StreamingMovies_1   7032 non-null   bool   \n",
            " 33  StreamingMovies_2   7032 non-null   bool   \n",
            " 34  Contract_0          7032 non-null   bool   \n",
            " 35  Contract_1          7032 non-null   bool   \n",
            " 36  Contract_2          7032 non-null   bool   \n",
            " 37  PaymentMethod_0     7032 non-null   bool   \n",
            " 38  PaymentMethod_1     7032 non-null   bool   \n",
            " 39  PaymentMethod_2     7032 non-null   bool   \n",
            " 40  PaymentMethod_3     7032 non-null   bool   \n",
            "dtypes: bool(31), float64(2), int64(2), int8(6)\n",
            "memory usage: 528.8 KB\n"
          ]
        }
      ]
    },
    {
      "cell_type": "code",
      "source": [
        "#@title Divisão estratificada Treino / Validação / Teste (60% / 20% / 20%)\n",
        "X = churn_df.drop(columns=['Churn'])\n",
        "y = churn_df['Churn']\n",
        "\n",
        "X_train, X_test, y_train, y_test = train_test_split(X, y, test_size=0.2, random_state=42, stratify=y)\n",
        "X_train, X_val, y_train, y_val = train_test_split(X_train, y_train, test_size=0.25, random_state=42, stratify=y_train)\n",
        "\n",
        "print(f\"Train shape {X_train.shape}\")\n",
        "print(f\"Validation shape {X_val.shape}\")\n",
        "print(f\"Test shape {X_test.shape}\")"
      ],
      "metadata": {
        "colab": {
          "base_uri": "https://localhost:8080/"
        },
        "cellView": "form",
        "id": "dpoA4qmt9HBt",
        "outputId": "df415275-78ee-43de-adff-be054ed3df80"
      },
      "execution_count": null,
      "outputs": [
        {
          "output_type": "stream",
          "name": "stdout",
          "text": [
            "Train shape (4218, 40)\n",
            "Validation shape (1407, 40)\n",
            "Test shape (1407, 40)\n"
          ]
        }
      ]
    },
    {
      "cell_type": "code",
      "source": [
        "#@title Normalização das features numéricas\n",
        "\n",
        "mean_train = X_train.mean()\n",
        "std_train = X_train.std()\n",
        "\n",
        "X_train_n = X_train.copy(deep=True)\n",
        "X_val_n = X_val.copy(deep=True)\n",
        "X_test_n = X_test.copy(deep=True)\n",
        "\n",
        "for col in numerical_features:\n",
        "  X_train_n[col] = (X_train[col] - mean_train[col]) / std_train[col]\n",
        "  X_val_n[col] = (X_val[col] - mean_train[col]) / std_train[col]\n",
        "  X_test_n[col] = (X_test[col] - mean_train[col]) / std_train[col]\n",
        "\n",
        "print(\"===========================================================================\")\n",
        "print(\"Distribuições do conjunto de treino\")\n",
        "print(\"===========================================================================\")\n",
        "print(X_train.describe())\n",
        "print(\"===========================================================================\")\n",
        "print(\"Distribuições (normalizadas) do conjunto de treino\")\n",
        "print(\"===========================================================================\")\n",
        "print(X_train_n.describe())"
      ],
      "metadata": {
        "colab": {
          "base_uri": "https://localhost:8080/"
        },
        "cellView": "form",
        "id": "34Dkmxhh_qMX",
        "outputId": "bd59697d-fe89-4b52-df1e-c097ea988981"
      },
      "execution_count": null,
      "outputs": [
        {
          "output_type": "stream",
          "name": "stdout",
          "text": [
            "===========================================================================\n",
            "Distribuições do conjunto de treino\n",
            "===========================================================================\n",
            "            gender  SeniorCitizen      Partner   Dependents       tenure  \\\n",
            "count  4218.000000    4218.000000  4218.000000  4218.000000  4218.000000   \n",
            "mean      0.499526       0.161925     0.486486     0.301091    32.402798   \n",
            "std       0.500059       0.368426     0.499877     0.458786    24.487455   \n",
            "min       0.000000       0.000000     0.000000     0.000000     1.000000   \n",
            "25%       0.000000       0.000000     0.000000     0.000000     9.000000   \n",
            "50%       0.000000       0.000000     0.000000     0.000000    29.000000   \n",
            "75%       1.000000       0.000000     1.000000     1.000000    55.000000   \n",
            "max       1.000000       1.000000     1.000000     1.000000    72.000000   \n",
            "\n",
            "       PhoneService  PaperlessBilling  MonthlyCharges  TotalCharges  \n",
            "count   4218.000000       4218.000000     4218.000000   4218.000000  \n",
            "mean       0.900901          0.596254       65.045472   2281.006152  \n",
            "std        0.298830          0.490706       29.876543   2251.557578  \n",
            "min        0.000000          0.000000       18.400000     18.900000  \n",
            "25%        1.000000          0.000000       38.500000    403.562500  \n",
            "50%        1.000000          1.000000       70.700000   1411.625000  \n",
            "75%        1.000000          1.000000       89.850000   3772.362500  \n",
            "max        1.000000          1.000000      118.600000   8670.100000  \n",
            "===========================================================================\n",
            "Distribuições (normalizadas) do conjunto de treino\n",
            "===========================================================================\n",
            "            gender  SeniorCitizen      Partner   Dependents        tenure  \\\n",
            "count  4218.000000    4218.000000  4218.000000  4218.000000  4.218000e+03   \n",
            "mean      0.499526       0.161925     0.486486     0.301091 -1.642435e-17   \n",
            "std       0.500059       0.368426     0.499877     0.458786  1.000000e+00   \n",
            "min       0.000000       0.000000     0.000000     0.000000 -1.282403e+00   \n",
            "25%       0.000000       0.000000     0.000000     0.000000 -9.557056e-01   \n",
            "50%       0.000000       0.000000     0.000000     0.000000 -1.389609e-01   \n",
            "75%       1.000000       0.000000     1.000000     1.000000  9.228073e-01   \n",
            "max       1.000000       1.000000     1.000000     1.000000  1.617040e+00   \n",
            "\n",
            "       PhoneService  PaperlessBilling  MonthlyCharges  TotalCharges  \n",
            "count   4218.000000       4218.000000    4.218000e+03  4.218000e+03  \n",
            "mean       0.900901          0.596254    2.695278e-16  3.537553e-17  \n",
            "std        0.298830          0.490706    1.000000e+00  1.000000e+00  \n",
            "min        0.000000          0.000000   -1.561274e+00 -1.004685e+00  \n",
            "25%        1.000000          0.000000   -8.885055e-01 -8.338422e-01  \n",
            "50%        1.000000          1.000000    1.892631e-01 -3.861243e-01  \n",
            "75%        1.000000          1.000000    8.302342e-01  6.623665e-01  \n",
            "max        1.000000          1.000000    1.792528e+00  2.837633e+00  \n"
          ]
        }
      ]
    },
    {
      "cell_type": "markdown",
      "source": [
        "# Execução inicial com classificadores"
      ],
      "metadata": {
        "id": "WcXslfULJESx"
      }
    },
    {
      "cell_type": "markdown",
      "source": [
        "## MLP"
      ],
      "metadata": {
        "id": "fCaQcByCJHBp"
      }
    },
    {
      "cell_type": "code",
      "source": [
        "#@title Treinamento inicial"
      ],
      "metadata": {
        "id": "1IxuK6U9K0X1"
      },
      "execution_count": null,
      "outputs": []
    },
    {
      "cell_type": "markdown",
      "source": [
        "### Avaliação inicial"
      ],
      "metadata": {
        "id": "gr2hyiZ-K0X2"
      }
    },
    {
      "cell_type": "code",
      "source": [
        "#@title Teste Kolmogorov-Smirnov"
      ],
      "metadata": {
        "id": "uikeebskK0X2"
      },
      "execution_count": null,
      "outputs": []
    },
    {
      "cell_type": "code",
      "source": [
        "#@title (MSE ou Entropia Cruzada)"
      ],
      "metadata": {
        "id": "q2bk13bRK0X2"
      },
      "execution_count": null,
      "outputs": []
    },
    {
      "cell_type": "code",
      "source": [
        "#@title Matriz de confusão"
      ],
      "metadata": {
        "id": "-2q6xbpEK0X2"
      },
      "execution_count": null,
      "outputs": []
    },
    {
      "cell_type": "code",
      "source": [
        "#@title AUC-ROC"
      ],
      "metadata": {
        "id": "tYUV6NdiK0X2"
      },
      "execution_count": null,
      "outputs": []
    },
    {
      "cell_type": "code",
      "source": [
        "#@title Recall, precision e f-score"
      ],
      "metadata": {
        "id": "HwDd5kWRK0X2"
      },
      "execution_count": null,
      "outputs": []
    },
    {
      "cell_type": "markdown",
      "source": [
        "## Random Forest"
      ],
      "metadata": {
        "id": "0afoLfT3JZWB"
      }
    },
    {
      "cell_type": "code",
      "source": [
        "#@title Treinamento inicial"
      ],
      "metadata": {
        "id": "TtUv59RQJ3L_"
      },
      "execution_count": null,
      "outputs": []
    },
    {
      "cell_type": "markdown",
      "source": [
        "### Avaliação inicial"
      ],
      "metadata": {
        "id": "sm6MCamFKTwB"
      }
    },
    {
      "cell_type": "code",
      "source": [
        "#@title Teste Kolmogorov-Smirnov"
      ],
      "metadata": {
        "id": "XhPeL92TJ7Bz"
      },
      "execution_count": null,
      "outputs": []
    },
    {
      "cell_type": "code",
      "source": [
        "#@title (MSE ou Entropia Cruzada)"
      ],
      "metadata": {
        "id": "KAueDtB_KbMc"
      },
      "execution_count": null,
      "outputs": []
    },
    {
      "cell_type": "code",
      "source": [
        "#@title Matriz de confusão"
      ],
      "metadata": {
        "id": "OR1NZ2NmKglk"
      },
      "execution_count": null,
      "outputs": []
    },
    {
      "cell_type": "code",
      "source": [
        "#@title AUC-ROC"
      ],
      "metadata": {
        "id": "ytYB8Ou3KkZc"
      },
      "execution_count": null,
      "outputs": []
    },
    {
      "cell_type": "code",
      "source": [
        "#@title Recall, precision e f-score"
      ],
      "metadata": {
        "id": "xt4SDz5WKscR"
      },
      "execution_count": null,
      "outputs": []
    },
    {
      "cell_type": "markdown",
      "source": [
        "# Otimizando classificadores iniciais"
      ],
      "metadata": {
        "id": "B79dbgAeLzUb"
      }
    },
    {
      "cell_type": "markdown",
      "source": [
        "## MLP"
      ],
      "metadata": {
        "id": "h7H67oBpL4os"
      }
    },
    {
      "cell_type": "markdown",
      "source": [
        "## Random Forest"
      ],
      "metadata": {
        "id": "nQYajDVIL5fu"
      }
    },
    {
      "cell_type": "markdown",
      "source": [
        "# Executando mais classificadores"
      ],
      "metadata": {
        "id": "OKSnG2V0LrLD"
      }
    },
    {
      "cell_type": "markdown",
      "source": [
        "## STab"
      ],
      "metadata": {
        "id": "OXRvMnHlJKbj"
      }
    },
    {
      "cell_type": "code",
      "source": [
        "#@title Treinamento inicial"
      ],
      "metadata": {
        "id": "u3xZEmy0K00K"
      },
      "execution_count": null,
      "outputs": []
    },
    {
      "cell_type": "markdown",
      "source": [
        "### Avaliação inicial"
      ],
      "metadata": {
        "id": "6p0q5oJSK00L"
      }
    },
    {
      "cell_type": "code",
      "source": [
        "#@title Teste Kolmogorov-Smirnov"
      ],
      "metadata": {
        "id": "vYDn06YvK00L"
      },
      "execution_count": null,
      "outputs": []
    },
    {
      "cell_type": "code",
      "source": [
        "#@title (MSE ou Entropia Cruzada)"
      ],
      "metadata": {
        "id": "sgSv0Lz8K00L"
      },
      "execution_count": null,
      "outputs": []
    },
    {
      "cell_type": "code",
      "source": [
        "#@title Matriz de confusão"
      ],
      "metadata": {
        "id": "f9nBZ6SaK00L"
      },
      "execution_count": null,
      "outputs": []
    },
    {
      "cell_type": "code",
      "source": [
        "#@title AUC-ROC"
      ],
      "metadata": {
        "id": "UfjbYQ6JK00L"
      },
      "execution_count": null,
      "outputs": []
    },
    {
      "cell_type": "code",
      "source": [
        "#@title Recall, precision e f-score"
      ],
      "metadata": {
        "id": "pGVMAIW1K00L"
      },
      "execution_count": null,
      "outputs": []
    },
    {
      "cell_type": "markdown",
      "source": [
        "## TabPFN2 Transformer"
      ],
      "metadata": {
        "id": "MXiiKlu2JMoT"
      }
    },
    {
      "cell_type": "code",
      "source": [
        "#@title Treinamento inicial"
      ],
      "metadata": {
        "id": "EBHURQ6XK1Gy"
      },
      "execution_count": null,
      "outputs": []
    },
    {
      "cell_type": "markdown",
      "source": [
        "### Avaliação inicial"
      ],
      "metadata": {
        "id": "SwNO7DP4K1Gy"
      }
    },
    {
      "cell_type": "code",
      "source": [
        "#@title Teste Kolmogorov-Smirnov"
      ],
      "metadata": {
        "id": "HoPCdR_uK1Gy"
      },
      "execution_count": null,
      "outputs": []
    },
    {
      "cell_type": "code",
      "source": [
        "#@title (MSE ou Entropia Cruzada)"
      ],
      "metadata": {
        "id": "1nbRq2_gK1Gy"
      },
      "execution_count": null,
      "outputs": []
    },
    {
      "cell_type": "code",
      "source": [
        "#@title Matriz de confusão"
      ],
      "metadata": {
        "id": "xeQgeWp0K1Gy"
      },
      "execution_count": null,
      "outputs": []
    },
    {
      "cell_type": "code",
      "source": [
        "#@title AUC-ROC"
      ],
      "metadata": {
        "id": "AUkYRuqPK1Gy"
      },
      "execution_count": null,
      "outputs": []
    },
    {
      "cell_type": "code",
      "source": [
        "#@title Recall, precision e f-score"
      ],
      "metadata": {
        "id": "eCRIWTsnK1Gz"
      },
      "execution_count": null,
      "outputs": []
    },
    {
      "cell_type": "markdown",
      "source": [
        "## Gradient Boosting"
      ],
      "metadata": {
        "id": "fSGO55TvJdDf"
      }
    },
    {
      "cell_type": "code",
      "source": [
        "#@title Treinamento inicial"
      ],
      "metadata": {
        "id": "SZHpQBPcKz-u"
      },
      "execution_count": null,
      "outputs": []
    },
    {
      "cell_type": "markdown",
      "source": [
        "### Avaliação inicial"
      ],
      "metadata": {
        "id": "3KYk-el8Kz-v"
      }
    },
    {
      "cell_type": "code",
      "source": [
        "#@title Teste Kolmogorov-Smirnov"
      ],
      "metadata": {
        "id": "V_DlFBGDKz-v"
      },
      "execution_count": null,
      "outputs": []
    },
    {
      "cell_type": "code",
      "source": [
        "#@title (MSE ou Entropia Cruzada)"
      ],
      "metadata": {
        "id": "GtjRE7RXKz-w"
      },
      "execution_count": null,
      "outputs": []
    },
    {
      "cell_type": "code",
      "source": [
        "#@title Matriz de confusão"
      ],
      "metadata": {
        "id": "8XObM720Kz-x"
      },
      "execution_count": null,
      "outputs": []
    },
    {
      "cell_type": "code",
      "source": [
        "#@title AUC-ROC"
      ],
      "metadata": {
        "id": "DK1QbgV7Kz-x"
      },
      "execution_count": null,
      "outputs": []
    },
    {
      "cell_type": "code",
      "source": [
        "#@title Recall, precision e f-score"
      ],
      "metadata": {
        "id": "xd7ZeRhFKz-y"
      },
      "execution_count": null,
      "outputs": []
    },
    {
      "cell_type": "markdown",
      "source": [
        "# Avaliação final"
      ],
      "metadata": {
        "id": "ofwMeTt_MDGY"
      }
    },
    {
      "cell_type": "markdown",
      "source": [
        "## Comparação de métricas de todos os modelos"
      ],
      "metadata": {
        "id": "lAdq6jM1MFqO"
      }
    }
  ]
}