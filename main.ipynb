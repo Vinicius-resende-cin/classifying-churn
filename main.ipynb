{
  "cells": [
    {
      "cell_type": "markdown",
      "metadata": {
        "id": "bY-vqNlNoacX"
      },
      "source": [
        "# Previsão de churn (abandono) em telecom\n",
        "\n",
        "### Referências:\n",
        "- https://github.com/RomeroBarata/IF702-redes-neurais\n",
        "\n",
        "### Grupo 8:\n",
        "- Erbert Gadelha (ebgr)\n",
        "- João Pedro (jpba)\n",
        "- Vinicius Barbosa (vrb)\n",
        "- Almir Alves (aasc)\n",
        "- Felipe Mateus (fmfb)"
      ]
    },
    {
      "cell_type": "markdown",
      "metadata": {
        "id": "xT4On_GqsOxB"
      },
      "source": [
        "# Preparação e importação da base de dados"
      ]
    },
    {
      "cell_type": "code",
      "execution_count": 48,
      "metadata": {
        "id": "IiEYqDaNoWZz",
        "outputId": "6423cf58-479a-4447-b01c-82cd0589c3c8",
        "colab": {
          "base_uri": "https://localhost:8080/"
        }
      },
      "outputs": [
        {
          "output_type": "stream",
          "name": "stdout",
          "text": [
            "Requirement already satisfied: scipy==1.11.4 in /usr/local/lib/python3.11/dist-packages (1.11.4)\n",
            "Requirement already satisfied: scikit-plot in /usr/local/lib/python3.11/dist-packages (0.3.7)\n",
            "Requirement already satisfied: numpy<1.28.0,>=1.21.6 in /usr/local/lib/python3.11/dist-packages (from scipy==1.11.4) (1.26.4)\n",
            "Requirement already satisfied: matplotlib>=1.4.0 in /usr/local/lib/python3.11/dist-packages (from scikit-plot) (3.10.0)\n",
            "Requirement already satisfied: scikit-learn>=0.18 in /usr/local/lib/python3.11/dist-packages (from scikit-plot) (1.6.1)\n",
            "Requirement already satisfied: joblib>=0.10 in /usr/local/lib/python3.11/dist-packages (from scikit-plot) (1.5.1)\n",
            "Requirement already satisfied: contourpy>=1.0.1 in /usr/local/lib/python3.11/dist-packages (from matplotlib>=1.4.0->scikit-plot) (1.3.3)\n",
            "Requirement already satisfied: cycler>=0.10 in /usr/local/lib/python3.11/dist-packages (from matplotlib>=1.4.0->scikit-plot) (0.12.1)\n",
            "Requirement already satisfied: fonttools>=4.22.0 in /usr/local/lib/python3.11/dist-packages (from matplotlib>=1.4.0->scikit-plot) (4.59.0)\n",
            "Requirement already satisfied: kiwisolver>=1.3.1 in /usr/local/lib/python3.11/dist-packages (from matplotlib>=1.4.0->scikit-plot) (1.4.8)\n",
            "Requirement already satisfied: packaging>=20.0 in /usr/local/lib/python3.11/dist-packages (from matplotlib>=1.4.0->scikit-plot) (25.0)\n",
            "Requirement already satisfied: pillow>=8 in /usr/local/lib/python3.11/dist-packages (from matplotlib>=1.4.0->scikit-plot) (11.3.0)\n",
            "Requirement already satisfied: pyparsing>=2.3.1 in /usr/local/lib/python3.11/dist-packages (from matplotlib>=1.4.0->scikit-plot) (3.2.3)\n",
            "Requirement already satisfied: python-dateutil>=2.7 in /usr/local/lib/python3.11/dist-packages (from matplotlib>=1.4.0->scikit-plot) (2.9.0.post0)\n",
            "Requirement already satisfied: threadpoolctl>=3.1.0 in /usr/local/lib/python3.11/dist-packages (from scikit-learn>=0.18->scikit-plot) (3.6.0)\n",
            "Requirement already satisfied: six>=1.5 in /usr/local/lib/python3.11/dist-packages (from python-dateutil>=2.7->matplotlib>=1.4.0->scikit-plot) (1.17.0)\n",
            "Requirement already satisfied: optuna in /usr/local/lib/python3.11/dist-packages (4.4.0)\n",
            "Requirement already satisfied: alembic>=1.5.0 in /usr/local/lib/python3.11/dist-packages (from optuna) (1.16.4)\n",
            "Requirement already satisfied: colorlog in /usr/local/lib/python3.11/dist-packages (from optuna) (6.9.0)\n",
            "Requirement already satisfied: numpy in /usr/local/lib/python3.11/dist-packages (from optuna) (1.26.4)\n",
            "Requirement already satisfied: packaging>=20.0 in /usr/local/lib/python3.11/dist-packages (from optuna) (25.0)\n",
            "Requirement already satisfied: sqlalchemy>=1.4.2 in /usr/local/lib/python3.11/dist-packages (from optuna) (2.0.42)\n",
            "Requirement already satisfied: tqdm in /usr/local/lib/python3.11/dist-packages (from optuna) (4.67.1)\n",
            "Requirement already satisfied: PyYAML in /usr/local/lib/python3.11/dist-packages (from optuna) (6.0.2)\n",
            "Requirement already satisfied: Mako in /usr/lib/python3/dist-packages (from alembic>=1.5.0->optuna) (1.1.3)\n",
            "Requirement already satisfied: typing-extensions>=4.12 in /usr/local/lib/python3.11/dist-packages (from alembic>=1.5.0->optuna) (4.14.1)\n",
            "Requirement already satisfied: greenlet>=1 in /usr/local/lib/python3.11/dist-packages (from sqlalchemy>=1.4.2->optuna) (3.2.3)\n"
          ]
        }
      ],
      "source": [
        "import kagglehub\n",
        "import numpy as np\n",
        "import numpy.typing as npt\n",
        "import pandas as pd\n",
        "import tensorflow as tf\n",
        "\n",
        "import matplotlib.pyplot as plt\n",
        "import seaborn as sns\n",
        "\n",
        "from sklearn.model_selection import train_test_split, learning_curve\n",
        "from sklearn.ensemble import RandomForestClassifier, GradientBoostingClassifier\n",
        "\n",
        "import tensorflow as tf\n",
        "from tensorflow.keras.models import Sequential\n",
        "from tensorflow.keras.layers import Dense, Input, Dropout\n",
        "from tensorflow.keras.optimizers import Adam\n",
        "from tensorflow.keras.callbacks import EarlyStopping\n",
        "\n",
        "from sklearn.metrics import confusion_matrix, roc_auc_score, roc_curve, recall_score, precision_score, f1_score, mean_squared_error\n",
        "\n",
        "!pip install scipy==1.11.4 scikit-plot\n",
        "import scikitplot as skplt\n",
        "\n",
        "!pip install optuna\n",
        "import optuna\n",
        "\n",
        "tf.random.set_seed(42)\n",
        "np.random.seed(42)"
      ]
    },
    {
      "cell_type": "code",
      "execution_count": 2,
      "metadata": {
        "cellView": "form",
        "colab": {
          "base_uri": "https://localhost:8080/",
          "height": 330
        },
        "id": "qOt7IYqYpGgU",
        "outputId": "a084ebc8-b19b-4722-e083-c598d983a80d"
      },
      "outputs": [
        {
          "output_type": "stream",
          "name": "stdout",
          "text": [
            "Path to dataset files: /kaggle/input/customers-churned-in-telecom-services\n",
            "Data shape (7043, 20)\n"
          ]
        },
        {
          "output_type": "execute_result",
          "data": {
            "text/plain": [
              "   gender  SeniorCitizen Partner Dependents  tenure PhoneService  \\\n",
              "0  Female              0     Yes         No       1           No   \n",
              "1    Male              0      No         No      34          Yes   \n",
              "2    Male              0      No         No       2          Yes   \n",
              "3    Male              0      No         No      45           No   \n",
              "4  Female              0      No         No       2          Yes   \n",
              "\n",
              "      MultipleLines InternetService OnlineSecurity OnlineBackup  \\\n",
              "0  No phone service             DSL             No          Yes   \n",
              "1                No             DSL            Yes           No   \n",
              "2                No             DSL            Yes          Yes   \n",
              "3  No phone service             DSL            Yes           No   \n",
              "4                No     Fiber optic             No           No   \n",
              "\n",
              "  DeviceProtection TechSupport StreamingTV StreamingMovies        Contract  \\\n",
              "0               No          No          No              No  Month-to-month   \n",
              "1              Yes          No          No              No        One year   \n",
              "2               No          No          No              No  Month-to-month   \n",
              "3              Yes         Yes          No              No        One year   \n",
              "4               No          No          No              No  Month-to-month   \n",
              "\n",
              "  PaperlessBilling              PaymentMethod  MonthlyCharges  TotalCharges  \\\n",
              "0              Yes           Electronic check           29.85         29.85   \n",
              "1               No               Mailed check           56.95       1889.50   \n",
              "2              Yes               Mailed check           53.85        108.15   \n",
              "3               No  Bank transfer (automatic)           42.30       1840.75   \n",
              "4              Yes           Electronic check           70.70        151.65   \n",
              "\n",
              "  Churn  \n",
              "0    No  \n",
              "1    No  \n",
              "2   Yes  \n",
              "3    No  \n",
              "4   Yes  "
            ],
            "text/html": [
              "\n",
              "  <div id=\"df-aac0c857-00a6-47dd-b5fd-6dce8be40d75\" class=\"colab-df-container\">\n",
              "    <div>\n",
              "<style scoped>\n",
              "    .dataframe tbody tr th:only-of-type {\n",
              "        vertical-align: middle;\n",
              "    }\n",
              "\n",
              "    .dataframe tbody tr th {\n",
              "        vertical-align: top;\n",
              "    }\n",
              "\n",
              "    .dataframe thead th {\n",
              "        text-align: right;\n",
              "    }\n",
              "</style>\n",
              "<table border=\"1\" class=\"dataframe\">\n",
              "  <thead>\n",
              "    <tr style=\"text-align: right;\">\n",
              "      <th></th>\n",
              "      <th>gender</th>\n",
              "      <th>SeniorCitizen</th>\n",
              "      <th>Partner</th>\n",
              "      <th>Dependents</th>\n",
              "      <th>tenure</th>\n",
              "      <th>PhoneService</th>\n",
              "      <th>MultipleLines</th>\n",
              "      <th>InternetService</th>\n",
              "      <th>OnlineSecurity</th>\n",
              "      <th>OnlineBackup</th>\n",
              "      <th>DeviceProtection</th>\n",
              "      <th>TechSupport</th>\n",
              "      <th>StreamingTV</th>\n",
              "      <th>StreamingMovies</th>\n",
              "      <th>Contract</th>\n",
              "      <th>PaperlessBilling</th>\n",
              "      <th>PaymentMethod</th>\n",
              "      <th>MonthlyCharges</th>\n",
              "      <th>TotalCharges</th>\n",
              "      <th>Churn</th>\n",
              "    </tr>\n",
              "  </thead>\n",
              "  <tbody>\n",
              "    <tr>\n",
              "      <th>0</th>\n",
              "      <td>Female</td>\n",
              "      <td>0</td>\n",
              "      <td>Yes</td>\n",
              "      <td>No</td>\n",
              "      <td>1</td>\n",
              "      <td>No</td>\n",
              "      <td>No phone service</td>\n",
              "      <td>DSL</td>\n",
              "      <td>No</td>\n",
              "      <td>Yes</td>\n",
              "      <td>No</td>\n",
              "      <td>No</td>\n",
              "      <td>No</td>\n",
              "      <td>No</td>\n",
              "      <td>Month-to-month</td>\n",
              "      <td>Yes</td>\n",
              "      <td>Electronic check</td>\n",
              "      <td>29.85</td>\n",
              "      <td>29.85</td>\n",
              "      <td>No</td>\n",
              "    </tr>\n",
              "    <tr>\n",
              "      <th>1</th>\n",
              "      <td>Male</td>\n",
              "      <td>0</td>\n",
              "      <td>No</td>\n",
              "      <td>No</td>\n",
              "      <td>34</td>\n",
              "      <td>Yes</td>\n",
              "      <td>No</td>\n",
              "      <td>DSL</td>\n",
              "      <td>Yes</td>\n",
              "      <td>No</td>\n",
              "      <td>Yes</td>\n",
              "      <td>No</td>\n",
              "      <td>No</td>\n",
              "      <td>No</td>\n",
              "      <td>One year</td>\n",
              "      <td>No</td>\n",
              "      <td>Mailed check</td>\n",
              "      <td>56.95</td>\n",
              "      <td>1889.50</td>\n",
              "      <td>No</td>\n",
              "    </tr>\n",
              "    <tr>\n",
              "      <th>2</th>\n",
              "      <td>Male</td>\n",
              "      <td>0</td>\n",
              "      <td>No</td>\n",
              "      <td>No</td>\n",
              "      <td>2</td>\n",
              "      <td>Yes</td>\n",
              "      <td>No</td>\n",
              "      <td>DSL</td>\n",
              "      <td>Yes</td>\n",
              "      <td>Yes</td>\n",
              "      <td>No</td>\n",
              "      <td>No</td>\n",
              "      <td>No</td>\n",
              "      <td>No</td>\n",
              "      <td>Month-to-month</td>\n",
              "      <td>Yes</td>\n",
              "      <td>Mailed check</td>\n",
              "      <td>53.85</td>\n",
              "      <td>108.15</td>\n",
              "      <td>Yes</td>\n",
              "    </tr>\n",
              "    <tr>\n",
              "      <th>3</th>\n",
              "      <td>Male</td>\n",
              "      <td>0</td>\n",
              "      <td>No</td>\n",
              "      <td>No</td>\n",
              "      <td>45</td>\n",
              "      <td>No</td>\n",
              "      <td>No phone service</td>\n",
              "      <td>DSL</td>\n",
              "      <td>Yes</td>\n",
              "      <td>No</td>\n",
              "      <td>Yes</td>\n",
              "      <td>Yes</td>\n",
              "      <td>No</td>\n",
              "      <td>No</td>\n",
              "      <td>One year</td>\n",
              "      <td>No</td>\n",
              "      <td>Bank transfer (automatic)</td>\n",
              "      <td>42.30</td>\n",
              "      <td>1840.75</td>\n",
              "      <td>No</td>\n",
              "    </tr>\n",
              "    <tr>\n",
              "      <th>4</th>\n",
              "      <td>Female</td>\n",
              "      <td>0</td>\n",
              "      <td>No</td>\n",
              "      <td>No</td>\n",
              "      <td>2</td>\n",
              "      <td>Yes</td>\n",
              "      <td>No</td>\n",
              "      <td>Fiber optic</td>\n",
              "      <td>No</td>\n",
              "      <td>No</td>\n",
              "      <td>No</td>\n",
              "      <td>No</td>\n",
              "      <td>No</td>\n",
              "      <td>No</td>\n",
              "      <td>Month-to-month</td>\n",
              "      <td>Yes</td>\n",
              "      <td>Electronic check</td>\n",
              "      <td>70.70</td>\n",
              "      <td>151.65</td>\n",
              "      <td>Yes</td>\n",
              "    </tr>\n",
              "  </tbody>\n",
              "</table>\n",
              "</div>\n",
              "    <div class=\"colab-df-buttons\">\n",
              "\n",
              "  <div class=\"colab-df-container\">\n",
              "    <button class=\"colab-df-convert\" onclick=\"convertToInteractive('df-aac0c857-00a6-47dd-b5fd-6dce8be40d75')\"\n",
              "            title=\"Convert this dataframe to an interactive table.\"\n",
              "            style=\"display:none;\">\n",
              "\n",
              "  <svg xmlns=\"http://www.w3.org/2000/svg\" height=\"24px\" viewBox=\"0 -960 960 960\">\n",
              "    <path d=\"M120-120v-720h720v720H120Zm60-500h600v-160H180v160Zm220 220h160v-160H400v160Zm0 220h160v-160H400v160ZM180-400h160v-160H180v160Zm440 0h160v-160H620v160ZM180-180h160v-160H180v160Zm440 0h160v-160H620v160Z\"/>\n",
              "  </svg>\n",
              "    </button>\n",
              "\n",
              "  <style>\n",
              "    .colab-df-container {\n",
              "      display:flex;\n",
              "      gap: 12px;\n",
              "    }\n",
              "\n",
              "    .colab-df-convert {\n",
              "      background-color: #E8F0FE;\n",
              "      border: none;\n",
              "      border-radius: 50%;\n",
              "      cursor: pointer;\n",
              "      display: none;\n",
              "      fill: #1967D2;\n",
              "      height: 32px;\n",
              "      padding: 0 0 0 0;\n",
              "      width: 32px;\n",
              "    }\n",
              "\n",
              "    .colab-df-convert:hover {\n",
              "      background-color: #E2EBFA;\n",
              "      box-shadow: 0px 1px 2px rgba(60, 64, 67, 0.3), 0px 1px 3px 1px rgba(60, 64, 67, 0.15);\n",
              "      fill: #174EA6;\n",
              "    }\n",
              "\n",
              "    .colab-df-buttons div {\n",
              "      margin-bottom: 4px;\n",
              "    }\n",
              "\n",
              "    [theme=dark] .colab-df-convert {\n",
              "      background-color: #3B4455;\n",
              "      fill: #D2E3FC;\n",
              "    }\n",
              "\n",
              "    [theme=dark] .colab-df-convert:hover {\n",
              "      background-color: #434B5C;\n",
              "      box-shadow: 0px 1px 3px 1px rgba(0, 0, 0, 0.15);\n",
              "      filter: drop-shadow(0px 1px 2px rgba(0, 0, 0, 0.3));\n",
              "      fill: #FFFFFF;\n",
              "    }\n",
              "  </style>\n",
              "\n",
              "    <script>\n",
              "      const buttonEl =\n",
              "        document.querySelector('#df-aac0c857-00a6-47dd-b5fd-6dce8be40d75 button.colab-df-convert');\n",
              "      buttonEl.style.display =\n",
              "        google.colab.kernel.accessAllowed ? 'block' : 'none';\n",
              "\n",
              "      async function convertToInteractive(key) {\n",
              "        const element = document.querySelector('#df-aac0c857-00a6-47dd-b5fd-6dce8be40d75');\n",
              "        const dataTable =\n",
              "          await google.colab.kernel.invokeFunction('convertToInteractive',\n",
              "                                                    [key], {});\n",
              "        if (!dataTable) return;\n",
              "\n",
              "        const docLinkHtml = 'Like what you see? Visit the ' +\n",
              "          '<a target=\"_blank\" href=https://colab.research.google.com/notebooks/data_table.ipynb>data table notebook</a>'\n",
              "          + ' to learn more about interactive tables.';\n",
              "        element.innerHTML = '';\n",
              "        dataTable['output_type'] = 'display_data';\n",
              "        await google.colab.output.renderOutput(dataTable, element);\n",
              "        const docLink = document.createElement('div');\n",
              "        docLink.innerHTML = docLinkHtml;\n",
              "        element.appendChild(docLink);\n",
              "      }\n",
              "    </script>\n",
              "  </div>\n",
              "\n",
              "\n",
              "    <div id=\"df-f4d6cb43-4ac0-453f-a65a-4d6637fd4b6b\">\n",
              "      <button class=\"colab-df-quickchart\" onclick=\"quickchart('df-f4d6cb43-4ac0-453f-a65a-4d6637fd4b6b')\"\n",
              "                title=\"Suggest charts\"\n",
              "                style=\"display:none;\">\n",
              "\n",
              "<svg xmlns=\"http://www.w3.org/2000/svg\" height=\"24px\"viewBox=\"0 0 24 24\"\n",
              "     width=\"24px\">\n",
              "    <g>\n",
              "        <path d=\"M19 3H5c-1.1 0-2 .9-2 2v14c0 1.1.9 2 2 2h14c1.1 0 2-.9 2-2V5c0-1.1-.9-2-2-2zM9 17H7v-7h2v7zm4 0h-2V7h2v10zm4 0h-2v-4h2v4z\"/>\n",
              "    </g>\n",
              "</svg>\n",
              "      </button>\n",
              "\n",
              "<style>\n",
              "  .colab-df-quickchart {\n",
              "      --bg-color: #E8F0FE;\n",
              "      --fill-color: #1967D2;\n",
              "      --hover-bg-color: #E2EBFA;\n",
              "      --hover-fill-color: #174EA6;\n",
              "      --disabled-fill-color: #AAA;\n",
              "      --disabled-bg-color: #DDD;\n",
              "  }\n",
              "\n",
              "  [theme=dark] .colab-df-quickchart {\n",
              "      --bg-color: #3B4455;\n",
              "      --fill-color: #D2E3FC;\n",
              "      --hover-bg-color: #434B5C;\n",
              "      --hover-fill-color: #FFFFFF;\n",
              "      --disabled-bg-color: #3B4455;\n",
              "      --disabled-fill-color: #666;\n",
              "  }\n",
              "\n",
              "  .colab-df-quickchart {\n",
              "    background-color: var(--bg-color);\n",
              "    border: none;\n",
              "    border-radius: 50%;\n",
              "    cursor: pointer;\n",
              "    display: none;\n",
              "    fill: var(--fill-color);\n",
              "    height: 32px;\n",
              "    padding: 0;\n",
              "    width: 32px;\n",
              "  }\n",
              "\n",
              "  .colab-df-quickchart:hover {\n",
              "    background-color: var(--hover-bg-color);\n",
              "    box-shadow: 0 1px 2px rgba(60, 64, 67, 0.3), 0 1px 3px 1px rgba(60, 64, 67, 0.15);\n",
              "    fill: var(--button-hover-fill-color);\n",
              "  }\n",
              "\n",
              "  .colab-df-quickchart-complete:disabled,\n",
              "  .colab-df-quickchart-complete:disabled:hover {\n",
              "    background-color: var(--disabled-bg-color);\n",
              "    fill: var(--disabled-fill-color);\n",
              "    box-shadow: none;\n",
              "  }\n",
              "\n",
              "  .colab-df-spinner {\n",
              "    border: 2px solid var(--fill-color);\n",
              "    border-color: transparent;\n",
              "    border-bottom-color: var(--fill-color);\n",
              "    animation:\n",
              "      spin 1s steps(1) infinite;\n",
              "  }\n",
              "\n",
              "  @keyframes spin {\n",
              "    0% {\n",
              "      border-color: transparent;\n",
              "      border-bottom-color: var(--fill-color);\n",
              "      border-left-color: var(--fill-color);\n",
              "    }\n",
              "    20% {\n",
              "      border-color: transparent;\n",
              "      border-left-color: var(--fill-color);\n",
              "      border-top-color: var(--fill-color);\n",
              "    }\n",
              "    30% {\n",
              "      border-color: transparent;\n",
              "      border-left-color: var(--fill-color);\n",
              "      border-top-color: var(--fill-color);\n",
              "      border-right-color: var(--fill-color);\n",
              "    }\n",
              "    40% {\n",
              "      border-color: transparent;\n",
              "      border-right-color: var(--fill-color);\n",
              "      border-top-color: var(--fill-color);\n",
              "    }\n",
              "    60% {\n",
              "      border-color: transparent;\n",
              "      border-right-color: var(--fill-color);\n",
              "    }\n",
              "    80% {\n",
              "      border-color: transparent;\n",
              "      border-right-color: var(--fill-color);\n",
              "      border-bottom-color: var(--fill-color);\n",
              "    }\n",
              "    90% {\n",
              "      border-color: transparent;\n",
              "      border-bottom-color: var(--fill-color);\n",
              "    }\n",
              "  }\n",
              "</style>\n",
              "\n",
              "      <script>\n",
              "        async function quickchart(key) {\n",
              "          const quickchartButtonEl =\n",
              "            document.querySelector('#' + key + ' button');\n",
              "          quickchartButtonEl.disabled = true;  // To prevent multiple clicks.\n",
              "          quickchartButtonEl.classList.add('colab-df-spinner');\n",
              "          try {\n",
              "            const charts = await google.colab.kernel.invokeFunction(\n",
              "                'suggestCharts', [key], {});\n",
              "          } catch (error) {\n",
              "            console.error('Error during call to suggestCharts:', error);\n",
              "          }\n",
              "          quickchartButtonEl.classList.remove('colab-df-spinner');\n",
              "          quickchartButtonEl.classList.add('colab-df-quickchart-complete');\n",
              "        }\n",
              "        (() => {\n",
              "          let quickchartButtonEl =\n",
              "            document.querySelector('#df-f4d6cb43-4ac0-453f-a65a-4d6637fd4b6b button');\n",
              "          quickchartButtonEl.style.display =\n",
              "            google.colab.kernel.accessAllowed ? 'block' : 'none';\n",
              "        })();\n",
              "      </script>\n",
              "    </div>\n",
              "\n",
              "    </div>\n",
              "  </div>\n"
            ],
            "application/vnd.google.colaboratory.intrinsic+json": {
              "type": "dataframe",
              "variable_name": "churn_df",
              "summary": "{\n  \"name\": \"churn_df\",\n  \"rows\": 7043,\n  \"fields\": [\n    {\n      \"column\": \"gender\",\n      \"properties\": {\n        \"dtype\": \"category\",\n        \"num_unique_values\": 2,\n        \"samples\": [\n          \"Male\",\n          \"Female\"\n        ],\n        \"semantic_type\": \"\",\n        \"description\": \"\"\n      }\n    },\n    {\n      \"column\": \"SeniorCitizen\",\n      \"properties\": {\n        \"dtype\": \"number\",\n        \"std\": 0,\n        \"min\": 0,\n        \"max\": 1,\n        \"num_unique_values\": 2,\n        \"samples\": [\n          1,\n          0\n        ],\n        \"semantic_type\": \"\",\n        \"description\": \"\"\n      }\n    },\n    {\n      \"column\": \"Partner\",\n      \"properties\": {\n        \"dtype\": \"category\",\n        \"num_unique_values\": 2,\n        \"samples\": [\n          \"No\",\n          \"Yes\"\n        ],\n        \"semantic_type\": \"\",\n        \"description\": \"\"\n      }\n    },\n    {\n      \"column\": \"Dependents\",\n      \"properties\": {\n        \"dtype\": \"category\",\n        \"num_unique_values\": 2,\n        \"samples\": [\n          \"Yes\",\n          \"No\"\n        ],\n        \"semantic_type\": \"\",\n        \"description\": \"\"\n      }\n    },\n    {\n      \"column\": \"tenure\",\n      \"properties\": {\n        \"dtype\": \"number\",\n        \"std\": 24,\n        \"min\": 0,\n        \"max\": 72,\n        \"num_unique_values\": 73,\n        \"samples\": [\n          8,\n          40\n        ],\n        \"semantic_type\": \"\",\n        \"description\": \"\"\n      }\n    },\n    {\n      \"column\": \"PhoneService\",\n      \"properties\": {\n        \"dtype\": \"category\",\n        \"num_unique_values\": 2,\n        \"samples\": [\n          \"Yes\",\n          \"No\"\n        ],\n        \"semantic_type\": \"\",\n        \"description\": \"\"\n      }\n    },\n    {\n      \"column\": \"MultipleLines\",\n      \"properties\": {\n        \"dtype\": \"category\",\n        \"num_unique_values\": 3,\n        \"samples\": [\n          \"No phone service\",\n          \"No\"\n        ],\n        \"semantic_type\": \"\",\n        \"description\": \"\"\n      }\n    },\n    {\n      \"column\": \"InternetService\",\n      \"properties\": {\n        \"dtype\": \"category\",\n        \"num_unique_values\": 3,\n        \"samples\": [\n          \"DSL\",\n          \"Fiber optic\"\n        ],\n        \"semantic_type\": \"\",\n        \"description\": \"\"\n      }\n    },\n    {\n      \"column\": \"OnlineSecurity\",\n      \"properties\": {\n        \"dtype\": \"category\",\n        \"num_unique_values\": 3,\n        \"samples\": [\n          \"No\",\n          \"Yes\"\n        ],\n        \"semantic_type\": \"\",\n        \"description\": \"\"\n      }\n    },\n    {\n      \"column\": \"OnlineBackup\",\n      \"properties\": {\n        \"dtype\": \"category\",\n        \"num_unique_values\": 3,\n        \"samples\": [\n          \"Yes\",\n          \"No\"\n        ],\n        \"semantic_type\": \"\",\n        \"description\": \"\"\n      }\n    },\n    {\n      \"column\": \"DeviceProtection\",\n      \"properties\": {\n        \"dtype\": \"category\",\n        \"num_unique_values\": 3,\n        \"samples\": [\n          \"No\",\n          \"Yes\"\n        ],\n        \"semantic_type\": \"\",\n        \"description\": \"\"\n      }\n    },\n    {\n      \"column\": \"TechSupport\",\n      \"properties\": {\n        \"dtype\": \"category\",\n        \"num_unique_values\": 3,\n        \"samples\": [\n          \"No\",\n          \"Yes\"\n        ],\n        \"semantic_type\": \"\",\n        \"description\": \"\"\n      }\n    },\n    {\n      \"column\": \"StreamingTV\",\n      \"properties\": {\n        \"dtype\": \"category\",\n        \"num_unique_values\": 3,\n        \"samples\": [\n          \"No\",\n          \"Yes\"\n        ],\n        \"semantic_type\": \"\",\n        \"description\": \"\"\n      }\n    },\n    {\n      \"column\": \"StreamingMovies\",\n      \"properties\": {\n        \"dtype\": \"category\",\n        \"num_unique_values\": 3,\n        \"samples\": [\n          \"No\",\n          \"Yes\"\n        ],\n        \"semantic_type\": \"\",\n        \"description\": \"\"\n      }\n    },\n    {\n      \"column\": \"Contract\",\n      \"properties\": {\n        \"dtype\": \"category\",\n        \"num_unique_values\": 3,\n        \"samples\": [\n          \"Month-to-month\",\n          \"One year\"\n        ],\n        \"semantic_type\": \"\",\n        \"description\": \"\"\n      }\n    },\n    {\n      \"column\": \"PaperlessBilling\",\n      \"properties\": {\n        \"dtype\": \"category\",\n        \"num_unique_values\": 2,\n        \"samples\": [\n          \"No\",\n          \"Yes\"\n        ],\n        \"semantic_type\": \"\",\n        \"description\": \"\"\n      }\n    },\n    {\n      \"column\": \"PaymentMethod\",\n      \"properties\": {\n        \"dtype\": \"category\",\n        \"num_unique_values\": 4,\n        \"samples\": [\n          \"Mailed check\",\n          \"Credit card (automatic)\"\n        ],\n        \"semantic_type\": \"\",\n        \"description\": \"\"\n      }\n    },\n    {\n      \"column\": \"MonthlyCharges\",\n      \"properties\": {\n        \"dtype\": \"number\",\n        \"std\": 30.09004709767854,\n        \"min\": 18.25,\n        \"max\": 118.75,\n        \"num_unique_values\": 1585,\n        \"samples\": [\n          48.85,\n          20.05\n        ],\n        \"semantic_type\": \"\",\n        \"description\": \"\"\n      }\n    },\n    {\n      \"column\": \"TotalCharges\",\n      \"properties\": {\n        \"dtype\": \"number\",\n        \"std\": 2266.7713618831453,\n        \"min\": 18.8,\n        \"max\": 8684.8,\n        \"num_unique_values\": 6530,\n        \"samples\": [\n          5594.0,\n          6840.95\n        ],\n        \"semantic_type\": \"\",\n        \"description\": \"\"\n      }\n    },\n    {\n      \"column\": \"Churn\",\n      \"properties\": {\n        \"dtype\": \"category\",\n        \"num_unique_values\": 2,\n        \"samples\": [\n          \"Yes\",\n          \"No\"\n        ],\n        \"semantic_type\": \"\",\n        \"description\": \"\"\n      }\n    }\n  ]\n}"
            }
          },
          "metadata": {},
          "execution_count": 2
        }
      ],
      "source": [
        "#@title Download data and create DataFrame\n",
        "churn_data_path = kagglehub.dataset_download(\"kapturovalexander/customers-churned-in-telecom-services\")\n",
        "print(\"Path to dataset files:\", churn_data_path)\n",
        "\n",
        "churn_df = pd.read_csv(churn_data_path + \"/customer_churn_telecom_services.csv\")\n",
        "print(f\"Data shape {churn_df.shape}\")\n",
        "churn_df.head()"
      ]
    },
    {
      "cell_type": "markdown",
      "metadata": {
        "id": "x3W4L-87qsVH"
      },
      "source": [
        "# Exploração dos dados\n",
        "\n",
        "### Descrição das colunas:\n",
        "\n",
        "| Column Name | Description |\n",
        "|-------------|-------------|\n",
        "| gender | Customer's gender (Male/Female) |\n",
        "| SeniorCitizen |\tIndicates if the customer is a senior citizen (1 = Yes, 0 = No) |\n",
        "| Partner | Whether the customer has a partner (Yes/No) |\n",
        "| Dependents | Whether the customer has dependents (Yes/No) |\n",
        "|tenure |\tNumber of months the customer has stayed with the company |\n",
        "|PhoneService |\tWhether the customer has a phone service (Yes/No) |\n",
        "|MultipleLines | Whether the customer has multiple phone lines (No, Yes, No phone service) |\n",
        "|InternetService | Type of internet service (DSL, Fiber optic, No) |\n",
        "|OnlineSecurity |\tWhether the customer has online security (Yes, No, No internet service) |\n",
        "|OnlineBackup |\tWhether the customer has online backup (Yes, No, No internet service) |\n",
        "|DeviceProtection |\tWhether the customer has device protection (Yes, No, No internet service) |\n",
        "|TechSupport | Whether the customer has tech support (Yes, No, No internet service) |\n",
        "|StreamingTV | Whether the customer has streaming TV (Yes, No, No internet service) |\n",
        "|StreamingMovies |\tWhether the customer has streaming movies (Yes, No, No internet service) |\n",
        "|Contract |\tType of contract (Month-to-month, One year, Two year) |\n",
        "|PaperlessBilling |\tWhether the customer has paperless billing (Yes/No) |\n",
        "|PaymentMethod | Payment method used (Electronic check, Mailed check, Bank transfer, Credit card) |\n",
        "|MonthlyCharges |\tMonthly charges the customer pays |\n",
        "|TotalCharges |\tTotal amount charged to the customer |\n",
        "|Churn |\tWhether the customer has churned (Yes/No) |"
      ]
    },
    {
      "cell_type": "markdown",
      "metadata": {
        "id": "CstWx2p3o3Zi"
      },
      "source": [
        "## Verificando valores nulos"
      ]
    },
    {
      "cell_type": "code",
      "execution_count": 4,
      "metadata": {
        "cellView": "form",
        "colab": {
          "base_uri": "https://localhost:8080/"
        },
        "id": "QI-4B2d5qu6f",
        "outputId": "190852e3-29f2-4a8c-c2bd-519b8bd7578f"
      },
      "outputs": [
        {
          "output_type": "stream",
          "name": "stdout",
          "text": [
            "<class 'pandas.core.frame.DataFrame'>\n",
            "RangeIndex: 7043 entries, 0 to 7042\n",
            "Data columns (total 20 columns):\n",
            " #   Column            Non-Null Count  Dtype  \n",
            "---  ------            --------------  -----  \n",
            " 0   gender            7043 non-null   object \n",
            " 1   SeniorCitizen     7043 non-null   int64  \n",
            " 2   Partner           7043 non-null   object \n",
            " 3   Dependents        7043 non-null   object \n",
            " 4   tenure            7043 non-null   int64  \n",
            " 5   PhoneService      7043 non-null   object \n",
            " 6   MultipleLines     7043 non-null   object \n",
            " 7   InternetService   7043 non-null   object \n",
            " 8   OnlineSecurity    7043 non-null   object \n",
            " 9   OnlineBackup      7043 non-null   object \n",
            " 10  DeviceProtection  7043 non-null   object \n",
            " 11  TechSupport       7043 non-null   object \n",
            " 12  StreamingTV       7043 non-null   object \n",
            " 13  StreamingMovies   7043 non-null   object \n",
            " 14  Contract          7043 non-null   object \n",
            " 15  PaperlessBilling  7043 non-null   object \n",
            " 16  PaymentMethod     7043 non-null   object \n",
            " 17  MonthlyCharges    7043 non-null   float64\n",
            " 18  TotalCharges      7032 non-null   float64\n",
            " 19  Churn             7043 non-null   object \n",
            "dtypes: float64(2), int64(2), object(16)\n",
            "memory usage: 1.1+ MB\n"
          ]
        }
      ],
      "source": [
        "#@title Verificando o dataset\n",
        "churn_df.info()\n",
        "nulls = churn_df['TotalCharges'].isnull().sum()"
      ]
    },
    {
      "cell_type": "markdown",
      "metadata": {
        "id": "Sc-lDPCwoI0A"
      },
      "source": [
        "A colunas `TotalCharges` possui 11 valores nulos, portanto essas amostras serão removidas."
      ]
    },
    {
      "cell_type": "code",
      "execution_count": 5,
      "metadata": {
        "cellView": "form",
        "colab": {
          "base_uri": "https://localhost:8080/"
        },
        "id": "D8vdJ8JXoVa6",
        "outputId": "68ee06c3-1d57-424b-ea18-d49dde1f5474"
      },
      "outputs": [
        {
          "output_type": "stream",
          "name": "stdout",
          "text": [
            "Data shape (before cleaning) (7043, 20)\n",
            "Data shape (after cleaning) (7032, 20)\n"
          ]
        }
      ],
      "source": [
        "#@title Removendo valores nulos\n",
        "print(f\"Data shape (before cleaning) {churn_df.shape}\")\n",
        "churn_df = churn_df.dropna()\n",
        "print(f\"Data shape (after cleaning) {churn_df.shape}\")"
      ]
    },
    {
      "cell_type": "markdown",
      "metadata": {
        "id": "Q6dDywiHIuiP"
      },
      "source": [
        "## Verificando outliers"
      ]
    },
    {
      "cell_type": "code",
      "execution_count": 6,
      "metadata": {
        "cellView": "form",
        "colab": {
          "base_uri": "https://localhost:8080/",
          "height": 0
        },
        "id": "u7-MFynfIxxp",
        "outputId": "7b3b7218-1d6d-4acd-c311-b380997f64fb"
      },
      "outputs": [
        {
          "output_type": "display_data",
          "data": {
            "text/plain": [
              "<Figure size 1500x500 with 3 Axes>"
            ],
            "image/png": "[encoded data removed]"
          },
          "metadata": {}
        }
      ],
      "source": [
        "#@title Verificando a existência de outliers\n",
        "\n",
        "numerical_features = ['tenure', 'MonthlyCharges', 'TotalCharges']\n",
        "colors = ['tab:orange', 'tab:blue', 'tab:green']\n",
        "fig, axes = plt.subplots(1, 3, figsize=(15, 5))\n",
        "for i, feature in enumerate(numerical_features):\n",
        "  sns.boxplot(churn_df, x=feature, ax=axes[i], color=colors[i])\n",
        "plt.tight_layout()"
      ]
    },
    {
      "cell_type": "markdown",
      "metadata": {
        "id": "Em3nWMe9o8_K"
      },
      "source": [
        "## Analisando distribuições"
      ]
    },
    {
      "cell_type": "markdown",
      "metadata": {
        "id": "4pCzjZEOqH7w"
      },
      "source": [
        "### Features Contínuas"
      ]
    },
    {
      "cell_type": "code",
      "execution_count": 7,
      "metadata": {
        "cellView": "form",
        "colab": {
          "base_uri": "https://localhost:8080/",
          "height": 0
        },
        "id": "FU-G1VWopAHq",
        "outputId": "d355dc26-7152-476d-c1b4-7871c0c5d75d"
      },
      "outputs": [
        {
          "output_type": "display_data",
          "data": {
            "text/plain": [
              "<Figure size 1500x500 with 3 Axes>"
            ],
            "image/png": "[encoded data removed]"
          },
          "metadata": {}
        }
      ],
      "source": [
        "#@title Histograma por abandono\n",
        "\n",
        "fig, axes = plt.subplots(1, 3, figsize=(15, 5))\n",
        "for i, feature in enumerate(numerical_features):\n",
        "  sns.histplot(churn_df, x=feature, ax=axes[i], hue='Churn')\n",
        "plt.tight_layout()\n",
        "plt.show()"
      ]
    },
    {
      "cell_type": "markdown",
      "metadata": {
        "id": "ha-MV1qRsMP9"
      },
      "source": [
        "A partir das distribuições podemos deduzir os seguintes pontos:\n",
        "*   Clientes jovens tendem a abandonar mais, enquanto pessoas com mais idade tendem a continuar sendo clientes\n",
        "*   Cobranças mensais muito baixas contribuem para uma alta taxa de fidelidade, mas valores mais altos não apresentam uma influência notável\n",
        "\n"
      ]
    },
    {
      "cell_type": "markdown",
      "metadata": {
        "id": "d9NH8OGF8-Gm"
      },
      "source": [
        "# Preparação dos dados"
      ]
    },
    {
      "cell_type": "code",
      "execution_count": 8,
      "metadata": {
        "cellView": "form",
        "colab": {
          "base_uri": "https://localhost:8080/"
        },
        "id": "vfhSuOXJBHDQ",
        "outputId": "cfbb937d-dcf6-479a-99b9-c3c3a768c442"
      },
      "outputs": [
        {
          "output_type": "stream",
          "name": "stdout",
          "text": [
            "<class 'pandas.core.frame.DataFrame'>\n",
            "Index: 7032 entries, 0 to 7042\n",
            "Data columns (total 41 columns):\n",
            " #   Column              Non-Null Count  Dtype  \n",
            "---  ------              --------------  -----  \n",
            " 0   gender              7032 non-null   int8   \n",
            " 1   SeniorCitizen       7032 non-null   int64  \n",
            " 2   Partner             7032 non-null   int8   \n",
            " 3   Dependents          7032 non-null   int8   \n",
            " 4   tenure              7032 non-null   int64  \n",
            " 5   PhoneService        7032 non-null   int8   \n",
            " 6   PaperlessBilling    7032 non-null   int8   \n",
            " 7   MonthlyCharges      7032 non-null   float64\n",
            " 8   TotalCharges        7032 non-null   float64\n",
            " 9   Churn               7032 non-null   int8   \n",
            " 10  MultipleLines_0     7032 non-null   bool   \n",
            " 11  MultipleLines_1     7032 non-null   bool   \n",
            " 12  MultipleLines_2     7032 non-null   bool   \n",
            " 13  InternetService_0   7032 non-null   bool   \n",
            " 14  InternetService_1   7032 non-null   bool   \n",
            " 15  InternetService_2   7032 non-null   bool   \n",
            " 16  OnlineSecurity_0    7032 non-null   bool   \n",
            " 17  OnlineSecurity_1    7032 non-null   bool   \n",
            " 18  OnlineSecurity_2    7032 non-null   bool   \n",
            " 19  OnlineBackup_0      7032 non-null   bool   \n",
            " 20  OnlineBackup_1      7032 non-null   bool   \n",
            " 21  OnlineBackup_2      7032 non-null   bool   \n",
            " 22  DeviceProtection_0  7032 non-null   bool   \n",
            " 23  DeviceProtection_1  7032 non-null   bool   \n",
            " 24  DeviceProtection_2  7032 non-null   bool   \n",
            " 25  TechSupport_0       7032 non-null   bool   \n",
            " 26  TechSupport_1       7032 non-null   bool   \n",
            " 27  TechSupport_2       7032 non-null   bool   \n",
            " 28  StreamingTV_0       7032 non-null   bool   \n",
            " 29  StreamingTV_1       7032 non-null   bool   \n",
            " 30  StreamingTV_2       7032 non-null   bool   \n",
            " 31  StreamingMovies_0   7032 non-null   bool   \n",
            " 32  StreamingMovies_1   7032 non-null   bool   \n",
            " 33  StreamingMovies_2   7032 non-null   bool   \n",
            " 34  Contract_0          7032 non-null   bool   \n",
            " 35  Contract_1          7032 non-null   bool   \n",
            " 36  Contract_2          7032 non-null   bool   \n",
            " 37  PaymentMethod_0     7032 non-null   bool   \n",
            " 38  PaymentMethod_1     7032 non-null   bool   \n",
            " 39  PaymentMethod_2     7032 non-null   bool   \n",
            " 40  PaymentMethod_3     7032 non-null   bool   \n",
            "dtypes: bool(31), float64(2), int64(2), int8(6)\n",
            "memory usage: 528.8 KB\n"
          ]
        }
      ],
      "source": [
        "#@title Convertendo tipos categóricos\n",
        "\n",
        "cat_df = churn_df.select_dtypes(include=['object', 'category'])\n",
        "for col in cat_df.columns:\n",
        "  churn_df[col] = churn_df[col].astype('category')\n",
        "  churn_df[col] = churn_df[col].cat.codes\n",
        "\n",
        "  if col == 'Churn':\n",
        "    continue\n",
        "\n",
        "  # one hot encode if more than 2 alternatives\n",
        "  if len(churn_df[col].unique()) > 2:\n",
        "    churn_df = pd.concat([churn_df, pd.get_dummies(churn_df[col], prefix=col)], axis=1)\n",
        "    churn_df = churn_df.drop(columns=[col])\n",
        "\n",
        "churn_df.info()"
      ]
    },
    {
      "cell_type": "code",
      "execution_count": 9,
      "metadata": {
        "cellView": "form",
        "colab": {
          "base_uri": "https://localhost:8080/"
        },
        "id": "dpoA4qmt9HBt",
        "outputId": "a740f828-b645-4ae2-e1c3-dd4838aab18b"
      },
      "outputs": [
        {
          "output_type": "stream",
          "name": "stdout",
          "text": [
            "Train shape (3516, 40)\n",
            "Validation shape (1758, 40)\n",
            "Test shape (1758, 40)\n"
          ]
        }
      ],
      "source": [
        "#@title Divisão estratificada Treino / Validação / Teste (50% / 25% / 25%)\n",
        "X = churn_df.drop(columns=['Churn'])\n",
        "y = churn_df['Churn']\n",
        "\n",
        "X_train, X_temp, y_train, y_temp = train_test_split(X, y, test_size=0.5, random_state=42, stratify=y)\n",
        "X_val, X_test, y_val, y_test = train_test_split(X_temp, y_temp, test_size=0.5, random_state=42, stratify=y_temp)\n",
        "\n",
        "print(f\"Train shape {X_train.shape}\")\n",
        "print(f\"Validation shape {X_val.shape}\")\n",
        "print(f\"Test shape {X_test.shape}\")"
      ]
    },
    {
      "cell_type": "code",
      "execution_count": 10,
      "metadata": {
        "cellView": "form",
        "colab": {
          "base_uri": "https://localhost:8080/"
        },
        "id": "34Dkmxhh_qMX",
        "outputId": "20db1706-e92e-4916-c8b4-c4a44772ae8a"
      },
      "outputs": [
        {
          "output_type": "stream",
          "name": "stdout",
          "text": [
            "===========================================================================\n",
            "Distribuições do conjunto de treino\n",
            "===========================================================================\n",
            "            gender  SeniorCitizen      Partner   Dependents       tenure  \\\n",
            "count  3516.000000    3516.000000  3516.000000  3516.000000  3516.000000   \n",
            "mean      0.503982       0.165529     0.483788     0.300910    32.577361   \n",
            "std       0.500055       0.371710     0.499808     0.458719    24.400907   \n",
            "min       0.000000       0.000000     0.000000     0.000000     1.000000   \n",
            "25%       0.000000       0.000000     0.000000     0.000000     9.000000   \n",
            "50%       1.000000       0.000000     0.000000     0.000000    29.000000   \n",
            "75%       1.000000       0.000000     1.000000     1.000000    55.000000   \n",
            "max       1.000000       1.000000     1.000000     1.000000    72.000000   \n",
            "\n",
            "       PhoneService  PaperlessBilling  MonthlyCharges  TotalCharges  \n",
            "count   3516.000000       3516.000000     3516.000000   3516.000000  \n",
            "mean       0.905575          0.593572       65.079238   2304.446217  \n",
            "std        0.292461          0.491236       30.200006   2264.169199  \n",
            "min        0.000000          0.000000       18.400000     18.800000  \n",
            "25%        1.000000          0.000000       35.750000    407.025000  \n",
            "50%        1.000000          1.000000       70.700000   1423.875000  \n",
            "75%        1.000000          1.000000       90.150000   3826.362500  \n",
            "max        1.000000          1.000000      118.600000   8684.800000  \n",
            "===========================================================================\n",
            "Distribuições (normalizadas) do conjunto de treino\n",
            "===========================================================================\n",
            "            gender  SeniorCitizen      Partner   Dependents        tenure  \\\n",
            "count  3516.000000    3516.000000  3516.000000  3516.000000  3.516000e+03   \n",
            "mean      0.503982       0.165529     0.483788     0.300910 -4.951165e-17   \n",
            "std       0.500055       0.371710     0.499808     0.458719  1.000000e+00   \n",
            "min       0.000000       0.000000     0.000000     0.000000 -1.294106e+00   \n",
            "25%       0.000000       0.000000     0.000000     0.000000 -9.662494e-01   \n",
            "50%       1.000000       0.000000     0.000000     0.000000 -1.466077e-01   \n",
            "75%       1.000000       0.000000     1.000000     1.000000  9.189265e-01   \n",
            "max       1.000000       1.000000     1.000000     1.000000  1.615622e+00   \n",
            "\n",
            "       PhoneService  PaperlessBilling  MonthlyCharges  TotalCharges  \n",
            "count   3516.000000       3516.000000    3.516000e+03  3.516000e+03  \n",
            "mean       0.905575          0.593572    3.031326e-18  4.041768e-18  \n",
            "std        0.292461          0.491236    1.000000e+00  1.000000e+00  \n",
            "min        0.000000          0.000000   -1.545670e+00 -1.009486e+00  \n",
            "25%        1.000000          0.000000   -9.711666e-01 -8.380209e-01  \n",
            "50%        1.000000          1.000000    1.861179e-01 -3.889158e-01  \n",
            "75%        1.000000          1.000000    8.301575e-01  6.721743e-01  \n",
            "max        1.000000          1.000000    1.772210e+00  2.817967e+00  \n"
          ]
        }
      ],
      "source": [
        "#@title Normalização das features numéricas\n",
        "\n",
        "mean_train = X_train.mean()\n",
        "std_train = X_train.std()\n",
        "\n",
        "X_train_n = X_train.copy(deep=True)\n",
        "X_val_n = X_val.copy(deep=True)\n",
        "X_test_n = X_test.copy(deep=True)\n",
        "\n",
        "for col in numerical_features:\n",
        "  X_train_n[col] = (X_train[col] - mean_train[col]) / std_train[col]\n",
        "  X_val_n[col] = (X_val[col] - mean_train[col]) / std_train[col]\n",
        "  X_test_n[col] = (X_test[col] - mean_train[col]) / std_train[col]\n",
        "\n",
        "print(\"===========================================================================\")\n",
        "print(\"Distribuições do conjunto de treino\")\n",
        "print(\"===========================================================================\")\n",
        "print(X_train.describe())\n",
        "print(\"===========================================================================\")\n",
        "print(\"Distribuições (normalizadas) do conjunto de treino\")\n",
        "print(\"===========================================================================\")\n",
        "print(X_train_n.describe())"
      ]
    },
    {
      "cell_type": "markdown",
      "metadata": {
        "id": "W6M2zSfdZDcl"
      },
      "source": [
        "# Métodos auxiliares"
      ]
    },
    {
      "cell_type": "code",
      "execution_count": 22,
      "metadata": {
        "id": "9i4YCFAVZFaP"
      },
      "outputs": [],
      "source": [
        "#@title Plot do Teste Kolmogorov-Smirnov\n",
        "\n",
        "def plot_ks(y_true: npt.NDArray, y_pred: npt.NDArray):\n",
        "  skplt.metrics.plot_ks_statistic(y_true, y_pred)\n",
        "  plt.show()"
      ]
    },
    {
      "cell_type": "code",
      "execution_count": 12,
      "metadata": {
        "id": "K_HFnT2AihdM"
      },
      "outputs": [],
      "source": [
        "#@title Plot da Matriz de Confusão\n",
        "\n",
        "def plot_conf_matrix(cm):\n",
        "  sns.heatmap(cm, annot=True, fmt='d', cmap='Blues')\n",
        "  plt.xlabel('Predicted')\n",
        "  plt.ylabel('True')\n",
        "  plt.show()"
      ]
    },
    {
      "cell_type": "code",
      "execution_count": 13,
      "metadata": {
        "id": "sK0shw_kdmrw"
      },
      "outputs": [],
      "source": [
        "#@title Plot da curva ROC\n",
        "\n",
        "def plot_roc(fpr, tpr, auc, label):\n",
        "  plt.figure(figsize=(6, 6))\n",
        "  plt.plot(fpr, tpr, label=f'{label} (AUC = {auc:.2f})')\n",
        "  plt.plot([0, 1], [0, 1], '--', color='tab:orange')\n",
        "  plt.xlim([0.0, 1.0])\n",
        "  plt.ylim([0.0, 1.05])\n",
        "  plt.xlabel('False Positive Rate')\n",
        "  plt.ylabel('True Positive Rate')\n",
        "  plt.legend(loc=\"lower right\")\n",
        "  plt.show()"
      ]
    },
    {
      "cell_type": "code",
      "source": [
        "#@title Plot das curvas de erro do treinamento\n",
        "\n",
        "def plot_training_error_curves(history, loss):\n",
        "    train_loss = history.history['loss']\n",
        "    val_loss = history.history['val_loss']\n",
        "\n",
        "    fig, ax = plt.subplots()\n",
        "    ax.plot(train_loss, label='Train')\n",
        "    ax.plot(val_loss, label='Validation')\n",
        "    ax.set(title='Training and Validation Error Curves', xlabel='Epochs', ylabel=f'Loss ({loss})')\n",
        "    ax.legend()\n",
        "    plt.show()"
      ],
      "metadata": {
        "id": "17lveiz7Y4LZ"
      },
      "execution_count": 14,
      "outputs": []
    },
    {
      "cell_type": "markdown",
      "metadata": {
        "id": "WcXslfULJESx"
      },
      "source": [
        "# Execução inicial com classificadores"
      ]
    },
    {
      "cell_type": "code",
      "execution_count": 15,
      "metadata": {
        "id": "mjSUHLFPXLVG"
      },
      "outputs": [],
      "source": [
        "#@title Parâmetros gerais\n",
        "epochs = 10000\n",
        "patience = 20"
      ]
    },
    {
      "cell_type": "markdown",
      "metadata": {
        "id": "fCaQcByCJHBp"
      },
      "source": [
        "## MLP"
      ]
    },
    {
      "cell_type": "code",
      "execution_count": 16,
      "metadata": {
        "cellView": "form",
        "colab": {
          "base_uri": "https://localhost:8080/",
          "height": 204
        },
        "id": "M9E5ToE2WQtR",
        "outputId": "6297667b-c327-474f-a986-110c584f5695"
      },
      "outputs": [
        {
          "output_type": "display_data",
          "data": {
            "text/plain": [
              "\u001b[1mModel: \"sequential\"\u001b[0m\n"
            ],
            "text/html": [
              "<pre style=\"white-space:pre;overflow-x:auto;line-height:normal;font-family:Menlo,'DejaVu Sans Mono',consolas,'Courier New',monospace\"><span style=\"font-weight: bold\">Model: \"sequential\"</span>\n",
              "</pre>\n"
            ]
          },
          "metadata": {}
        },
        {
          "output_type": "display_data",
          "data": {
            "text/plain": [
              "┏━━━━━━━━━━━━━━━━━━━━━━━━━━━━━━━━━┳━━━━━━━━━━━━━━━━━━━━━━━━┳━━━━━━━━━━━━━━━┓\n",
              "┃\u001b[1m \u001b[0m\u001b[1mLayer (type)                   \u001b[0m\u001b[1m \u001b[0m┃\u001b[1m \u001b[0m\u001b[1mOutput Shape          \u001b[0m\u001b[1m \u001b[0m┃\u001b[1m \u001b[0m\u001b[1m      Param #\u001b[0m\u001b[1m \u001b[0m┃\n",
              "┡━━━━━━━━━━━━━━━━━━━━━━━━━━━━━━━━━╇━━━━━━━━━━━━━━━━━━━━━━━━╇━━━━━━━━━━━━━━━┩\n",
              "│ dense (\u001b[38;5;33mDense\u001b[0m)                   │ (\u001b[38;5;45mNone\u001b[0m, \u001b[38;5;34m10\u001b[0m)             │           \u001b[38;5;34m410\u001b[0m │\n",
              "├─────────────────────────────────┼────────────────────────┼───────────────┤\n",
              "│ dense_1 (\u001b[38;5;33mDense\u001b[0m)                 │ (\u001b[38;5;45mNone\u001b[0m, \u001b[38;5;34m1\u001b[0m)              │            \u001b[38;5;34m11\u001b[0m │\n",
              "└─────────────────────────────────┴────────────────────────┴───────────────┘\n"
            ],
            "text/html": [
              "<pre style=\"white-space:pre;overflow-x:auto;line-height:normal;font-family:Menlo,'DejaVu Sans Mono',consolas,'Courier New',monospace\">┏━━━━━━━━━━━━━━━━━━━━━━━━━━━━━━━━━┳━━━━━━━━━━━━━━━━━━━━━━━━┳━━━━━━━━━━━━━━━┓\n",
              "┃<span style=\"font-weight: bold\"> Layer (type)                    </span>┃<span style=\"font-weight: bold\"> Output Shape           </span>┃<span style=\"font-weight: bold\">       Param # </span>┃\n",
              "┡━━━━━━━━━━━━━━━━━━━━━━━━━━━━━━━━━╇━━━━━━━━━━━━━━━━━━━━━━━━╇━━━━━━━━━━━━━━━┩\n",
              "│ dense (<span style=\"color: #0087ff; text-decoration-color: #0087ff\">Dense</span>)                   │ (<span style=\"color: #00d7ff; text-decoration-color: #00d7ff\">None</span>, <span style=\"color: #00af00; text-decoration-color: #00af00\">10</span>)             │           <span style=\"color: #00af00; text-decoration-color: #00af00\">410</span> │\n",
              "├─────────────────────────────────┼────────────────────────┼───────────────┤\n",
              "│ dense_1 (<span style=\"color: #0087ff; text-decoration-color: #0087ff\">Dense</span>)                 │ (<span style=\"color: #00d7ff; text-decoration-color: #00d7ff\">None</span>, <span style=\"color: #00af00; text-decoration-color: #00af00\">1</span>)              │            <span style=\"color: #00af00; text-decoration-color: #00af00\">11</span> │\n",
              "└─────────────────────────────────┴────────────────────────┴───────────────┘\n",
              "</pre>\n"
            ]
          },
          "metadata": {}
        },
        {
          "output_type": "display_data",
          "data": {
            "text/plain": [
              "\u001b[1m Total params: \u001b[0m\u001b[38;5;34m421\u001b[0m (1.64 KB)\n"
            ],
            "text/html": [
              "<pre style=\"white-space:pre;overflow-x:auto;line-height:normal;font-family:Menlo,'DejaVu Sans Mono',consolas,'Courier New',monospace\"><span style=\"font-weight: bold\"> Total params: </span><span style=\"color: #00af00; text-decoration-color: #00af00\">421</span> (1.64 KB)\n",
              "</pre>\n"
            ]
          },
          "metadata": {}
        },
        {
          "output_type": "display_data",
          "data": {
            "text/plain": [
              "\u001b[1m Trainable params: \u001b[0m\u001b[38;5;34m421\u001b[0m (1.64 KB)\n"
            ],
            "text/html": [
              "<pre style=\"white-space:pre;overflow-x:auto;line-height:normal;font-family:Menlo,'DejaVu Sans Mono',consolas,'Courier New',monospace\"><span style=\"font-weight: bold\"> Trainable params: </span><span style=\"color: #00af00; text-decoration-color: #00af00\">421</span> (1.64 KB)\n",
              "</pre>\n"
            ]
          },
          "metadata": {}
        },
        {
          "output_type": "display_data",
          "data": {
            "text/plain": [
              "\u001b[1m Non-trainable params: \u001b[0m\u001b[38;5;34m0\u001b[0m (0.00 B)\n"
            ],
            "text/html": [
              "<pre style=\"white-space:pre;overflow-x:auto;line-height:normal;font-family:Menlo,'DejaVu Sans Mono',consolas,'Courier New',monospace\"><span style=\"font-weight: bold\"> Non-trainable params: </span><span style=\"color: #00af00; text-decoration-color: #00af00\">0</span> (0.00 B)\n",
              "</pre>\n"
            ]
          },
          "metadata": {}
        }
      ],
      "source": [
        "#@title Definição do modelo\n",
        "mlp_classifier = Sequential()\n",
        "mlp_classifier.add(Input(shape=(X_train.shape[1],)))\n",
        "mlp_classifier.add(Dense(10, activation='relu'))\n",
        "mlp_classifier.add(Dense(1, activation='sigmoid'))\n",
        "mlp_classifier.compile(optimizer=Adam(learning_rate=0.001), loss='mse')\n",
        "mlp_classifier.summary()"
      ]
    },
    {
      "cell_type": "code",
      "execution_count": 17,
      "metadata": {
        "cellView": "form",
        "colab": {
          "base_uri": "https://localhost:8080/"
        },
        "id": "1IxuK6U9K0X1",
        "outputId": "5f0d1ea1-988f-4c96-eef0-90c6608d4dc3"
      },
      "outputs": [
        {
          "output_type": "stream",
          "name": "stdout",
          "text": [
            "Epoch 1/10000\n",
            "\u001b[1m110/110\u001b[0m \u001b[32m━━━━━━━━━━━━━━━━━━━━\u001b[0m\u001b[37m\u001b[0m \u001b[1m3s\u001b[0m 11ms/step - loss: 0.2298 - val_loss: 0.1641\n",
            "Epoch 2/10000\n",
            "\u001b[1m110/110\u001b[0m \u001b[32m━━━━━━━━━━━━━━━━━━━━\u001b[0m\u001b[37m\u001b[0m \u001b[1m0s\u001b[0m 4ms/step - loss: 0.1530 - val_loss: 0.1508\n",
            "Epoch 3/10000\n",
            "\u001b[1m110/110\u001b[0m \u001b[32m━━━━━━━━━━━━━━━━━━━━\u001b[0m\u001b[37m\u001b[0m \u001b[1m0s\u001b[0m 3ms/step - loss: 0.1419 - val_loss: 0.1471\n",
            "Epoch 4/10000\n",
            "\u001b[1m110/110\u001b[0m \u001b[32m━━━━━━━━━━━━━━━━━━━━\u001b[0m\u001b[37m\u001b[0m \u001b[1m0s\u001b[0m 4ms/step - loss: 0.1376 - val_loss: 0.1451\n",
            "Epoch 5/10000\n",
            "\u001b[1m110/110\u001b[0m \u001b[32m━━━━━━━━━━━━━━━━━━━━\u001b[0m\u001b[37m\u001b[0m \u001b[1m1s\u001b[0m 3ms/step - loss: 0.1350 - val_loss: 0.1440\n",
            "Epoch 6/10000\n",
            "\u001b[1m110/110\u001b[0m \u001b[32m━━━━━━━━━━━━━━━━━━━━\u001b[0m\u001b[37m\u001b[0m \u001b[1m0s\u001b[0m 4ms/step - loss: 0.1333 - val_loss: 0.1432\n",
            "Epoch 7/10000\n",
            "\u001b[1m110/110\u001b[0m \u001b[32m━━━━━━━━━━━━━━━━━━━━\u001b[0m\u001b[37m\u001b[0m \u001b[1m0s\u001b[0m 3ms/step - loss: 0.1320 - val_loss: 0.1425\n",
            "Epoch 8/10000\n",
            "\u001b[1m110/110\u001b[0m \u001b[32m━━━━━━━━━━━━━━━━━━━━\u001b[0m\u001b[37m\u001b[0m \u001b[1m0s\u001b[0m 3ms/step - loss: 0.1310 - val_loss: 0.1422\n",
            "Epoch 9/10000\n",
            "\u001b[1m110/110\u001b[0m \u001b[32m━━━━━━━━━━━━━━━━━━━━\u001b[0m\u001b[37m\u001b[0m \u001b[1m1s\u001b[0m 4ms/step - loss: 0.1303 - val_loss: 0.1419\n",
            "Epoch 10/10000\n",
            "\u001b[1m110/110\u001b[0m \u001b[32m━━━━━━━━━━━━━━━━━━━━\u001b[0m\u001b[37m\u001b[0m \u001b[1m0s\u001b[0m 3ms/step - loss: 0.1298 - val_loss: 0.1417\n",
            "Epoch 11/10000\n",
            "\u001b[1m110/110\u001b[0m \u001b[32m━━━━━━━━━━━━━━━━━━━━\u001b[0m\u001b[37m\u001b[0m \u001b[1m0s\u001b[0m 4ms/step - loss: 0.1294 - val_loss: 0.1416\n",
            "Epoch 12/10000\n",
            "\u001b[1m110/110\u001b[0m \u001b[32m━━━━━━━━━━━━━━━━━━━━\u001b[0m\u001b[37m\u001b[0m \u001b[1m1s\u001b[0m 3ms/step - loss: 0.1293 - val_loss: 0.1416\n",
            "Epoch 13/10000\n",
            "\u001b[1m110/110\u001b[0m \u001b[32m━━━━━━━━━━━━━━━━━━━━\u001b[0m\u001b[37m\u001b[0m \u001b[1m0s\u001b[0m 3ms/step - loss: 0.1290 - val_loss: 0.1417\n",
            "Epoch 14/10000\n",
            "\u001b[1m110/110\u001b[0m \u001b[32m━━━━━━━━━━━━━━━━━━━━\u001b[0m\u001b[37m\u001b[0m \u001b[1m1s\u001b[0m 4ms/step - loss: 0.1287 - val_loss: 0.1415\n",
            "Epoch 15/10000\n",
            "\u001b[1m110/110\u001b[0m \u001b[32m━━━━━━━━━━━━━━━━━━━━\u001b[0m\u001b[37m\u001b[0m \u001b[1m1s\u001b[0m 3ms/step - loss: 0.1284 - val_loss: 0.1415\n",
            "Epoch 16/10000\n",
            "\u001b[1m110/110\u001b[0m \u001b[32m━━━━━━━━━━━━━━━━━━━━\u001b[0m\u001b[37m\u001b[0m \u001b[1m1s\u001b[0m 6ms/step - loss: 0.1281 - val_loss: 0.1415\n",
            "Epoch 17/10000\n",
            "\u001b[1m110/110\u001b[0m \u001b[32m━━━━━━━━━━━━━━━━━━━━\u001b[0m\u001b[37m\u001b[0m \u001b[1m1s\u001b[0m 8ms/step - loss: 0.1279 - val_loss: 0.1415\n",
            "Epoch 18/10000\n",
            "\u001b[1m110/110\u001b[0m \u001b[32m━━━━━━━━━━━━━━━━━━━━\u001b[0m\u001b[37m\u001b[0m \u001b[1m2s\u001b[0m 15ms/step - loss: 0.1277 - val_loss: 0.1415\n",
            "Epoch 19/10000\n",
            "\u001b[1m110/110\u001b[0m \u001b[32m━━━━━━━━━━━━━━━━━━━━\u001b[0m\u001b[37m\u001b[0m \u001b[1m2s\u001b[0m 7ms/step - loss: 0.1273 - val_loss: 0.1415\n",
            "Epoch 20/10000\n",
            "\u001b[1m110/110\u001b[0m \u001b[32m━━━━━━━━━━━━━━━━━━━━\u001b[0m\u001b[37m\u001b[0m \u001b[1m1s\u001b[0m 7ms/step - loss: 0.1270 - val_loss: 0.1415\n",
            "Epoch 21/10000\n",
            "\u001b[1m110/110\u001b[0m \u001b[32m━━━━━━━━━━━━━━━━━━━━\u001b[0m\u001b[37m\u001b[0m \u001b[1m1s\u001b[0m 7ms/step - loss: 0.1269 - val_loss: 0.1414\n",
            "Epoch 22/10000\n",
            "\u001b[1m110/110\u001b[0m \u001b[32m━━━━━━━━━━━━━━━━━━━━\u001b[0m\u001b[37m\u001b[0m \u001b[1m1s\u001b[0m 6ms/step - loss: 0.1267 - val_loss: 0.1415\n",
            "Epoch 23/10000\n",
            "\u001b[1m110/110\u001b[0m \u001b[32m━━━━━━━━━━━━━━━━━━━━\u001b[0m\u001b[37m\u001b[0m \u001b[1m1s\u001b[0m 8ms/step - loss: 0.1265 - val_loss: 0.1415\n",
            "Epoch 24/10000\n",
            "\u001b[1m110/110\u001b[0m \u001b[32m━━━━━━━━━━━━━━━━━━━━\u001b[0m\u001b[37m\u001b[0m \u001b[1m1s\u001b[0m 6ms/step - loss: 0.1264 - val_loss: 0.1415\n",
            "Epoch 25/10000\n",
            "\u001b[1m110/110\u001b[0m \u001b[32m━━━━━━━━━━━━━━━━━━━━\u001b[0m\u001b[37m\u001b[0m \u001b[1m1s\u001b[0m 8ms/step - loss: 0.1262 - val_loss: 0.1415\n",
            "Epoch 26/10000\n",
            "\u001b[1m110/110\u001b[0m \u001b[32m━━━━━━━━━━━━━━━━━━━━\u001b[0m\u001b[37m\u001b[0m \u001b[1m1s\u001b[0m 8ms/step - loss: 0.1260 - val_loss: 0.1415\n",
            "Epoch 27/10000\n",
            "\u001b[1m110/110\u001b[0m \u001b[32m━━━━━━━━━━━━━━━━━━━━\u001b[0m\u001b[37m\u001b[0m \u001b[1m1s\u001b[0m 4ms/step - loss: 0.1259 - val_loss: 0.1415\n",
            "Epoch 28/10000\n",
            "\u001b[1m110/110\u001b[0m \u001b[32m━━━━━━━━━━━━━━━━━━━━\u001b[0m\u001b[37m\u001b[0m \u001b[1m1s\u001b[0m 6ms/step - loss: 0.1258 - val_loss: 0.1416\n",
            "Epoch 29/10000\n",
            "\u001b[1m110/110\u001b[0m \u001b[32m━━━━━━━━━━━━━━━━━━━━\u001b[0m\u001b[37m\u001b[0m \u001b[1m1s\u001b[0m 4ms/step - loss: 0.1257 - val_loss: 0.1416\n",
            "Epoch 30/10000\n",
            "\u001b[1m110/110\u001b[0m \u001b[32m━━━━━━━━━━━━━━━━━━━━\u001b[0m\u001b[37m\u001b[0m \u001b[1m1s\u001b[0m 8ms/step - loss: 0.1255 - val_loss: 0.1417\n",
            "Epoch 31/10000\n",
            "\u001b[1m110/110\u001b[0m \u001b[32m━━━━━━━━━━━━━━━━━━━━\u001b[0m\u001b[37m\u001b[0m \u001b[1m1s\u001b[0m 8ms/step - loss: 0.1254 - val_loss: 0.1418\n",
            "Epoch 32/10000\n",
            "\u001b[1m110/110\u001b[0m \u001b[32m━━━━━━━━━━━━━━━━━━━━\u001b[0m\u001b[37m\u001b[0m \u001b[1m1s\u001b[0m 9ms/step - loss: 0.1253 - val_loss: 0.1419\n",
            "Epoch 33/10000\n",
            "\u001b[1m110/110\u001b[0m \u001b[32m━━━━━━━━━━━━━━━━━━━━\u001b[0m\u001b[37m\u001b[0m \u001b[1m1s\u001b[0m 6ms/step - loss: 0.1251 - val_loss: 0.1419\n",
            "Epoch 34/10000\n",
            "\u001b[1m110/110\u001b[0m \u001b[32m━━━━━━━━━━━━━━━━━━━━\u001b[0m\u001b[37m\u001b[0m \u001b[1m1s\u001b[0m 4ms/step - loss: 0.1250 - val_loss: 0.1421\n",
            "Epoch 35/10000\n",
            "\u001b[1m110/110\u001b[0m \u001b[32m━━━━━━━━━━━━━━━━━━━━\u001b[0m\u001b[37m\u001b[0m \u001b[1m1s\u001b[0m 3ms/step - loss: 0.1249 - val_loss: 0.1422\n",
            "Epoch 36/10000\n",
            "\u001b[1m110/110\u001b[0m \u001b[32m━━━━━━━━━━━━━━━━━━━━\u001b[0m\u001b[37m\u001b[0m \u001b[1m0s\u001b[0m 4ms/step - loss: 0.1248 - val_loss: 0.1423\n",
            "Epoch 37/10000\n",
            "\u001b[1m110/110\u001b[0m \u001b[32m━━━━━━━━━━━━━━━━━━━━\u001b[0m\u001b[37m\u001b[0m \u001b[1m0s\u001b[0m 3ms/step - loss: 0.1247 - val_loss: 0.1423\n",
            "Epoch 38/10000\n",
            "\u001b[1m110/110\u001b[0m \u001b[32m━━━━━━━━━━━━━━━━━━━━\u001b[0m\u001b[37m\u001b[0m \u001b[1m0s\u001b[0m 4ms/step - loss: 0.1246 - val_loss: 0.1424\n",
            "Epoch 39/10000\n",
            "\u001b[1m110/110\u001b[0m \u001b[32m━━━━━━━━━━━━━━━━━━━━\u001b[0m\u001b[37m\u001b[0m \u001b[1m0s\u001b[0m 3ms/step - loss: 0.1245 - val_loss: 0.1425\n",
            "Epoch 40/10000\n",
            "\u001b[1m110/110\u001b[0m \u001b[32m━━━━━━━━━━━━━━━━━━━━\u001b[0m\u001b[37m\u001b[0m \u001b[1m0s\u001b[0m 3ms/step - loss: 0.1244 - val_loss: 0.1426\n",
            "Epoch 41/10000\n",
            "\u001b[1m110/110\u001b[0m \u001b[32m━━━━━━━━━━━━━━━━━━━━\u001b[0m\u001b[37m\u001b[0m \u001b[1m0s\u001b[0m 3ms/step - loss: 0.1244 - val_loss: 0.1427\n"
          ]
        }
      ],
      "source": [
        "#@title Treinamento inicial\n",
        "mlp_history = mlp_classifier.fit(X_train_n, y_train, epochs=epochs, validation_data=(X_val_n, y_val),\n",
        "                                 callbacks=[EarlyStopping(patience=patience, monitor='val_loss')])"
      ]
    },
    {
      "cell_type": "code",
      "source": [
        "#@title Curvas de aprendizado\n",
        "\n",
        "plot_training_error_curves(mlp_history, 'MSE')"
      ],
      "metadata": {
        "cellView": "form",
        "id": "xztxObf3ZTpF",
        "outputId": "d51dde2a-fc5f-4ced-b935-4b03225732ad",
        "colab": {
          "base_uri": "https://localhost:8080/",
          "height": 472
        }
      },
      "execution_count": 18,
      "outputs": [
        {
          "output_type": "display_data",
          "data": {
            "text/plain": [
              "<Figure size 640x480 with 1 Axes>"
            ],
            "image/png": "[encoded data removed]"
          },
          "metadata": {}
        }
      ]
    },
    {
      "cell_type": "markdown",
      "metadata": {
        "id": "gr2hyiZ-K0X2"
      },
      "source": [
        "### Avaliação inicial"
      ]
    },
    {
      "cell_type": "code",
      "execution_count": 25,
      "metadata": {
        "cellView": "form",
        "colab": {
          "base_uri": "https://localhost:8080/"
        },
        "id": "j8WHPw7Cb6eO",
        "outputId": "fd99b0f4-80ce-4039-e0c8-d44a8bd0efdc"
      },
      "outputs": [
        {
          "output_type": "stream",
          "name": "stdout",
          "text": [
            "\u001b[1m55/55\u001b[0m \u001b[32m━━━━━━━━━━━━━━━━━━━━\u001b[0m\u001b[37m\u001b[0m \u001b[1m0s\u001b[0m 2ms/step\n"
          ]
        }
      ],
      "source": [
        "#@title Gerando predições\n",
        "mlp_preds = mlp_classifier.predict(X_test_n)\n",
        "mlp_preds_scores_0 = 1 - mlp_preds\n",
        "mlp_preds_scores = np.concatenate([mlp_preds_scores_0, mlp_preds], axis=1)"
      ]
    },
    {
      "cell_type": "code",
      "execution_count": 27,
      "metadata": {
        "cellView": "form",
        "colab": {
          "base_uri": "https://localhost:8080/",
          "height": 472
        },
        "id": "uikeebskK0X2",
        "outputId": "82706334-73a2-472f-8940-340630889dcd"
      },
      "outputs": [
        {
          "output_type": "display_data",
          "data": {
            "text/plain": [
              "<Figure size 640x480 with 1 Axes>"
            ],
            "image/png": "[encoded data removed]"
          },
          "metadata": {}
        }
      ],
      "source": [
        "#@title Teste Kolmogorov-Smirnov\n",
        "plot_ks(y_test, mlp_preds_scores)"
      ]
    },
    {
      "cell_type": "code",
      "execution_count": 28,
      "metadata": {
        "cellView": "form",
        "colab": {
          "base_uri": "https://localhost:8080/"
        },
        "id": "q2bk13bRK0X2",
        "outputId": "3dff4f61-6423-47da-ee62-a9e59cbda3c7"
      },
      "outputs": [
        {
          "output_type": "stream",
          "name": "stdout",
          "text": [
            "MSE: 0.13537631928920746\n"
          ]
        }
      ],
      "source": [
        "#@title MSE\n",
        "mlp_mse = mlp_classifier.evaluate(X_test_n, y_test, verbose=0)\n",
        "print(f\"MSE: {mlp_mse}\")"
      ]
    },
    {
      "cell_type": "code",
      "execution_count": 29,
      "metadata": {
        "cellView": "form",
        "colab": {
          "base_uri": "https://localhost:8080/",
          "height": 449
        },
        "id": "-2q6xbpEK0X2",
        "outputId": "808e38bc-6583-465d-85ed-78064e998fc1"
      },
      "outputs": [
        {
          "output_type": "display_data",
          "data": {
            "text/plain": [
              "<Figure size 640x480 with 2 Axes>"
            ],
            "image/png": "[encoded data removed]"
          },
          "metadata": {}
        }
      ],
      "source": [
        "#@title Matriz de confusão\n",
        "mlp_cm = confusion_matrix(y_test, np.round(mlp_preds))\n",
        "plot_conf_matrix(mlp_cm)"
      ]
    },
    {
      "cell_type": "code",
      "execution_count": 30,
      "metadata": {
        "cellView": "form",
        "colab": {
          "base_uri": "https://localhost:8080/",
          "height": 559
        },
        "id": "tYUV6NdiK0X2",
        "outputId": "5cad4f67-0612-4fae-94c3-5817b996f0f9"
      },
      "outputs": [
        {
          "output_type": "stream",
          "name": "stdout",
          "text": [
            "AUC-ROC: 0.8459662264035152\n"
          ]
        },
        {
          "output_type": "display_data",
          "data": {
            "text/plain": [
              "<Figure size 600x600 with 1 Axes>"
            ],
            "image/png": "[encoded data removed]"
          },
          "metadata": {}
        }
      ],
      "source": [
        "#@title AUC-ROC\n",
        "mlp_auc = roc_auc_score(y_test, mlp_preds)\n",
        "print(f\"AUC-ROC: {mlp_auc}\")\n",
        "mlp_fpr, mlp_tpr, _ = roc_curve(y_test, mlp_preds)\n",
        "plot_roc(mlp_fpr, mlp_tpr, mlp_auc, 'MLP')"
      ]
    },
    {
      "cell_type": "code",
      "execution_count": 31,
      "metadata": {
        "cellView": "form",
        "colab": {
          "base_uri": "https://localhost:8080/"
        },
        "id": "HwDd5kWRK0X2",
        "outputId": "742b8d56-2870-45cc-bc5f-f73e0a8667e8"
      },
      "outputs": [
        {
          "output_type": "stream",
          "name": "stdout",
          "text": [
            "Recall: 0.5460385438972163\n",
            "Precision: 0.6572164948453608\n",
            "F1-score: 0.5964912280701754\n"
          ]
        }
      ],
      "source": [
        "#@title Recall, precision e f-score\n",
        "mlp_recall = recall_score(y_test, np.round(mlp_preds))\n",
        "mlp_precision = precision_score(y_test, np.round(mlp_preds))\n",
        "mlp_f1 = f1_score(y_test, np.round(mlp_preds))\n",
        "print(f\"Recall: {mlp_recall}\")\n",
        "print(f\"Precision: {mlp_precision}\")\n",
        "print(f\"F1-score: {mlp_f1}\")"
      ]
    },
    {
      "cell_type": "markdown",
      "metadata": {
        "id": "0afoLfT3JZWB"
      },
      "source": [
        "## Random Forest"
      ]
    },
    {
      "cell_type": "code",
      "execution_count": 32,
      "metadata": {
        "cellView": "form",
        "colab": {
          "base_uri": "https://localhost:8080/",
          "height": 80
        },
        "id": "nLTwJTUFhAtu",
        "outputId": "1579bfaa-c628-48eb-f496-577b16981c93"
      },
      "outputs": [
        {
          "output_type": "execute_result",
          "data": {
            "text/plain": [
              "RandomForestClassifier(random_state=42)"
            ],
            "text/html": [
              "<style>#sk-container-id-1 {\n",
              "  /* Definition of color scheme common for light and dark mode */\n",
              "  --sklearn-color-text: #000;\n",
              "  --sklearn-color-text-muted: #666;\n",
              "  --sklearn-color-line: gray;\n",
              "  /* Definition of color scheme for unfitted estimators */\n",
              "  --sklearn-color-unfitted-level-0: #fff5e6;\n",
              "  --sklearn-color-unfitted-level-1: #f6e4d2;\n",
              "  --sklearn-color-unfitted-level-2: #ffe0b3;\n",
              "  --sklearn-color-unfitted-level-3: chocolate;\n",
              "  /* Definition of color scheme for fitted estimators */\n",
              "  --sklearn-color-fitted-level-0: #f0f8ff;\n",
              "  --sklearn-color-fitted-level-1: #d4ebff;\n",
              "  --sklearn-color-fitted-level-2: #b3dbfd;\n",
              "  --sklearn-color-fitted-level-3: cornflowerblue;\n",
              "\n",
              "  /* Specific color for light theme */\n",
              "  --sklearn-color-text-on-default-background: var(--sg-text-color, var(--theme-code-foreground, var(--jp-content-font-color1, black)));\n",
              "  --sklearn-color-background: var(--sg-background-color, var(--theme-background, var(--jp-layout-color0, white)));\n",
              "  --sklearn-color-border-box: var(--sg-text-color, var(--theme-code-foreground, var(--jp-content-font-color1, black)));\n",
              "  --sklearn-color-icon: #696969;\n",
              "\n",
              "  @media (prefers-color-scheme: dark) {\n",
              "    /* Redefinition of color scheme for dark theme */\n",
              "    --sklearn-color-text-on-default-background: var(--sg-text-color, var(--theme-code-foreground, var(--jp-content-font-color1, white)));\n",
              "    --sklearn-color-background: var(--sg-background-color, var(--theme-background, var(--jp-layout-color0, #111)));\n",
              "    --sklearn-color-border-box: var(--sg-text-color, var(--theme-code-foreground, var(--jp-content-font-color1, white)));\n",
              "    --sklearn-color-icon: #878787;\n",
              "  }\n",
              "}\n",
              "\n",
              "#sk-container-id-1 {\n",
              "  color: var(--sklearn-color-text);\n",
              "}\n",
              "\n",
              "#sk-container-id-1 pre {\n",
              "  padding: 0;\n",
              "}\n",
              "\n",
              "#sk-container-id-1 input.sk-hidden--visually {\n",
              "  border: 0;\n",
              "  clip: rect(1px 1px 1px 1px);\n",
              "  clip: rect(1px, 1px, 1px, 1px);\n",
              "  height: 1px;\n",
              "  margin: -1px;\n",
              "  overflow: hidden;\n",
              "  padding: 0;\n",
              "  position: absolute;\n",
              "  width: 1px;\n",
              "}\n",
              "\n",
              "#sk-container-id-1 div.sk-dashed-wrapped {\n",
              "  border: 1px dashed var(--sklearn-color-line);\n",
              "  margin: 0 0.4em 0.5em 0.4em;\n",
              "  box-sizing: border-box;\n",
              "  padding-bottom: 0.4em;\n",
              "  background-color: var(--sklearn-color-background);\n",
              "}\n",
              "\n",
              "#sk-container-id-1 div.sk-container {\n",
              "  /* jupyter's `normalize.less` sets `[hidden] { display: none; }`\n",
              "     but bootstrap.min.css set `[hidden] { display: none !important; }`\n",
              "     so we also need the `!important` here to be able to override the\n",
              "     default hidden behavior on the sphinx rendered scikit-learn.org.\n",
              "     See: https://github.com/scikit-learn/scikit-learn/issues/21755 */\n",
              "  display: inline-block !important;\n",
              "  position: relative;\n",
              "}\n",
              "\n",
              "#sk-container-id-1 div.sk-text-repr-fallback {\n",
              "  display: none;\n",
              "}\n",
              "\n",
              "div.sk-parallel-item,\n",
              "div.sk-serial,\n",
              "div.sk-item {\n",
              "  /* draw centered vertical line to link estimators */\n",
              "  background-image: linear-gradient(var(--sklearn-color-text-on-default-background), var(--sklearn-color-text-on-default-background));\n",
              "  background-size: 2px 100%;\n",
              "  background-repeat: no-repeat;\n",
              "  background-position: center center;\n",
              "}\n",
              "\n",
              "/* Parallel-specific style estimator block */\n",
              "\n",
              "#sk-container-id-1 div.sk-parallel-item::after {\n",
              "  content: \"\";\n",
              "  width: 100%;\n",
              "  border-bottom: 2px solid var(--sklearn-color-text-on-default-background);\n",
              "  flex-grow: 1;\n",
              "}\n",
              "\n",
              "#sk-container-id-1 div.sk-parallel {\n",
              "  display: flex;\n",
              "  align-items: stretch;\n",
              "  justify-content: center;\n",
              "  background-color: var(--sklearn-color-background);\n",
              "  position: relative;\n",
              "}\n",
              "\n",
              "#sk-container-id-1 div.sk-parallel-item {\n",
              "  display: flex;\n",
              "  flex-direction: column;\n",
              "}\n",
              "\n",
              "#sk-container-id-1 div.sk-parallel-item:first-child::after {\n",
              "  align-self: flex-end;\n",
              "  width: 50%;\n",
              "}\n",
              "\n",
              "#sk-container-id-1 div.sk-parallel-item:last-child::after {\n",
              "  align-self: flex-start;\n",
              "  width: 50%;\n",
              "}\n",
              "\n",
              "#sk-container-id-1 div.sk-parallel-item:only-child::after {\n",
              "  width: 0;\n",
              "}\n",
              "\n",
              "/* Serial-specific style estimator block */\n",
              "\n",
              "#sk-container-id-1 div.sk-serial {\n",
              "  display: flex;\n",
              "  flex-direction: column;\n",
              "  align-items: center;\n",
              "  background-color: var(--sklearn-color-background);\n",
              "  padding-right: 1em;\n",
              "  padding-left: 1em;\n",
              "}\n",
              "\n",
              "\n",
              "/* Toggleable style: style used for estimator/Pipeline/ColumnTransformer box that is\n",
              "clickable and can be expanded/collapsed.\n",
              "- Pipeline and ColumnTransformer use this feature and define the default style\n",
              "- Estimators will overwrite some part of the style using the `sk-estimator` class\n",
              "*/\n",
              "\n",
              "/* Pipeline and ColumnTransformer style (default) */\n",
              "\n",
              "#sk-container-id-1 div.sk-toggleable {\n",
              "  /* Default theme specific background. It is overwritten whether we have a\n",
              "  specific estimator or a Pipeline/ColumnTransformer */\n",
              "  background-color: var(--sklearn-color-background);\n",
              "}\n",
              "\n",
              "/* Toggleable label */\n",
              "#sk-container-id-1 label.sk-toggleable__label {\n",
              "  cursor: pointer;\n",
              "  display: flex;\n",
              "  width: 100%;\n",
              "  margin-bottom: 0;\n",
              "  padding: 0.5em;\n",
              "  box-sizing: border-box;\n",
              "  text-align: center;\n",
              "  align-items: start;\n",
              "  justify-content: space-between;\n",
              "  gap: 0.5em;\n",
              "}\n",
              "\n",
              "#sk-container-id-1 label.sk-toggleable__label .caption {\n",
              "  font-size: 0.6rem;\n",
              "  font-weight: lighter;\n",
              "  color: var(--sklearn-color-text-muted);\n",
              "}\n",
              "\n",
              "#sk-container-id-1 label.sk-toggleable__label-arrow:before {\n",
              "  /* Arrow on the left of the label */\n",
              "  content: \"▸\";\n",
              "  float: left;\n",
              "  margin-right: 0.25em;\n",
              "  color: var(--sklearn-color-icon);\n",
              "}\n",
              "\n",
              "#sk-container-id-1 label.sk-toggleable__label-arrow:hover:before {\n",
              "  color: var(--sklearn-color-text);\n",
              "}\n",
              "\n",
              "/* Toggleable content - dropdown */\n",
              "\n",
              "#sk-container-id-1 div.sk-toggleable__content {\n",
              "  max-height: 0;\n",
              "  max-width: 0;\n",
              "  overflow: hidden;\n",
              "  text-align: left;\n",
              "  /* unfitted */\n",
              "  background-color: var(--sklearn-color-unfitted-level-0);\n",
              "}\n",
              "\n",
              "#sk-container-id-1 div.sk-toggleable__content.fitted {\n",
              "  /* fitted */\n",
              "  background-color: var(--sklearn-color-fitted-level-0);\n",
              "}\n",
              "\n",
              "#sk-container-id-1 div.sk-toggleable__content pre {\n",
              "  margin: 0.2em;\n",
              "  border-radius: 0.25em;\n",
              "  color: var(--sklearn-color-text);\n",
              "  /* unfitted */\n",
              "  background-color: var(--sklearn-color-unfitted-level-0);\n",
              "}\n",
              "\n",
              "#sk-container-id-1 div.sk-toggleable__content.fitted pre {\n",
              "  /* unfitted */\n",
              "  background-color: var(--sklearn-color-fitted-level-0);\n",
              "}\n",
              "\n",
              "#sk-container-id-1 input.sk-toggleable__control:checked~div.sk-toggleable__content {\n",
              "  /* Expand drop-down */\n",
              "  max-height: 200px;\n",
              "  max-width: 100%;\n",
              "  overflow: auto;\n",
              "}\n",
              "\n",
              "#sk-container-id-1 input.sk-toggleable__control:checked~label.sk-toggleable__label-arrow:before {\n",
              "  content: \"▾\";\n",
              "}\n",
              "\n",
              "/* Pipeline/ColumnTransformer-specific style */\n",
              "\n",
              "#sk-container-id-1 div.sk-label input.sk-toggleable__control:checked~label.sk-toggleable__label {\n",
              "  color: var(--sklearn-color-text);\n",
              "  background-color: var(--sklearn-color-unfitted-level-2);\n",
              "}\n",
              "\n",
              "#sk-container-id-1 div.sk-label.fitted input.sk-toggleable__control:checked~label.sk-toggleable__label {\n",
              "  background-color: var(--sklearn-color-fitted-level-2);\n",
              "}\n",
              "\n",
              "/* Estimator-specific style */\n",
              "\n",
              "/* Colorize estimator box */\n",
              "#sk-container-id-1 div.sk-estimator input.sk-toggleable__control:checked~label.sk-toggleable__label {\n",
              "  /* unfitted */\n",
              "  background-color: var(--sklearn-color-unfitted-level-2);\n",
              "}\n",
              "\n",
              "#sk-container-id-1 div.sk-estimator.fitted input.sk-toggleable__control:checked~label.sk-toggleable__label {\n",
              "  /* fitted */\n",
              "  background-color: var(--sklearn-color-fitted-level-2);\n",
              "}\n",
              "\n",
              "#sk-container-id-1 div.sk-label label.sk-toggleable__label,\n",
              "#sk-container-id-1 div.sk-label label {\n",
              "  /* The background is the default theme color */\n",
              "  color: var(--sklearn-color-text-on-default-background);\n",
              "}\n",
              "\n",
              "/* On hover, darken the color of the background */\n",
              "#sk-container-id-1 div.sk-label:hover label.sk-toggleable__label {\n",
              "  color: var(--sklearn-color-text);\n",
              "  background-color: var(--sklearn-color-unfitted-level-2);\n",
              "}\n",
              "\n",
              "/* Label box, darken color on hover, fitted */\n",
              "#sk-container-id-1 div.sk-label.fitted:hover label.sk-toggleable__label.fitted {\n",
              "  color: var(--sklearn-color-text);\n",
              "  background-color: var(--sklearn-color-fitted-level-2);\n",
              "}\n",
              "\n",
              "/* Estimator label */\n",
              "\n",
              "#sk-container-id-1 div.sk-label label {\n",
              "  font-family: monospace;\n",
              "  font-weight: bold;\n",
              "  display: inline-block;\n",
              "  line-height: 1.2em;\n",
              "}\n",
              "\n",
              "#sk-container-id-1 div.sk-label-container {\n",
              "  text-align: center;\n",
              "}\n",
              "\n",
              "/* Estimator-specific */\n",
              "#sk-container-id-1 div.sk-estimator {\n",
              "  font-family: monospace;\n",
              "  border: 1px dotted var(--sklearn-color-border-box);\n",
              "  border-radius: 0.25em;\n",
              "  box-sizing: border-box;\n",
              "  margin-bottom: 0.5em;\n",
              "  /* unfitted */\n",
              "  background-color: var(--sklearn-color-unfitted-level-0);\n",
              "}\n",
              "\n",
              "#sk-container-id-1 div.sk-estimator.fitted {\n",
              "  /* fitted */\n",
              "  background-color: var(--sklearn-color-fitted-level-0);\n",
              "}\n",
              "\n",
              "/* on hover */\n",
              "#sk-container-id-1 div.sk-estimator:hover {\n",
              "  /* unfitted */\n",
              "  background-color: var(--sklearn-color-unfitted-level-2);\n",
              "}\n",
              "\n",
              "#sk-container-id-1 div.sk-estimator.fitted:hover {\n",
              "  /* fitted */\n",
              "  background-color: var(--sklearn-color-fitted-level-2);\n",
              "}\n",
              "\n",
              "/* Specification for estimator info (e.g. \"i\" and \"?\") */\n",
              "\n",
              "/* Common style for \"i\" and \"?\" */\n",
              "\n",
              ".sk-estimator-doc-link,\n",
              "a:link.sk-estimator-doc-link,\n",
              "a:visited.sk-estimator-doc-link {\n",
              "  float: right;\n",
              "  font-size: smaller;\n",
              "  line-height: 1em;\n",
              "  font-family: monospace;\n",
              "  background-color: var(--sklearn-color-background);\n",
              "  border-radius: 1em;\n",
              "  height: 1em;\n",
              "  width: 1em;\n",
              "  text-decoration: none !important;\n",
              "  margin-left: 0.5em;\n",
              "  text-align: center;\n",
              "  /* unfitted */\n",
              "  border: var(--sklearn-color-unfitted-level-1) 1pt solid;\n",
              "  color: var(--sklearn-color-unfitted-level-1);\n",
              "}\n",
              "\n",
              ".sk-estimator-doc-link.fitted,\n",
              "a:link.sk-estimator-doc-link.fitted,\n",
              "a:visited.sk-estimator-doc-link.fitted {\n",
              "  /* fitted */\n",
              "  border: var(--sklearn-color-fitted-level-1) 1pt solid;\n",
              "  color: var(--sklearn-color-fitted-level-1);\n",
              "}\n",
              "\n",
              "/* On hover */\n",
              "div.sk-estimator:hover .sk-estimator-doc-link:hover,\n",
              ".sk-estimator-doc-link:hover,\n",
              "div.sk-label-container:hover .sk-estimator-doc-link:hover,\n",
              ".sk-estimator-doc-link:hover {\n",
              "  /* unfitted */\n",
              "  background-color: var(--sklearn-color-unfitted-level-3);\n",
              "  color: var(--sklearn-color-background);\n",
              "  text-decoration: none;\n",
              "}\n",
              "\n",
              "div.sk-estimator.fitted:hover .sk-estimator-doc-link.fitted:hover,\n",
              ".sk-estimator-doc-link.fitted:hover,\n",
              "div.sk-label-container:hover .sk-estimator-doc-link.fitted:hover,\n",
              ".sk-estimator-doc-link.fitted:hover {\n",
              "  /* fitted */\n",
              "  background-color: var(--sklearn-color-fitted-level-3);\n",
              "  color: var(--sklearn-color-background);\n",
              "  text-decoration: none;\n",
              "}\n",
              "\n",
              "/* Span, style for the box shown on hovering the info icon */\n",
              ".sk-estimator-doc-link span {\n",
              "  display: none;\n",
              "  z-index: 9999;\n",
              "  position: relative;\n",
              "  font-weight: normal;\n",
              "  right: .2ex;\n",
              "  padding: .5ex;\n",
              "  margin: .5ex;\n",
              "  width: min-content;\n",
              "  min-width: 20ex;\n",
              "  max-width: 50ex;\n",
              "  color: var(--sklearn-color-text);\n",
              "  box-shadow: 2pt 2pt 4pt #999;\n",
              "  /* unfitted */\n",
              "  background: var(--sklearn-color-unfitted-level-0);\n",
              "  border: .5pt solid var(--sklearn-color-unfitted-level-3);\n",
              "}\n",
              "\n",
              ".sk-estimator-doc-link.fitted span {\n",
              "  /* fitted */\n",
              "  background: var(--sklearn-color-fitted-level-0);\n",
              "  border: var(--sklearn-color-fitted-level-3);\n",
              "}\n",
              "\n",
              ".sk-estimator-doc-link:hover span {\n",
              "  display: block;\n",
              "}\n",
              "\n",
              "/* \"?\"-specific style due to the `<a>` HTML tag */\n",
              "\n",
              "#sk-container-id-1 a.estimator_doc_link {\n",
              "  float: right;\n",
              "  font-size: 1rem;\n",
              "  line-height: 1em;\n",
              "  font-family: monospace;\n",
              "  background-color: var(--sklearn-color-background);\n",
              "  border-radius: 1rem;\n",
              "  height: 1rem;\n",
              "  width: 1rem;\n",
              "  text-decoration: none;\n",
              "  /* unfitted */\n",
              "  color: var(--sklearn-color-unfitted-level-1);\n",
              "  border: var(--sklearn-color-unfitted-level-1) 1pt solid;\n",
              "}\n",
              "\n",
              "#sk-container-id-1 a.estimator_doc_link.fitted {\n",
              "  /* fitted */\n",
              "  border: var(--sklearn-color-fitted-level-1) 1pt solid;\n",
              "  color: var(--sklearn-color-fitted-level-1);\n",
              "}\n",
              "\n",
              "/* On hover */\n",
              "#sk-container-id-1 a.estimator_doc_link:hover {\n",
              "  /* unfitted */\n",
              "  background-color: var(--sklearn-color-unfitted-level-3);\n",
              "  color: var(--sklearn-color-background);\n",
              "  text-decoration: none;\n",
              "}\n",
              "\n",
              "#sk-container-id-1 a.estimator_doc_link.fitted:hover {\n",
              "  /* fitted */\n",
              "  background-color: var(--sklearn-color-fitted-level-3);\n",
              "}\n",
              "</style><div id=\"sk-container-id-1\" class=\"sk-top-container\"><div class=\"sk-text-repr-fallback\"><pre>RandomForestClassifier(random_state=42)</pre><b>In a Jupyter environment, please rerun this cell to show the HTML representation or trust the notebook. <br />On GitHub, the HTML representation is unable to render, please try loading this page with nbviewer.org.</b></div><div class=\"sk-container\" hidden><div class=\"sk-item\"><div class=\"sk-estimator  sk-toggleable\"><input class=\"sk-toggleable__control sk-hidden--visually\" id=\"sk-estimator-id-1\" type=\"checkbox\" checked><label for=\"sk-estimator-id-1\" class=\"sk-toggleable__label  sk-toggleable__label-arrow\"><div><div>RandomForestClassifier</div></div><div><a class=\"sk-estimator-doc-link \" rel=\"noreferrer\" target=\"_blank\" href=\"https://scikit-learn.org/1.6/modules/generated/sklearn.ensemble.RandomForestClassifier.html\">?<span>Documentation for RandomForestClassifier</span></a><span class=\"sk-estimator-doc-link \">i<span>Not fitted</span></span></div></label><div class=\"sk-toggleable__content \"><pre>RandomForestClassifier(random_state=42)</pre></div> </div></div></div></div>"
            ]
          },
          "metadata": {},
          "execution_count": 32
        }
      ],
      "source": [
        "#@title Definição do modelo\n",
        "rf_classifier = RandomForestClassifier(n_estimators=100, random_state=42)\n",
        "rf_classifier"
      ]
    },
    {
      "cell_type": "code",
      "execution_count": 33,
      "metadata": {
        "cellView": "form",
        "colab": {
          "base_uri": "https://localhost:8080/",
          "height": 80
        },
        "id": "TtUv59RQJ3L_",
        "outputId": "3d979f62-6d27-49ac-aced-08a1b8b879d1"
      },
      "outputs": [
        {
          "output_type": "execute_result",
          "data": {
            "text/plain": [
              "RandomForestClassifier(random_state=42)"
            ],
            "text/html": [
              "<style>#sk-container-id-2 {\n",
              "  /* Definition of color scheme common for light and dark mode */\n",
              "  --sklearn-color-text: #000;\n",
              "  --sklearn-color-text-muted: #666;\n",
              "  --sklearn-color-line: gray;\n",
              "  /* Definition of color scheme for unfitted estimators */\n",
              "  --sklearn-color-unfitted-level-0: #fff5e6;\n",
              "  --sklearn-color-unfitted-level-1: #f6e4d2;\n",
              "  --sklearn-color-unfitted-level-2: #ffe0b3;\n",
              "  --sklearn-color-unfitted-level-3: chocolate;\n",
              "  /* Definition of color scheme for fitted estimators */\n",
              "  --sklearn-color-fitted-level-0: #f0f8ff;\n",
              "  --sklearn-color-fitted-level-1: #d4ebff;\n",
              "  --sklearn-color-fitted-level-2: #b3dbfd;\n",
              "  --sklearn-color-fitted-level-3: cornflowerblue;\n",
              "\n",
              "  /* Specific color for light theme */\n",
              "  --sklearn-color-text-on-default-background: var(--sg-text-color, var(--theme-code-foreground, var(--jp-content-font-color1, black)));\n",
              "  --sklearn-color-background: var(--sg-background-color, var(--theme-background, var(--jp-layout-color0, white)));\n",
              "  --sklearn-color-border-box: var(--sg-text-color, var(--theme-code-foreground, var(--jp-content-font-color1, black)));\n",
              "  --sklearn-color-icon: #696969;\n",
              "\n",
              "  @media (prefers-color-scheme: dark) {\n",
              "    /* Redefinition of color scheme for dark theme */\n",
              "    --sklearn-color-text-on-default-background: var(--sg-text-color, var(--theme-code-foreground, var(--jp-content-font-color1, white)));\n",
              "    --sklearn-color-background: var(--sg-background-color, var(--theme-background, var(--jp-layout-color0, #111)));\n",
              "    --sklearn-color-border-box: var(--sg-text-color, var(--theme-code-foreground, var(--jp-content-font-color1, white)));\n",
              "    --sklearn-color-icon: #878787;\n",
              "  }\n",
              "}\n",
              "\n",
              "#sk-container-id-2 {\n",
              "  color: var(--sklearn-color-text);\n",
              "}\n",
              "\n",
              "#sk-container-id-2 pre {\n",
              "  padding: 0;\n",
              "}\n",
              "\n",
              "#sk-container-id-2 input.sk-hidden--visually {\n",
              "  border: 0;\n",
              "  clip: rect(1px 1px 1px 1px);\n",
              "  clip: rect(1px, 1px, 1px, 1px);\n",
              "  height: 1px;\n",
              "  margin: -1px;\n",
              "  overflow: hidden;\n",
              "  padding: 0;\n",
              "  position: absolute;\n",
              "  width: 1px;\n",
              "}\n",
              "\n",
              "#sk-container-id-2 div.sk-dashed-wrapped {\n",
              "  border: 1px dashed var(--sklearn-color-line);\n",
              "  margin: 0 0.4em 0.5em 0.4em;\n",
              "  box-sizing: border-box;\n",
              "  padding-bottom: 0.4em;\n",
              "  background-color: var(--sklearn-color-background);\n",
              "}\n",
              "\n",
              "#sk-container-id-2 div.sk-container {\n",
              "  /* jupyter's `normalize.less` sets `[hidden] { display: none; }`\n",
              "     but bootstrap.min.css set `[hidden] { display: none !important; }`\n",
              "     so we also need the `!important` here to be able to override the\n",
              "     default hidden behavior on the sphinx rendered scikit-learn.org.\n",
              "     See: https://github.com/scikit-learn/scikit-learn/issues/21755 */\n",
              "  display: inline-block !important;\n",
              "  position: relative;\n",
              "}\n",
              "\n",
              "#sk-container-id-2 div.sk-text-repr-fallback {\n",
              "  display: none;\n",
              "}\n",
              "\n",
              "div.sk-parallel-item,\n",
              "div.sk-serial,\n",
              "div.sk-item {\n",
              "  /* draw centered vertical line to link estimators */\n",
              "  background-image: linear-gradient(var(--sklearn-color-text-on-default-background), var(--sklearn-color-text-on-default-background));\n",
              "  background-size: 2px 100%;\n",
              "  background-repeat: no-repeat;\n",
              "  background-position: center center;\n",
              "}\n",
              "\n",
              "/* Parallel-specific style estimator block */\n",
              "\n",
              "#sk-container-id-2 div.sk-parallel-item::after {\n",
              "  content: \"\";\n",
              "  width: 100%;\n",
              "  border-bottom: 2px solid var(--sklearn-color-text-on-default-background);\n",
              "  flex-grow: 1;\n",
              "}\n",
              "\n",
              "#sk-container-id-2 div.sk-parallel {\n",
              "  display: flex;\n",
              "  align-items: stretch;\n",
              "  justify-content: center;\n",
              "  background-color: var(--sklearn-color-background);\n",
              "  position: relative;\n",
              "}\n",
              "\n",
              "#sk-container-id-2 div.sk-parallel-item {\n",
              "  display: flex;\n",
              "  flex-direction: column;\n",
              "}\n",
              "\n",
              "#sk-container-id-2 div.sk-parallel-item:first-child::after {\n",
              "  align-self: flex-end;\n",
              "  width: 50%;\n",
              "}\n",
              "\n",
              "#sk-container-id-2 div.sk-parallel-item:last-child::after {\n",
              "  align-self: flex-start;\n",
              "  width: 50%;\n",
              "}\n",
              "\n",
              "#sk-container-id-2 div.sk-parallel-item:only-child::after {\n",
              "  width: 0;\n",
              "}\n",
              "\n",
              "/* Serial-specific style estimator block */\n",
              "\n",
              "#sk-container-id-2 div.sk-serial {\n",
              "  display: flex;\n",
              "  flex-direction: column;\n",
              "  align-items: center;\n",
              "  background-color: var(--sklearn-color-background);\n",
              "  padding-right: 1em;\n",
              "  padding-left: 1em;\n",
              "}\n",
              "\n",
              "\n",
              "/* Toggleable style: style used for estimator/Pipeline/ColumnTransformer box that is\n",
              "clickable and can be expanded/collapsed.\n",
              "- Pipeline and ColumnTransformer use this feature and define the default style\n",
              "- Estimators will overwrite some part of the style using the `sk-estimator` class\n",
              "*/\n",
              "\n",
              "/* Pipeline and ColumnTransformer style (default) */\n",
              "\n",
              "#sk-container-id-2 div.sk-toggleable {\n",
              "  /* Default theme specific background. It is overwritten whether we have a\n",
              "  specific estimator or a Pipeline/ColumnTransformer */\n",
              "  background-color: var(--sklearn-color-background);\n",
              "}\n",
              "\n",
              "/* Toggleable label */\n",
              "#sk-container-id-2 label.sk-toggleable__label {\n",
              "  cursor: pointer;\n",
              "  display: flex;\n",
              "  width: 100%;\n",
              "  margin-bottom: 0;\n",
              "  padding: 0.5em;\n",
              "  box-sizing: border-box;\n",
              "  text-align: center;\n",
              "  align-items: start;\n",
              "  justify-content: space-between;\n",
              "  gap: 0.5em;\n",
              "}\n",
              "\n",
              "#sk-container-id-2 label.sk-toggleable__label .caption {\n",
              "  font-size: 0.6rem;\n",
              "  font-weight: lighter;\n",
              "  color: var(--sklearn-color-text-muted);\n",
              "}\n",
              "\n",
              "#sk-container-id-2 label.sk-toggleable__label-arrow:before {\n",
              "  /* Arrow on the left of the label */\n",
              "  content: \"▸\";\n",
              "  float: left;\n",
              "  margin-right: 0.25em;\n",
              "  color: var(--sklearn-color-icon);\n",
              "}\n",
              "\n",
              "#sk-container-id-2 label.sk-toggleable__label-arrow:hover:before {\n",
              "  color: var(--sklearn-color-text);\n",
              "}\n",
              "\n",
              "/* Toggleable content - dropdown */\n",
              "\n",
              "#sk-container-id-2 div.sk-toggleable__content {\n",
              "  max-height: 0;\n",
              "  max-width: 0;\n",
              "  overflow: hidden;\n",
              "  text-align: left;\n",
              "  /* unfitted */\n",
              "  background-color: var(--sklearn-color-unfitted-level-0);\n",
              "}\n",
              "\n",
              "#sk-container-id-2 div.sk-toggleable__content.fitted {\n",
              "  /* fitted */\n",
              "  background-color: var(--sklearn-color-fitted-level-0);\n",
              "}\n",
              "\n",
              "#sk-container-id-2 div.sk-toggleable__content pre {\n",
              "  margin: 0.2em;\n",
              "  border-radius: 0.25em;\n",
              "  color: var(--sklearn-color-text);\n",
              "  /* unfitted */\n",
              "  background-color: var(--sklearn-color-unfitted-level-0);\n",
              "}\n",
              "\n",
              "#sk-container-id-2 div.sk-toggleable__content.fitted pre {\n",
              "  /* unfitted */\n",
              "  background-color: var(--sklearn-color-fitted-level-0);\n",
              "}\n",
              "\n",
              "#sk-container-id-2 input.sk-toggleable__control:checked~div.sk-toggleable__content {\n",
              "  /* Expand drop-down */\n",
              "  max-height: 200px;\n",
              "  max-width: 100%;\n",
              "  overflow: auto;\n",
              "}\n",
              "\n",
              "#sk-container-id-2 input.sk-toggleable__control:checked~label.sk-toggleable__label-arrow:before {\n",
              "  content: \"▾\";\n",
              "}\n",
              "\n",
              "/* Pipeline/ColumnTransformer-specific style */\n",
              "\n",
              "#sk-container-id-2 div.sk-label input.sk-toggleable__control:checked~label.sk-toggleable__label {\n",
              "  color: var(--sklearn-color-text);\n",
              "  background-color: var(--sklearn-color-unfitted-level-2);\n",
              "}\n",
              "\n",
              "#sk-container-id-2 div.sk-label.fitted input.sk-toggleable__control:checked~label.sk-toggleable__label {\n",
              "  background-color: var(--sklearn-color-fitted-level-2);\n",
              "}\n",
              "\n",
              "/* Estimator-specific style */\n",
              "\n",
              "/* Colorize estimator box */\n",
              "#sk-container-id-2 div.sk-estimator input.sk-toggleable__control:checked~label.sk-toggleable__label {\n",
              "  /* unfitted */\n",
              "  background-color: var(--sklearn-color-unfitted-level-2);\n",
              "}\n",
              "\n",
              "#sk-container-id-2 div.sk-estimator.fitted input.sk-toggleable__control:checked~label.sk-toggleable__label {\n",
              "  /* fitted */\n",
              "  background-color: var(--sklearn-color-fitted-level-2);\n",
              "}\n",
              "\n",
              "#sk-container-id-2 div.sk-label label.sk-toggleable__label,\n",
              "#sk-container-id-2 div.sk-label label {\n",
              "  /* The background is the default theme color */\n",
              "  color: var(--sklearn-color-text-on-default-background);\n",
              "}\n",
              "\n",
              "/* On hover, darken the color of the background */\n",
              "#sk-container-id-2 div.sk-label:hover label.sk-toggleable__label {\n",
              "  color: var(--sklearn-color-text);\n",
              "  background-color: var(--sklearn-color-unfitted-level-2);\n",
              "}\n",
              "\n",
              "/* Label box, darken color on hover, fitted */\n",
              "#sk-container-id-2 div.sk-label.fitted:hover label.sk-toggleable__label.fitted {\n",
              "  color: var(--sklearn-color-text);\n",
              "  background-color: var(--sklearn-color-fitted-level-2);\n",
              "}\n",
              "\n",
              "/* Estimator label */\n",
              "\n",
              "#sk-container-id-2 div.sk-label label {\n",
              "  font-family: monospace;\n",
              "  font-weight: bold;\n",
              "  display: inline-block;\n",
              "  line-height: 1.2em;\n",
              "}\n",
              "\n",
              "#sk-container-id-2 div.sk-label-container {\n",
              "  text-align: center;\n",
              "}\n",
              "\n",
              "/* Estimator-specific */\n",
              "#sk-container-id-2 div.sk-estimator {\n",
              "  font-family: monospace;\n",
              "  border: 1px dotted var(--sklearn-color-border-box);\n",
              "  border-radius: 0.25em;\n",
              "  box-sizing: border-box;\n",
              "  margin-bottom: 0.5em;\n",
              "  /* unfitted */\n",
              "  background-color: var(--sklearn-color-unfitted-level-0);\n",
              "}\n",
              "\n",
              "#sk-container-id-2 div.sk-estimator.fitted {\n",
              "  /* fitted */\n",
              "  background-color: var(--sklearn-color-fitted-level-0);\n",
              "}\n",
              "\n",
              "/* on hover */\n",
              "#sk-container-id-2 div.sk-estimator:hover {\n",
              "  /* unfitted */\n",
              "  background-color: var(--sklearn-color-unfitted-level-2);\n",
              "}\n",
              "\n",
              "#sk-container-id-2 div.sk-estimator.fitted:hover {\n",
              "  /* fitted */\n",
              "  background-color: var(--sklearn-color-fitted-level-2);\n",
              "}\n",
              "\n",
              "/* Specification for estimator info (e.g. \"i\" and \"?\") */\n",
              "\n",
              "/* Common style for \"i\" and \"?\" */\n",
              "\n",
              ".sk-estimator-doc-link,\n",
              "a:link.sk-estimator-doc-link,\n",
              "a:visited.sk-estimator-doc-link {\n",
              "  float: right;\n",
              "  font-size: smaller;\n",
              "  line-height: 1em;\n",
              "  font-family: monospace;\n",
              "  background-color: var(--sklearn-color-background);\n",
              "  border-radius: 1em;\n",
              "  height: 1em;\n",
              "  width: 1em;\n",
              "  text-decoration: none !important;\n",
              "  margin-left: 0.5em;\n",
              "  text-align: center;\n",
              "  /* unfitted */\n",
              "  border: var(--sklearn-color-unfitted-level-1) 1pt solid;\n",
              "  color: var(--sklearn-color-unfitted-level-1);\n",
              "}\n",
              "\n",
              ".sk-estimator-doc-link.fitted,\n",
              "a:link.sk-estimator-doc-link.fitted,\n",
              "a:visited.sk-estimator-doc-link.fitted {\n",
              "  /* fitted */\n",
              "  border: var(--sklearn-color-fitted-level-1) 1pt solid;\n",
              "  color: var(--sklearn-color-fitted-level-1);\n",
              "}\n",
              "\n",
              "/* On hover */\n",
              "div.sk-estimator:hover .sk-estimator-doc-link:hover,\n",
              ".sk-estimator-doc-link:hover,\n",
              "div.sk-label-container:hover .sk-estimator-doc-link:hover,\n",
              ".sk-estimator-doc-link:hover {\n",
              "  /* unfitted */\n",
              "  background-color: var(--sklearn-color-unfitted-level-3);\n",
              "  color: var(--sklearn-color-background);\n",
              "  text-decoration: none;\n",
              "}\n",
              "\n",
              "div.sk-estimator.fitted:hover .sk-estimator-doc-link.fitted:hover,\n",
              ".sk-estimator-doc-link.fitted:hover,\n",
              "div.sk-label-container:hover .sk-estimator-doc-link.fitted:hover,\n",
              ".sk-estimator-doc-link.fitted:hover {\n",
              "  /* fitted */\n",
              "  background-color: var(--sklearn-color-fitted-level-3);\n",
              "  color: var(--sklearn-color-background);\n",
              "  text-decoration: none;\n",
              "}\n",
              "\n",
              "/* Span, style for the box shown on hovering the info icon */\n",
              ".sk-estimator-doc-link span {\n",
              "  display: none;\n",
              "  z-index: 9999;\n",
              "  position: relative;\n",
              "  font-weight: normal;\n",
              "  right: .2ex;\n",
              "  padding: .5ex;\n",
              "  margin: .5ex;\n",
              "  width: min-content;\n",
              "  min-width: 20ex;\n",
              "  max-width: 50ex;\n",
              "  color: var(--sklearn-color-text);\n",
              "  box-shadow: 2pt 2pt 4pt #999;\n",
              "  /* unfitted */\n",
              "  background: var(--sklearn-color-unfitted-level-0);\n",
              "  border: .5pt solid var(--sklearn-color-unfitted-level-3);\n",
              "}\n",
              "\n",
              ".sk-estimator-doc-link.fitted span {\n",
              "  /* fitted */\n",
              "  background: var(--sklearn-color-fitted-level-0);\n",
              "  border: var(--sklearn-color-fitted-level-3);\n",
              "}\n",
              "\n",
              ".sk-estimator-doc-link:hover span {\n",
              "  display: block;\n",
              "}\n",
              "\n",
              "/* \"?\"-specific style due to the `<a>` HTML tag */\n",
              "\n",
              "#sk-container-id-2 a.estimator_doc_link {\n",
              "  float: right;\n",
              "  font-size: 1rem;\n",
              "  line-height: 1em;\n",
              "  font-family: monospace;\n",
              "  background-color: var(--sklearn-color-background);\n",
              "  border-radius: 1rem;\n",
              "  height: 1rem;\n",
              "  width: 1rem;\n",
              "  text-decoration: none;\n",
              "  /* unfitted */\n",
              "  color: var(--sklearn-color-unfitted-level-1);\n",
              "  border: var(--sklearn-color-unfitted-level-1) 1pt solid;\n",
              "}\n",
              "\n",
              "#sk-container-id-2 a.estimator_doc_link.fitted {\n",
              "  /* fitted */\n",
              "  border: var(--sklearn-color-fitted-level-1) 1pt solid;\n",
              "  color: var(--sklearn-color-fitted-level-1);\n",
              "}\n",
              "\n",
              "/* On hover */\n",
              "#sk-container-id-2 a.estimator_doc_link:hover {\n",
              "  /* unfitted */\n",
              "  background-color: var(--sklearn-color-unfitted-level-3);\n",
              "  color: var(--sklearn-color-background);\n",
              "  text-decoration: none;\n",
              "}\n",
              "\n",
              "#sk-container-id-2 a.estimator_doc_link.fitted:hover {\n",
              "  /* fitted */\n",
              "  background-color: var(--sklearn-color-fitted-level-3);\n",
              "}\n",
              "</style><div id=\"sk-container-id-2\" class=\"sk-top-container\"><div class=\"sk-text-repr-fallback\"><pre>RandomForestClassifier(random_state=42)</pre><b>In a Jupyter environment, please rerun this cell to show the HTML representation or trust the notebook. <br />On GitHub, the HTML representation is unable to render, please try loading this page with nbviewer.org.</b></div><div class=\"sk-container\" hidden><div class=\"sk-item\"><div class=\"sk-estimator fitted sk-toggleable\"><input class=\"sk-toggleable__control sk-hidden--visually\" id=\"sk-estimator-id-2\" type=\"checkbox\" checked><label for=\"sk-estimator-id-2\" class=\"sk-toggleable__label fitted sk-toggleable__label-arrow\"><div><div>RandomForestClassifier</div></div><div><a class=\"sk-estimator-doc-link fitted\" rel=\"noreferrer\" target=\"_blank\" href=\"https://scikit-learn.org/1.6/modules/generated/sklearn.ensemble.RandomForestClassifier.html\">?<span>Documentation for RandomForestClassifier</span></a><span class=\"sk-estimator-doc-link fitted\">i<span>Fitted</span></span></div></label><div class=\"sk-toggleable__content fitted\"><pre>RandomForestClassifier(random_state=42)</pre></div> </div></div></div></div>"
            ]
          },
          "metadata": {},
          "execution_count": 33
        }
      ],
      "source": [
        "#@title Treinamento inicial\n",
        "rf_classifier.fit(X_train, y_train)"
      ]
    },
    {
      "cell_type": "markdown",
      "metadata": {
        "id": "sm6MCamFKTwB"
      },
      "source": [
        "### Avaliação inicial"
      ]
    },
    {
      "cell_type": "code",
      "execution_count": 34,
      "metadata": {
        "cellView": "form",
        "colab": {
          "base_uri": "https://localhost:8080/"
        },
        "id": "pIr72__1hEBK",
        "outputId": "a5f09efd-7ccf-4d68-956a-9ad6e6a51d89"
      },
      "outputs": [
        {
          "output_type": "stream",
          "name": "stdout",
          "text": [
            "Predições: (1758,)\n"
          ]
        }
      ],
      "source": [
        "#@title Gerando predições\n",
        "rf_preds = rf_classifier.predict(X_test)\n",
        "rf_preds_0 = 1 - rf_preds\n",
        "rf_preds_scores = np.concatenate([rf_preds_0.reshape(-1, 1), rf_preds.reshape(-1, 1)], axis=1)\n",
        "print(f\"Predições: {rf_preds.shape}\")"
      ]
    },
    {
      "cell_type": "code",
      "execution_count": 35,
      "metadata": {
        "cellView": "form",
        "colab": {
          "base_uri": "https://localhost:8080/",
          "height": 472
        },
        "id": "XhPeL92TJ7Bz",
        "outputId": "46a7e238-1b77-4c53-ecdc-8c8a4cbbd89a"
      },
      "outputs": [
        {
          "output_type": "display_data",
          "data": {
            "text/plain": [
              "<Figure size 640x480 with 1 Axes>"
            ],
            "image/png": "[encoded data removed]"
          },
          "metadata": {}
        }
      ],
      "source": [
        "#@title Teste Kolmogorov-Smirnov\n",
        "rf_ks = plot_ks(y_test, rf_preds_scores)"
      ]
    },
    {
      "cell_type": "code",
      "execution_count": 36,
      "metadata": {
        "cellView": "form",
        "colab": {
          "base_uri": "https://localhost:8080/"
        },
        "id": "KAueDtB_KbMc",
        "outputId": "abd25fb9-12b8-41a5-9c6d-96c77c93bbbf"
      },
      "outputs": [
        {
          "output_type": "stream",
          "name": "stdout",
          "text": [
            "MSE: 0.21103526734926054\n"
          ]
        }
      ],
      "source": [
        "#@title MSE\n",
        "rf_mse = mean_squared_error(y_test, rf_preds)\n",
        "print(f\"MSE: {rf_mse}\")"
      ]
    },
    {
      "cell_type": "code",
      "execution_count": 37,
      "metadata": {
        "cellView": "form",
        "colab": {
          "base_uri": "https://localhost:8080/",
          "height": 449
        },
        "id": "OR1NZ2NmKglk",
        "outputId": "3a7c0314-f279-4af7-b3db-749092012e16"
      },
      "outputs": [
        {
          "output_type": "display_data",
          "data": {
            "text/plain": [
              "<Figure size 640x480 with 2 Axes>"
            ],
            "image/png": "[encoded data removed]"
          },
          "metadata": {}
        }
      ],
      "source": [
        "#@title Matriz de confusão\n",
        "rf_cm = confusion_matrix(y_test, rf_preds)\n",
        "plot_conf_matrix(rf_cm)"
      ]
    },
    {
      "cell_type": "code",
      "execution_count": 38,
      "metadata": {
        "cellView": "form",
        "colab": {
          "base_uri": "https://localhost:8080/",
          "height": 559
        },
        "id": "ytYB8Ou3KkZc",
        "outputId": "ab096fc1-8781-4a40-956f-f560b3f7474f"
      },
      "outputs": [
        {
          "output_type": "stream",
          "name": "stdout",
          "text": [
            "AUC-ROC: 0.6970883915494687\n"
          ]
        },
        {
          "output_type": "display_data",
          "data": {
            "text/plain": [
              "<Figure size 600x600 with 1 Axes>"
            ],
            "image/png": "[encoded data removed]"
          },
          "metadata": {}
        }
      ],
      "source": [
        "#@title AUC-ROC\n",
        "rf_auc = roc_auc_score(y_test, rf_preds)\n",
        "print(f\"AUC-ROC: {rf_auc}\")\n",
        "rf_fpr, rf_tpr, _ = roc_curve(y_test, rf_preds)\n",
        "plot_roc(rf_fpr, rf_tpr, rf_auc, 'Random Forest')"
      ]
    },
    {
      "cell_type": "code",
      "execution_count": 39,
      "metadata": {
        "cellView": "form",
        "colab": {
          "base_uri": "https://localhost:8080/"
        },
        "id": "xt4SDz5WKscR",
        "outputId": "a32c7767-41b4-495c-a70a-cec3150584ae"
      },
      "outputs": [
        {
          "output_type": "stream",
          "name": "stdout",
          "text": [
            "Recall: 0.5010706638115632\n",
            "Precision: 0.6290322580645161\n",
            "F1-score: 0.5578069129916567\n"
          ]
        }
      ],
      "source": [
        "#@title Recall, precision e f-score\n",
        "rf_recall = recall_score(y_test, rf_preds)\n",
        "rf_precision = precision_score(y_test, rf_preds)\n",
        "rf_f1 = f1_score(y_test, rf_preds)\n",
        "print(f\"Recall: {rf_recall}\")\n",
        "print(f\"Precision: {rf_precision}\")\n",
        "print(f\"F1-score: {rf_f1}\")"
      ]
    },
    {
      "cell_type": "markdown",
      "metadata": {
        "id": "B79dbgAeLzUb"
      },
      "source": [
        "# Otimizando classificadores iniciais"
      ]
    },
    {
      "cell_type": "markdown",
      "metadata": {
        "id": "h7H67oBpL4os"
      },
      "source": [
        "## MLP"
      ]
    },
    {
      "cell_type": "code",
      "execution_count": null,
      "metadata": {
        "colab": {
          "base_uri": "https://localhost:8080/"
        },
        "cellView": "form",
        "id": "YLXA01WE2YR-",
        "outputId": "f9439da4-91d5-45e6-a419-f987ed40dca7"
      },
      "outputs": [
        {
          "output_type": "stream",
          "name": "stderr",
          "text": [
            "[I 2025-08-07 23:32:29,582] A new study created in memory with name: no-name-027cdb7f-f3cc-46e3-b68d-bfc9ed5f57f1\n"
          ]
        },
        {
          "output_type": "stream",
          "name": "stdout",
          "text": [
            "Iniciando a busca pelos hiperparametros do MLP...\n"
          ]
        },
        {
          "output_type": "stream",
          "name": "stderr",
          "text": [
            "[I 2025-08-07 23:33:25,559] Trial 0 finished with value: 0.8385553359985352 and parameters: {'n_layers': 1, 'n_units_l0': 57, 'activation_l0': 'relu', 'dropout_l0': 0.03052035353256749, 'learning_rate': 0.002518310989753292, 'loss': 'binary_crossentropy'}. Best is trial 0 with value: 0.8385553359985352.\n",
            "[I 2025-08-07 23:34:25,049] Trial 1 finished with value: 0.8407016396522522 and parameters: {'n_layers': 1, 'n_units_l0': 43, 'activation_l0': 'sigmoid', 'dropout_l0': 0.015426292619111659, 'learning_rate': 0.0005643413086680889, 'loss': 'binary_crossentropy'}. Best is trial 1 with value: 0.8407016396522522.\n",
            "[I 2025-08-07 23:34:39,508] Trial 2 finished with value: 0.6128882169723511 and parameters: {'n_layers': 1, 'n_units_l0': 21, 'activation_l0': 'relu', 'dropout_l0': 0.48776604276374963, 'learning_rate': 0.00019852742493667248, 'loss': 'binary_crossentropy'}. Best is trial 1 with value: 0.8407016396522522.\n",
            "[I 2025-08-07 23:34:57,442] Trial 3 finished with value: 0.5 and parameters: {'n_layers': 1, 'n_units_l0': 34, 'activation_l0': 'relu', 'dropout_l0': 0.2518458255947251, 'learning_rate': 1.8836529117703696e-05, 'loss': 'mse'}. Best is trial 1 with value: 0.8407016396522522.\n",
            "[I 2025-08-07 23:35:26,919] Trial 4 finished with value: 0.794192910194397 and parameters: {'n_layers': 2, 'n_units_l0': 93, 'activation_l0': 'tanh', 'dropout_l0': 0.24099586357718827, 'n_units_l1': 14, 'activation_l1': 'relu', 'dropout_l1': 0.044250150058395166, 'learning_rate': 0.0012727828650557337, 'loss': 'binary_crossentropy'}. Best is trial 1 with value: 0.8407016396522522.\n",
            "[I 2025-08-07 23:35:59,214] Trial 5 finished with value: 0.8231148719787598 and parameters: {'n_layers': 2, 'n_units_l0': 78, 'activation_l0': 'tanh', 'dropout_l0': 0.26866284040519733, 'n_units_l1': 48, 'activation_l1': 'tanh', 'dropout_l1': 0.45844608838635803, 'learning_rate': 0.0004895286072834358, 'loss': 'mse'}. Best is trial 1 with value: 0.8407016396522522.\n",
            "[I 2025-08-07 23:36:36,786] Trial 6 finished with value: 0.8073601126670837 and parameters: {'n_layers': 2, 'n_units_l0': 10, 'activation_l0': 'sigmoid', 'dropout_l0': 0.3958186341569875, 'n_units_l1': 30, 'activation_l1': 'sigmoid', 'dropout_l1': 0.2869491114663316, 'learning_rate': 0.0016981769413181693, 'loss': 'binary_crossentropy'}. Best is trial 1 with value: 0.8407016396522522.\n",
            "[I 2025-08-07 23:37:13,840] Trial 7 finished with value: 0.7950736284255981 and parameters: {'n_layers': 2, 'n_units_l0': 40, 'activation_l0': 'relu', 'dropout_l0': 0.4545459544991392, 'n_units_l1': 96, 'activation_l1': 'tanh', 'dropout_l1': 0.4978247471989973, 'learning_rate': 0.004670203658621034, 'loss': 'binary_crossentropy'}. Best is trial 1 with value: 0.8407016396522522.\n",
            "[I 2025-08-07 23:37:44,501] Trial 8 finished with value: 0.7825755476951599 and parameters: {'n_layers': 2, 'n_units_l0': 19, 'activation_l0': 'tanh', 'dropout_l0': 0.3004389622979909, 'n_units_l1': 50, 'activation_l1': 'tanh', 'dropout_l1': 0.3189937813129818, 'learning_rate': 0.001255321728848356, 'loss': 'binary_crossentropy'}. Best is trial 1 with value: 0.8407016396522522.\n",
            "[I 2025-08-07 23:37:59,906] Trial 9 finished with value: 0.6567249298095703 and parameters: {'n_layers': 1, 'n_units_l0': 45, 'activation_l0': 'relu', 'dropout_l0': 0.2220585607344277, 'learning_rate': 9.431703867369336e-05, 'loss': 'mse'}. Best is trial 1 with value: 0.8407016396522522.\n",
            "[I 2025-08-07 23:38:15,986] Trial 10 finished with value: 0.7803779244422913 and parameters: {'n_layers': 1, 'n_units_l0': 63, 'activation_l0': 'sigmoid', 'dropout_l0': 0.0112148949288996, 'learning_rate': 0.009399641314629203, 'loss': 'mse'}. Best is trial 1 with value: 0.8407016396522522.\n",
            "[I 2025-08-07 23:38:52,186] Trial 11 finished with value: 0.8370741605758667 and parameters: {'n_layers': 1, 'n_units_l0': 61, 'activation_l0': 'sigmoid', 'dropout_l0': 0.0005791711964665165, 'learning_rate': 0.0004045856012471673, 'loss': 'binary_crossentropy'}. Best is trial 1 with value: 0.8407016396522522.\n",
            "[I 2025-08-07 23:39:19,309] Trial 12 finished with value: 0.7932574152946472 and parameters: {'n_layers': 1, 'n_units_l0': 53, 'activation_l0': 'sigmoid', 'dropout_l0': 0.0917985515411088, 'learning_rate': 0.003192599498955607, 'loss': 'binary_crossentropy'}. Best is trial 1 with value: 0.8407016396522522.\n",
            "[I 2025-08-07 23:41:26,059] Trial 13 finished with value: 0.8377293348312378 and parameters: {'n_layers': 1, 'n_units_l0': 73, 'activation_l0': 'relu', 'dropout_l0': 0.13522655605347822, 'learning_rate': 7.578748862679015e-05, 'loss': 'binary_crossentropy'}. Best is trial 1 with value: 0.8407016396522522.\n",
            "[I 2025-08-07 23:42:16,663] Trial 14 finished with value: 0.8331142067909241 and parameters: {'n_layers': 1, 'n_units_l0': 33, 'activation_l0': 'sigmoid', 'dropout_l0': 0.10438085630247149, 'learning_rate': 0.000765065589934164, 'loss': 'binary_crossentropy'}. Best is trial 1 with value: 0.8407016396522522.\n",
            "[I 2025-08-07 23:43:26,333] Trial 15 finished with value: 0.8357638120651245 and parameters: {'n_layers': 1, 'n_units_l0': 52, 'activation_l0': 'relu', 'dropout_l0': 0.06003455068924671, 'learning_rate': 0.0002240243838257455, 'loss': 'binary_crossentropy'}. Best is trial 1 with value: 0.8407016396522522.\n",
            "[I 2025-08-07 23:43:58,410] Trial 16 finished with value: 0.7999086380004883 and parameters: {'n_layers': 1, 'n_units_l0': 74, 'activation_l0': 'sigmoid', 'dropout_l0': 0.16667954798219914, 'learning_rate': 0.0029921677491927356, 'loss': 'binary_crossentropy'}. Best is trial 1 with value: 0.8407016396522522.\n",
            "[I 2025-08-07 23:44:26,174] Trial 17 finished with value: 0.834746241569519 and parameters: {'n_layers': 1, 'n_units_l0': 92, 'activation_l0': 'relu', 'dropout_l0': 0.04521609747162769, 'learning_rate': 0.009264311225196215, 'loss': 'binary_crossentropy'}. Best is trial 1 with value: 0.8407016396522522.\n",
            "[I 2025-08-07 23:49:37,625] Trial 18 finished with value: 0.8348723649978638 and parameters: {'n_layers': 1, 'n_units_l0': 45, 'activation_l0': 'sigmoid', 'dropout_l0': 0.16801097149744415, 'learning_rate': 2.7087077679249335e-05, 'loss': 'mse'}. Best is trial 1 with value: 0.8407016396522522.\n",
            "[I 2025-08-07 23:50:39,278] Trial 19 finished with value: 0.8306477665901184 and parameters: {'n_layers': 1, 'n_units_l0': 64, 'activation_l0': 'tanh', 'dropout_l0': 0.3392496398666102, 'learning_rate': 0.000108045357338874, 'loss': 'binary_crossentropy'}. Best is trial 1 with value: 0.8407016396522522.\n",
            "[I 2025-08-07 23:51:18,003] Trial 20 finished with value: 0.8296159505844116 and parameters: {'n_layers': 2, 'n_units_l0': 82, 'activation_l0': 'sigmoid', 'dropout_l0': 0.06056041508183729, 'n_units_l1': 99, 'activation_l1': 'relu', 'dropout_l1': 0.0015806777458078902, 'learning_rate': 0.0007273544564638491, 'loss': 'binary_crossentropy'}. Best is trial 1 with value: 0.8407016396522522.\n",
            "[I 2025-08-07 23:53:09,811] Trial 21 finished with value: 0.8394020199775696 and parameters: {'n_layers': 1, 'n_units_l0': 71, 'activation_l0': 'relu', 'dropout_l0': 0.13321737735605155, 'learning_rate': 7.582822262471716e-05, 'loss': 'binary_crossentropy'}. Best is trial 1 with value: 0.8407016396522522.\n",
            "[I 2025-08-07 23:53:25,566] Trial 22 finished with value: 0.6182159185409546 and parameters: {'n_layers': 1, 'n_units_l0': 67, 'activation_l0': 'relu', 'dropout_l0': 0.11722730526863079, 'learning_rate': 4.184362807058122e-05, 'loss': 'binary_crossentropy'}. Best is trial 1 with value: 0.8407016396522522.\n",
            "[I 2025-08-07 23:54:34,331] Trial 23 finished with value: 0.8373578190803528 and parameters: {'n_layers': 1, 'n_units_l0': 55, 'activation_l0': 'relu', 'dropout_l0': 0.18568559578274116, 'learning_rate': 0.00017913939072262286, 'loss': 'binary_crossentropy'}. Best is trial 1 with value: 0.8407016396522522.\n",
            "[I 2025-08-07 23:54:57,628] Trial 24 finished with value: 0.7127212882041931 and parameters: {'n_layers': 1, 'n_units_l0': 48, 'activation_l0': 'relu', 'dropout_l0': 0.03696067532245943, 'learning_rate': 4.744287914982533e-05, 'loss': 'binary_crossentropy'}. Best is trial 1 with value: 0.8407016396522522.\n",
            "[I 2025-08-07 23:55:26,410] Trial 25 finished with value: 0.6512904167175293 and parameters: {'n_layers': 1, 'n_units_l0': 84, 'activation_l0': 'relu', 'dropout_l0': 0.07833932972062728, 'learning_rate': 1.1350599990997611e-05, 'loss': 'binary_crossentropy'}. Best is trial 1 with value: 0.8407016396522522.\n",
            "[I 2025-08-07 23:56:44,299] Trial 26 finished with value: 0.6777742505073547 and parameters: {'n_layers': 1, 'n_units_l0': 69, 'activation_l0': 'relu', 'dropout_l0': 0.145920395007455, 'learning_rate': 0.002010109662023926, 'loss': 'mse'}. Best is trial 1 with value: 0.8407016396522522.\n",
            "[I 2025-08-07 23:57:18,889] Trial 27 finished with value: 0.826943039894104 and parameters: {'n_layers': 1, 'n_units_l0': 31, 'activation_l0': 'relu', 'dropout_l0': 0.027877085908014677, 'learning_rate': 0.00029267857152422513, 'loss': 'binary_crossentropy'}. Best is trial 1 with value: 0.8407016396522522.\n",
            "[I 2025-08-07 23:57:58,281] Trial 28 finished with value: 0.8262489438056946 and parameters: {'n_layers': 1, 'n_units_l0': 58, 'activation_l0': 'tanh', 'dropout_l0': 0.19297181202460506, 'learning_rate': 0.0006802798343336365, 'loss': 'binary_crossentropy'}. Best is trial 1 with value: 0.8407016396522522.\n",
            "[I 2025-08-07 23:58:21,000] Trial 29 finished with value: 0.7918798923492432 and parameters: {'n_layers': 1, 'n_units_l0': 24, 'activation_l0': 'sigmoid', 'dropout_l0': 0.08117940328279949, 'learning_rate': 0.004898038370398421, 'loss': 'binary_crossentropy'}. Best is trial 1 with value: 0.8407016396522522.\n",
            "[I 2025-08-07 23:59:55,226] Trial 30 finished with value: 0.839886486530304 and parameters: {'n_layers': 1, 'n_units_l0': 99, 'activation_l0': 'relu', 'dropout_l0': 0.12114758689619201, 'learning_rate': 0.00014230172876019372, 'loss': 'binary_crossentropy'}. Best is trial 1 with value: 0.8407016396522522.\n",
            "[I 2025-08-08 00:00:20,414] Trial 31 finished with value: 0.7891654372215271 and parameters: {'n_layers': 1, 'n_units_l0': 100, 'activation_l0': 'relu', 'dropout_l0': 7.083628922420482e-05, 'learning_rate': 0.00015669315555036467, 'loss': 'binary_crossentropy'}. Best is trial 1 with value: 0.8407016396522522.\n",
            "[I 2025-08-08 00:00:33,487] Trial 32 finished with value: 0.6630834937095642 and parameters: {'n_layers': 1, 'n_units_l0': 40, 'activation_l0': 'relu', 'dropout_l0': 0.12158939456155171, 'learning_rate': 0.00013110956855357487, 'loss': 'binary_crossentropy'}. Best is trial 1 with value: 0.8407016396522522.\n",
            "[I 2025-08-08 00:02:12,576] Trial 33 finished with value: 0.7812860012054443 and parameters: {'n_layers': 1, 'n_units_l0': 86, 'activation_l0': 'relu', 'dropout_l0': 0.04158064587950795, 'learning_rate': 6.767120898331512e-05, 'loss': 'binary_crossentropy'}. Best is trial 1 with value: 0.8407016396522522.\n",
            "[I 2025-08-08 00:02:40,108] Trial 34 finished with value: 0.6515167355537415 and parameters: {'n_layers': 1, 'n_units_l0': 100, 'activation_l0': 'relu', 'dropout_l0': 0.07820306862023416, 'learning_rate': 0.0002685247070739292, 'loss': 'mse'}. Best is trial 1 with value: 0.8407016396522522.\n",
            "[I 2025-08-08 00:03:34,355] Trial 35 finished with value: 0.8380552530288696 and parameters: {'n_layers': 1, 'n_units_l0': 92, 'activation_l0': 'relu', 'dropout_l0': 0.20722839787772093, 'learning_rate': 0.00042650221617822326, 'loss': 'binary_crossentropy'}. Best is trial 1 with value: 0.8407016396522522.\n",
            "[I 2025-08-08 00:08:21,081] Trial 36 finished with value: 0.8372060656547546 and parameters: {'n_layers': 2, 'n_units_l0': 38, 'activation_l0': 'tanh', 'dropout_l0': 0.2704760665228566, 'n_units_l1': 75, 'activation_l1': 'sigmoid', 'dropout_l1': 0.16113323400914428, 'learning_rate': 2.8767188344966875e-05, 'loss': 'binary_crossentropy'}. Best is trial 1 with value: 0.8407016396522522.\n",
            "[I 2025-08-08 00:09:06,438] Trial 37 finished with value: 0.8398590683937073 and parameters: {'n_layers': 1, 'n_units_l0': 76, 'activation_l0': 'relu', 'dropout_l0': 0.15168233034549541, 'learning_rate': 0.0011849581893840929, 'loss': 'binary_crossentropy'}. Best is trial 1 with value: 0.8407016396522522.\n",
            "[I 2025-08-08 00:10:03,645] Trial 38 finished with value: 0.8379175662994385 and parameters: {'n_layers': 1, 'n_units_l0': 76, 'activation_l0': 'relu', 'dropout_l0': 0.1480123715466864, 'learning_rate': 0.0009624341995027378, 'loss': 'binary_crossentropy'}. Best is trial 1 with value: 0.8407016396522522.\n",
            "[I 2025-08-08 00:10:41,004] Trial 39 finished with value: 0.8232907056808472 and parameters: {'n_layers': 2, 'n_units_l0': 69, 'activation_l0': 'sigmoid', 'dropout_l0': 0.24089424165418655, 'n_units_l1': 73, 'activation_l1': 'relu', 'dropout_l1': 0.1644390817770744, 'learning_rate': 0.0012878636632025094, 'loss': 'mse'}. Best is trial 1 with value: 0.8407016396522522.\n",
            "[I 2025-08-08 00:11:54,233] Trial 40 finished with value: 0.8393905162811279 and parameters: {'n_layers': 1, 'n_units_l0': 81, 'activation_l0': 'relu', 'dropout_l0': 0.30806344984353545, 'learning_rate': 0.000498004226882234, 'loss': 'binary_crossentropy'}. Best is trial 1 with value: 0.8407016396522522.\n",
            "[I 2025-08-08 00:12:29,934] Trial 41 finished with value: 0.8334856033325195 and parameters: {'n_layers': 1, 'n_units_l0': 79, 'activation_l0': 'relu', 'dropout_l0': 0.34899296490770304, 'learning_rate': 0.0004893004548465145, 'loss': 'binary_crossentropy'}. Best is trial 1 with value: 0.8407016396522522.\n",
            "[I 2025-08-08 00:13:25,912] Trial 42 finished with value: 0.836118757724762 and parameters: {'n_layers': 1, 'n_units_l0': 95, 'activation_l0': 'relu', 'dropout_l0': 0.3225668372116855, 'learning_rate': 0.00029774350283835, 'loss': 'binary_crossentropy'}. Best is trial 1 with value: 0.8407016396522522.\n",
            "[I 2025-08-08 00:14:07,687] Trial 43 finished with value: 0.8361031413078308 and parameters: {'n_layers': 1, 'n_units_l0': 86, 'activation_l0': 'relu', 'dropout_l0': 0.4236139989076493, 'learning_rate': 0.0011240561777866513, 'loss': 'binary_crossentropy'}. Best is trial 1 with value: 0.8407016396522522.\n",
            "[I 2025-08-08 00:15:11,664] Trial 44 finished with value: 0.840055525302887 and parameters: {'n_layers': 1, 'n_units_l0': 90, 'activation_l0': 'relu', 'dropout_l0': 0.29071659232886427, 'learning_rate': 0.0005669462911805023, 'loss': 'binary_crossentropy'}. Best is trial 1 with value: 0.8407016396522522.\n",
            "[I 2025-08-08 00:15:35,827] Trial 45 finished with value: 0.7931603789329529 and parameters: {'n_layers': 1, 'n_units_l0': 90, 'activation_l0': 'tanh', 'dropout_l0': 0.2635206650271861, 'learning_rate': 0.0014816140348511214, 'loss': 'binary_crossentropy'}. Best is trial 1 with value: 0.8407016396522522.\n",
            "[I 2025-08-08 00:15:51,360] Trial 46 finished with value: 0.5798826813697815 and parameters: {'n_layers': 1, 'n_units_l0': 88, 'activation_l0': 'relu', 'dropout_l0': 0.2189313626545422, 'learning_rate': 6.42294409991054e-05, 'loss': 'binary_crossentropy'}. Best is trial 1 with value: 0.8407016396522522.\n",
            "[I 2025-08-08 00:16:28,638] Trial 47 finished with value: 0.8083677291870117 and parameters: {'n_layers': 1, 'n_units_l0': 96, 'activation_l0': 'sigmoid', 'dropout_l0': 0.3688195543068643, 'learning_rate': 0.0019287430975859737, 'loss': 'mse'}. Best is trial 1 with value: 0.8407016396522522.\n",
            "[I 2025-08-08 00:17:02,873] Trial 48 finished with value: 0.8273561596870422 and parameters: {'n_layers': 1, 'n_units_l0': 72, 'activation_l0': 'relu', 'dropout_l0': 0.2763092841999035, 'learning_rate': 0.0006023182849486281, 'loss': 'binary_crossentropy'}. Best is trial 1 with value: 0.8407016396522522.\n",
            "[I 2025-08-08 00:18:18,413] Trial 49 finished with value: 0.8377351760864258 and parameters: {'n_layers': 1, 'n_units_l0': 96, 'activation_l0': 'sigmoid', 'dropout_l0': 0.16711169540222326, 'learning_rate': 9.552979528236594e-05, 'loss': 'binary_crossentropy'}. Best is trial 1 with value: 0.8407016396522522.\n"
          ]
        },
        {
          "output_type": "stream",
          "name": "stdout",
          "text": [
            "\n",
            "------------------Resultados da Otimização do MLP--------------------------\n",
            "Melhores hiperparametros encontrados:\n",
            "{'n_layers': 1, 'n_units_l0': 43, 'activation_l0': 'sigmoid', 'dropout_l0': 0.015426292619111659, 'learning_rate': 0.0005643413086680889, 'loss': 'binary_crossentropy'}\n",
            "\n",
            "Melhor area AUC no conjunto de validação:\n",
            "0.8407016396522522\n"
          ]
        }
      ],
      "source": [
        "#@title Otimização do MLP com Optuna\n",
        "\n",
        "# A função de otimização para o MLP\n",
        "def objective_mlp(trial):\n",
        "    \"\"\"\n",
        "    Essa função tem o mesmo 'objetivo' da sua versão RF abaixo\n",
        "    \"\"\"\n",
        "\n",
        "    model = Sequential() #modelo sequencial\n",
        "\n",
        "    n_layers = trial.suggest_int('n_layers', 1, 2)\n",
        "\n",
        "    #As n layers são adicionadas de acordo com os hiperparametros escolhidos\n",
        "    for i in range(n_layers):\n",
        "        n_units = trial.suggest_int(f'n_units_l{i}', 10, 100)\n",
        "        activation = trial.suggest_categorical(f'activation_l{i}', ['relu', 'tanh', 'sigmoid'])#funções de ativação mais comuns\n",
        "        model.add(Dense(n_units, activation=activation))\n",
        "\n",
        "        #adiciona a camada de dropout\n",
        "        dropout_rate = trial.suggest_float(f'dropout_l{i}', 0.0, 0.5)\n",
        "        model.add(Dropout(dropout_rate))\n",
        "\n",
        "    #adiciona a camada de saída\n",
        "    model.add(Dense(1, activation='sigmoid'))\n",
        "\n",
        "    learning_rate = trial.suggest_float('learning_rate', 1e-5, 1e-2, log=True)\n",
        "    optimizer = Adam(learning_rate=learning_rate)\n",
        "    loss = trial.suggest_categorical('loss', ['mse', 'binary_crossentropy']) # variando entre mse e cross-entropy\n",
        "\n",
        "    #compilando o modelo 'treinado'\n",
        "    model.compile(optimizer=optimizer,\n",
        "                  loss=loss,\n",
        "                  metrics=['AUC'])\n",
        "\n",
        "    early_stopping = EarlyStopping(monitor='val_loss', patience=15, restore_best_weights=True)\n",
        "\n",
        "    model.fit(X_train, y_train,\n",
        "              validation_data=(X_val, y_val),\n",
        "              epochs=10000,\n",
        "              callbacks=[early_stopping],\n",
        "              verbose=0)\n",
        "\n",
        "    #avaliação do modelo\n",
        "    val_auc = model.evaluate(X_val, y_val, verbose=0)[1]\n",
        "\n",
        "    return val_auc\n",
        "\n",
        "#otimização pelo optuna\n",
        "print(\"Iniciando a busca pelos hiperparametros do MLP...\")\n",
        "study_mlp = optuna.create_study(direction='maximize')\n",
        "study_mlp.optimize(objective_mlp, n_trials=50)#numero de tentativas para o MLP = 50 mas pode ser mudada\n",
        "\n",
        "print(\"\\n------------------Resultados da Otimização do MLP--------------------------\")\n",
        "print(\"Melhores hiperparametros encontrados:\")\n",
        "print(study_mlp.best_params)\n",
        "print(\"\\nMelhor area AUC no conjunto de validação:\")\n",
        "print(study_mlp.best_value)"
      ]
    },
    {
      "cell_type": "markdown",
      "metadata": {
        "id": "nQYajDVIL5fu"
      },
      "source": [
        "## Random Forest"
      ]
    },
    {
      "cell_type": "code",
      "execution_count": null,
      "metadata": {
        "colab": {
          "base_uri": "https://localhost:8080/"
        },
        "cellView": "form",
        "id": "xLgp_wC62YR_",
        "outputId": "cf189f74-8cdb-446a-aa93-c43d04cb9ff2"
      },
      "outputs": [
        {
          "output_type": "stream",
          "name": "stderr",
          "text": [
            "[I 2025-08-08 00:24:10,302] A new study created in memory with name: no-name-75751a28-463f-424a-99dc-8771c12f7d7a\n"
          ]
        },
        {
          "output_type": "stream",
          "name": "stdout",
          "text": [
            "Iniciando a busca pelos hiperparametros do modelo Random Forest...\n"
          ]
        },
        {
          "output_type": "stream",
          "name": "stderr",
          "text": [
            "[I 2025-08-08 00:24:17,700] Trial 0 finished with value: 0.8118451410439925 and parameters: {'n_estimators': 384, 'max_depth': 22, 'max_features': None, 'min_samples_leaf': 2}. Best is trial 0 with value: 0.8118451410439925.\n",
            "[I 2025-08-08 00:24:18,581] Trial 1 finished with value: 0.8331481165107804 and parameters: {'n_estimators': 279, 'max_depth': 17, 'max_features': 'log2', 'min_samples_leaf': 10}. Best is trial 1 with value: 0.8331481165107804.\n",
            "[I 2025-08-08 00:24:19,040] Trial 2 finished with value: 0.8295737082785286 and parameters: {'n_estimators': 128, 'max_depth': 9, 'max_features': 'sqrt', 'min_samples_leaf': 2}. Best is trial 1 with value: 0.8331481165107804.\n",
            "[I 2025-08-08 00:24:20,573] Trial 3 finished with value: 0.8256783497015243 and parameters: {'n_estimators': 389, 'max_depth': 25, 'max_features': 'sqrt', 'min_samples_leaf': 3}. Best is trial 1 with value: 0.8331481165107804.\n",
            "[I 2025-08-08 00:24:20,734] Trial 4 finished with value: 0.8297727472520182 and parameters: {'n_estimators': 62, 'max_depth': 5, 'max_features': 'log2', 'min_samples_leaf': 5}. Best is trial 1 with value: 0.8331481165107804.\n",
            "[I 2025-08-08 00:24:20,945] Trial 5 finished with value: 0.8298225069953906 and parameters: {'n_estimators': 58, 'max_depth': 21, 'max_features': 'sqrt', 'min_samples_leaf': 7}. Best is trial 1 with value: 0.8331481165107804.\n",
            "[I 2025-08-08 00:24:22,561] Trial 6 finished with value: 0.8277657709359973 and parameters: {'n_estimators': 150, 'max_depth': 9, 'max_features': None, 'min_samples_leaf': 8}. Best is trial 1 with value: 0.8331481165107804.\n",
            "[I 2025-08-08 00:24:23,959] Trial 7 finished with value: 0.8255207771808452 and parameters: {'n_estimators': 350, 'max_depth': 20, 'max_features': 'sqrt', 'min_samples_leaf': 3}. Best is trial 1 with value: 0.8331481165107804.\n",
            "[I 2025-08-08 00:24:24,396] Trial 8 finished with value: 0.8230800617684282 and parameters: {'n_estimators': 213, 'max_depth': 2, 'max_features': 'sqrt', 'min_samples_leaf': 4}. Best is trial 1 with value: 0.8331481165107804.\n",
            "[I 2025-08-08 00:24:25,185] Trial 9 finished with value: 0.8303424963136323 and parameters: {'n_estimators': 312, 'max_depth': 4, 'max_features': 'sqrt', 'min_samples_leaf': 1}. Best is trial 1 with value: 0.8331481165107804.\n",
            "[I 2025-08-08 00:24:26,855] Trial 10 finished with value: 0.8327392572860703 and parameters: {'n_estimators': 457, 'max_depth': 32, 'max_features': 'log2', 'min_samples_leaf': 10}. Best is trial 1 with value: 0.8331481165107804.\n",
            "[I 2025-08-08 00:24:28,958] Trial 11 finished with value: 0.8325385596544683 and parameters: {'n_estimators': 500, 'max_depth': 32, 'max_features': 'log2', 'min_samples_leaf': 10}. Best is trial 1 with value: 0.8331481165107804.\n",
            "[I 2025-08-08 00:24:30,478] Trial 12 finished with value: 0.8326032473208526 and parameters: {'n_estimators': 493, 'max_depth': 15, 'max_features': 'log2', 'min_samples_leaf': 10}. Best is trial 1 with value: 0.8331481165107804.\n",
            "[I 2025-08-08 00:24:31,283] Trial 13 finished with value: 0.8321147725067466 and parameters: {'n_estimators': 243, 'max_depth': 32, 'max_features': 'log2', 'min_samples_leaf': 8}. Best is trial 1 with value: 0.8331481165107804.\n",
            "[I 2025-08-08 00:24:32,746] Trial 14 finished with value: 0.8323876217662387 and parameters: {'n_estimators': 448, 'max_depth': 15, 'max_features': 'log2', 'min_samples_leaf': 9}. Best is trial 1 with value: 0.8331481165107804.\n",
            "[I 2025-08-08 00:24:33,736] Trial 15 finished with value: 0.8304279172064217 and parameters: {'n_estimators': 290, 'max_depth': 26, 'max_features': 'log2', 'min_samples_leaf': 6}. Best is trial 1 with value: 0.8331481165107804.\n",
            "[I 2025-08-08 00:24:35,159] Trial 16 finished with value: 0.8325750501329415 and parameters: {'n_estimators': 439, 'max_depth': 12, 'max_features': 'log2', 'min_samples_leaf': 9}. Best is trial 1 with value: 0.8331481165107804.\n",
            "[I 2025-08-08 00:24:35,751] Trial 17 finished with value: 0.8317291344956104 and parameters: {'n_estimators': 169, 'max_depth': 28, 'max_features': 'log2', 'min_samples_leaf': 7}. Best is trial 1 with value: 0.8331481165107804.\n",
            "[I 2025-08-08 00:24:39,728] Trial 18 finished with value: 0.8279374420506321 and parameters: {'n_estimators': 329, 'max_depth': 18, 'max_features': None, 'min_samples_leaf': 10}. Best is trial 1 with value: 0.8331481165107804.\n",
            "[I 2025-08-08 00:24:40,904] Trial 19 finished with value: 0.8325203144152318 and parameters: {'n_estimators': 254, 'max_depth': 28, 'max_features': 'log2', 'min_samples_leaf': 9}. Best is trial 1 with value: 0.8331481165107804.\n",
            "[I 2025-08-08 00:24:42,380] Trial 20 finished with value: 0.8304270878773654 and parameters: {'n_estimators': 435, 'max_depth': 17, 'max_features': 'log2', 'min_samples_leaf': 6}. Best is trial 1 with value: 0.8331481165107804.\n",
            "[I 2025-08-08 00:24:43,832] Trial 21 finished with value: 0.8326447137736628 and parameters: {'n_estimators': 449, 'max_depth': 14, 'max_features': 'log2', 'min_samples_leaf': 10}. Best is trial 1 with value: 0.8331481165107804.\n",
            "[I 2025-08-08 00:24:45,068] Trial 22 finished with value: 0.8323950857277445 and parameters: {'n_estimators': 383, 'max_depth': 12, 'max_features': 'log2', 'min_samples_leaf': 8}. Best is trial 1 with value: 0.8331481165107804.\n",
            "[I 2025-08-08 00:24:46,520] Trial 23 finished with value: 0.8326181752438642 and parameters: {'n_estimators': 462, 'max_depth': 14, 'max_features': 'log2', 'min_samples_leaf': 10}. Best is trial 1 with value: 0.8331481165107804.\n",
            "[I 2025-08-08 00:24:47,654] Trial 24 finished with value: 0.8336166874275373 and parameters: {'n_estimators': 355, 'max_depth': 9, 'max_features': 'log2', 'min_samples_leaf': 9}. Best is trial 24 with value: 0.8336166874275373.\n",
            "[I 2025-08-08 00:24:51,219] Trial 25 finished with value: 0.832400891031138 and parameters: {'n_estimators': 353, 'max_depth': 7, 'max_features': None, 'min_samples_leaf': 9}. Best is trial 24 with value: 0.8336166874275373.\n",
            "[I 2025-08-08 00:24:52,588] Trial 26 finished with value: 0.8324672373556344 and parameters: {'n_estimators': 284, 'max_depth': 10, 'max_features': 'log2', 'min_samples_leaf': 7}. Best is trial 24 with value: 0.8336166874275373.\n",
            "[I 2025-08-08 00:24:53,429] Trial 27 finished with value: 0.831482823765917 and parameters: {'n_estimators': 196, 'max_depth': 18, 'max_features': 'log2', 'min_samples_leaf': 8}. Best is trial 24 with value: 0.8336166874275373.\n",
            "[I 2025-08-08 00:24:54,790] Trial 28 finished with value: 0.8322648810659201 and parameters: {'n_estimators': 419, 'max_depth': 23, 'max_features': 'log2', 'min_samples_leaf': 9}. Best is trial 24 with value: 0.8336166874275373.\n",
            "[I 2025-08-08 00:24:59,049] Trial 29 finished with value: 0.8277964561110771 and parameters: {'n_estimators': 397, 'max_depth': 29, 'max_features': None, 'min_samples_leaf': 10}. Best is trial 24 with value: 0.8336166874275373.\n",
            "[I 2025-08-08 00:25:00,189] Trial 30 finished with value: 0.8325518289193676 and parameters: {'n_estimators': 356, 'max_depth': 23, 'max_features': 'log2', 'min_samples_leaf': 9}. Best is trial 24 with value: 0.8336166874275373.\n",
            "[I 2025-08-08 00:25:01,689] Trial 31 finished with value: 0.8323395206809786 and parameters: {'n_estimators': 475, 'max_depth': 12, 'max_features': 'log2', 'min_samples_leaf': 10}. Best is trial 24 with value: 0.8336166874275373.\n",
            "[I 2025-08-08 00:25:02,941] Trial 32 finished with value: 0.8329134163878738 and parameters: {'n_estimators': 399, 'max_depth': 17, 'max_features': 'log2', 'min_samples_leaf': 10}. Best is trial 24 with value: 0.8336166874275373.\n",
            "[I 2025-08-08 00:25:04,837] Trial 33 finished with value: 0.8323113234930676 and parameters: {'n_estimators': 410, 'max_depth': 19, 'max_features': 'log2', 'min_samples_leaf': 9}. Best is trial 24 with value: 0.8336166874275373.\n",
            "[I 2025-08-08 00:25:06,144] Trial 34 finished with value: 0.8333222756125839 and parameters: {'n_estimators': 384, 'max_depth': 7, 'max_features': 'log2', 'min_samples_leaf': 8}. Best is trial 24 with value: 0.8336166874275373.\n",
            "[I 2025-08-08 00:25:07,242] Trial 35 finished with value: 0.8334251124155536 and parameters: {'n_estimators': 377, 'max_depth': 7, 'max_features': 'log2', 'min_samples_leaf': 8}. Best is trial 24 with value: 0.8336166874275373.\n",
            "[I 2025-08-08 00:25:09,951] Trial 36 finished with value: 0.8338522168795003 and parameters: {'n_estimators': 304, 'max_depth': 6, 'max_features': None, 'min_samples_leaf': 7}. Best is trial 36 with value: 0.8338522168795003.\n",
            "[I 2025-08-08 00:25:13,209] Trial 37 finished with value: 0.8317009373076993 and parameters: {'n_estimators': 335, 'max_depth': 7, 'max_features': None, 'min_samples_leaf': 7}. Best is trial 36 with value: 0.8338522168795003.\n",
            "[I 2025-08-08 00:25:17,011] Trial 38 finished with value: 0.8335669276841648 and parameters: {'n_estimators': 368, 'max_depth': 6, 'max_features': None, 'min_samples_leaf': 6}. Best is trial 36 with value: 0.8338522168795003.\n",
            "[I 2025-08-08 00:25:18,481] Trial 39 finished with value: 0.8193638382675648 and parameters: {'n_estimators': 302, 'max_depth': 2, 'max_features': None, 'min_samples_leaf': 5}. Best is trial 36 with value: 0.8338522168795003.\n",
            "[I 2025-08-08 00:25:20,424] Trial 40 finished with value: 0.8345986130300865 and parameters: {'n_estimators': 253, 'max_depth': 5, 'max_features': None, 'min_samples_leaf': 6}. Best is trial 40 with value: 0.8345986130300865.\n",
            "[I 2025-08-08 00:25:22,350] Trial 41 finished with value: 0.83458036779085 and parameters: {'n_estimators': 248, 'max_depth': 5, 'max_features': None, 'min_samples_leaf': 6}. Best is trial 40 with value: 0.8345986130300865.\n",
            "[I 2025-08-08 00:25:24,052] Trial 42 finished with value: 0.8324033790183065 and parameters: {'n_estimators': 256, 'max_depth': 4, 'max_features': None, 'min_samples_leaf': 6}. Best is trial 40 with value: 0.8345986130300865.\n",
            "[I 2025-08-08 00:25:25,851] Trial 43 finished with value: 0.83435727827473 and parameters: {'n_estimators': 229, 'max_depth': 5, 'max_features': None, 'min_samples_leaf': 4}. Best is trial 40 with value: 0.8345986130300865.\n",
            "[I 2025-08-08 00:25:27,332] Trial 44 finished with value: 0.8322043400448169 and parameters: {'n_estimators': 225, 'max_depth': 4, 'max_features': None, 'min_samples_leaf': 4}. Best is trial 40 with value: 0.8345986130300865.\n",
            "[I 2025-08-08 00:25:30,332] Trial 45 finished with value: 0.8244890918349237 and parameters: {'n_estimators': 197, 'max_depth': 9, 'max_features': None, 'min_samples_leaf': 4}. Best is trial 40 with value: 0.8345986130300865.\n",
            "[I 2025-08-08 00:25:30,861] Trial 46 finished with value: 0.8189466857522927 and parameters: {'n_estimators': 123, 'max_depth': 2, 'max_features': None, 'min_samples_leaf': 5}. Best is trial 40 with value: 0.8345986130300865.\n",
            "[I 2025-08-08 00:25:34,077] Trial 47 finished with value: 0.8214985312582415 and parameters: {'n_estimators': 266, 'max_depth': 10, 'max_features': None, 'min_samples_leaf': 3}. Best is trial 40 with value: 0.8345986130300865.\n",
            "[I 2025-08-08 00:25:35,926] Trial 48 finished with value: 0.8342950785955147 and parameters: {'n_estimators': 238, 'max_depth': 5, 'max_features': None, 'min_samples_leaf': 5}. Best is trial 40 with value: 0.8345986130300865.\n",
            "[I 2025-08-08 00:25:37,749] Trial 49 finished with value: 0.8343398623645498 and parameters: {'n_estimators': 234, 'max_depth': 5, 'max_features': None, 'min_samples_leaf': 5}. Best is trial 40 with value: 0.8345986130300865.\n"
          ]
        },
        {
          "output_type": "stream",
          "name": "stdout",
          "text": [
            "\n",
            "--- Resultados da Otimização do Random Forest ---\n",
            "Melhores hiperparametros encontrados:\n",
            "{'n_estimators': 253, 'max_depth': 5, 'max_features': None, 'min_samples_leaf': 6}\n",
            "\n",
            "Melhor Area AUC no conjunto de validação:\n",
            "0.8345986130300865\n"
          ]
        }
      ],
      "source": [
        "#@title Otimização do Random Forest com Optuna\n",
        "\n",
        "# A função de otimização de hiperparâmetros.\n",
        "def objective_rf(trial):\n",
        "    \"\"\"\n",
        "    Eu uso os dados de X e y definidos anteriormente. Para achar os melhores hiperparametros usando essa função objective_rf\n",
        "    \"\"\"\n",
        "    # Sugere os hiperparâmetros, conforme a especificação do projeto.\n",
        "    n_estimators = trial.suggest_int('n_estimators', 50, 500)\n",
        "    max_depth = trial.suggest_int('max_depth', 2, 32)\n",
        "    max_features = trial.suggest_categorical('max_features', ['sqrt', 'log2', None])\n",
        "    min_samples_leaf = trial.suggest_int('min_samples_leaf', 1, 10)\n",
        "\n",
        "    #Aqui pega os melhores parametros achados e utiliza para criar um modelo com esse parametros\n",
        "    model = RandomForestClassifier(\n",
        "        n_estimators=n_estimators,\n",
        "        max_depth=max_depth,\n",
        "        max_features=max_features,\n",
        "        min_samples_leaf=min_samples_leaf,\n",
        "        random_state=42\n",
        "    )\n",
        "\n",
        "\n",
        "    model.fit(X_train, y_train)\n",
        "\n",
        "\n",
        "    y_pred = model.predict_proba(X_val)[:, 1]\n",
        "    auc_score = roc_auc_score(y_val, y_pred)\n",
        "\n",
        "    return auc_score\n",
        "\n",
        "# Cria o estudo do Optuna e executa a otimização\n",
        "print(\"Iniciando a busca pelos hiperparametros do modelo Random Forest...\")\n",
        "study_rf = optuna.create_study(direction='maximize')\n",
        "study_rf.optimize(objective_rf, n_trials=50)\n",
        "\n",
        "print(\"\\n--- Resultados da Otimização do Random Forest ---\")\n",
        "print(\"Melhores hiperparametros encontrados:\")\n",
        "print(study_rf.best_params)\n",
        "print(\"\\nMelhor Area AUC no conjunto de validação:\")\n",
        "print(study_rf.best_value)"
      ]
    },
    {
      "cell_type": "markdown",
      "metadata": {
        "id": "OKSnG2V0LrLD"
      },
      "source": [
        "# Executando mais classificadores"
      ]
    },
    {
      "cell_type": "markdown",
      "metadata": {
        "id": "OXRvMnHlJKbj"
      },
      "source": [
        "## STab"
      ]
    },
    {
      "cell_type": "code",
      "execution_count": null,
      "metadata": {
        "id": "u3xZEmy0K00K"
      },
      "outputs": [],
      "source": [
        "#@title Treinamento inicial"
      ]
    },
    {
      "cell_type": "markdown",
      "metadata": {
        "id": "6p0q5oJSK00L"
      },
      "source": [
        "### Avaliação inicial"
      ]
    },
    {
      "cell_type": "code",
      "execution_count": null,
      "metadata": {
        "id": "vYDn06YvK00L"
      },
      "outputs": [],
      "source": [
        "#@title Teste Kolmogorov-Smirnov"
      ]
    },
    {
      "cell_type": "code",
      "execution_count": null,
      "metadata": {
        "id": "sgSv0Lz8K00L"
      },
      "outputs": [],
      "source": [
        "#@title (MSE ou Entropia Cruzada)"
      ]
    },
    {
      "cell_type": "code",
      "execution_count": null,
      "metadata": {
        "id": "f9nBZ6SaK00L"
      },
      "outputs": [],
      "source": [
        "#@title Matriz de confusão"
      ]
    },
    {
      "cell_type": "code",
      "execution_count": null,
      "metadata": {
        "id": "UfjbYQ6JK00L"
      },
      "outputs": [],
      "source": [
        "#@title AUC-ROC"
      ]
    },
    {
      "cell_type": "code",
      "execution_count": null,
      "metadata": {
        "id": "pGVMAIW1K00L"
      },
      "outputs": [],
      "source": [
        "#@title Recall, precision e f-score"
      ]
    },
    {
      "cell_type": "markdown",
      "metadata": {
        "id": "MXiiKlu2JMoT"
      },
      "source": [
        "## TabPFN2 Transformer"
      ]
    },
    {
      "cell_type": "code",
      "execution_count": null,
      "metadata": {
        "id": "EBHURQ6XK1Gy"
      },
      "outputs": [],
      "source": [
        "#@title Treinamento inicial"
      ]
    },
    {
      "cell_type": "markdown",
      "metadata": {
        "id": "SwNO7DP4K1Gy"
      },
      "source": [
        "### Avaliação inicial"
      ]
    },
    {
      "cell_type": "code",
      "execution_count": null,
      "metadata": {
        "id": "HoPCdR_uK1Gy"
      },
      "outputs": [],
      "source": [
        "#@title Teste Kolmogorov-Smirnov"
      ]
    },
    {
      "cell_type": "code",
      "execution_count": null,
      "metadata": {
        "id": "1nbRq2_gK1Gy"
      },
      "outputs": [],
      "source": [
        "#@title (MSE ou Entropia Cruzada)"
      ]
    },
    {
      "cell_type": "code",
      "execution_count": null,
      "metadata": {
        "id": "xeQgeWp0K1Gy"
      },
      "outputs": [],
      "source": [
        "#@title Matriz de confusão"
      ]
    },
    {
      "cell_type": "code",
      "execution_count": null,
      "metadata": {
        "id": "AUkYRuqPK1Gy"
      },
      "outputs": [],
      "source": [
        "#@title AUC-ROC"
      ]
    },
    {
      "cell_type": "code",
      "execution_count": null,
      "metadata": {
        "id": "eCRIWTsnK1Gz"
      },
      "outputs": [],
      "source": [
        "#@title Recall, precision e f-score"
      ]
    },
    {
      "cell_type": "markdown",
      "metadata": {
        "id": "fSGO55TvJdDf"
      },
      "source": [
        "## Gradient Boosting"
      ]
    },
    {
      "cell_type": "markdown",
      "metadata": {
        "id": "IVejrA0MROg2"
      },
      "source": [
        "### Primeira execução"
      ]
    },
    {
      "cell_type": "code",
      "execution_count": 40,
      "metadata": {
        "cellView": "form",
        "colab": {
          "base_uri": "https://localhost:8080/",
          "height": 80
        },
        "id": "oO96Z2gzClQx",
        "outputId": "11784a9a-c63b-4fda-8fb1-76aece8a1015"
      },
      "outputs": [
        {
          "output_type": "execute_result",
          "data": {
            "text/plain": [
              "GradientBoostingClassifier(random_state=42)"
            ],
            "text/html": [
              "<style>#sk-container-id-3 {\n",
              "  /* Definition of color scheme common for light and dark mode */\n",
              "  --sklearn-color-text: #000;\n",
              "  --sklearn-color-text-muted: #666;\n",
              "  --sklearn-color-line: gray;\n",
              "  /* Definition of color scheme for unfitted estimators */\n",
              "  --sklearn-color-unfitted-level-0: #fff5e6;\n",
              "  --sklearn-color-unfitted-level-1: #f6e4d2;\n",
              "  --sklearn-color-unfitted-level-2: #ffe0b3;\n",
              "  --sklearn-color-unfitted-level-3: chocolate;\n",
              "  /* Definition of color scheme for fitted estimators */\n",
              "  --sklearn-color-fitted-level-0: #f0f8ff;\n",
              "  --sklearn-color-fitted-level-1: #d4ebff;\n",
              "  --sklearn-color-fitted-level-2: #b3dbfd;\n",
              "  --sklearn-color-fitted-level-3: cornflowerblue;\n",
              "\n",
              "  /* Specific color for light theme */\n",
              "  --sklearn-color-text-on-default-background: var(--sg-text-color, var(--theme-code-foreground, var(--jp-content-font-color1, black)));\n",
              "  --sklearn-color-background: var(--sg-background-color, var(--theme-background, var(--jp-layout-color0, white)));\n",
              "  --sklearn-color-border-box: var(--sg-text-color, var(--theme-code-foreground, var(--jp-content-font-color1, black)));\n",
              "  --sklearn-color-icon: #696969;\n",
              "\n",
              "  @media (prefers-color-scheme: dark) {\n",
              "    /* Redefinition of color scheme for dark theme */\n",
              "    --sklearn-color-text-on-default-background: var(--sg-text-color, var(--theme-code-foreground, var(--jp-content-font-color1, white)));\n",
              "    --sklearn-color-background: var(--sg-background-color, var(--theme-background, var(--jp-layout-color0, #111)));\n",
              "    --sklearn-color-border-box: var(--sg-text-color, var(--theme-code-foreground, var(--jp-content-font-color1, white)));\n",
              "    --sklearn-color-icon: #878787;\n",
              "  }\n",
              "}\n",
              "\n",
              "#sk-container-id-3 {\n",
              "  color: var(--sklearn-color-text);\n",
              "}\n",
              "\n",
              "#sk-container-id-3 pre {\n",
              "  padding: 0;\n",
              "}\n",
              "\n",
              "#sk-container-id-3 input.sk-hidden--visually {\n",
              "  border: 0;\n",
              "  clip: rect(1px 1px 1px 1px);\n",
              "  clip: rect(1px, 1px, 1px, 1px);\n",
              "  height: 1px;\n",
              "  margin: -1px;\n",
              "  overflow: hidden;\n",
              "  padding: 0;\n",
              "  position: absolute;\n",
              "  width: 1px;\n",
              "}\n",
              "\n",
              "#sk-container-id-3 div.sk-dashed-wrapped {\n",
              "  border: 1px dashed var(--sklearn-color-line);\n",
              "  margin: 0 0.4em 0.5em 0.4em;\n",
              "  box-sizing: border-box;\n",
              "  padding-bottom: 0.4em;\n",
              "  background-color: var(--sklearn-color-background);\n",
              "}\n",
              "\n",
              "#sk-container-id-3 div.sk-container {\n",
              "  /* jupyter's `normalize.less` sets `[hidden] { display: none; }`\n",
              "     but bootstrap.min.css set `[hidden] { display: none !important; }`\n",
              "     so we also need the `!important` here to be able to override the\n",
              "     default hidden behavior on the sphinx rendered scikit-learn.org.\n",
              "     See: https://github.com/scikit-learn/scikit-learn/issues/21755 */\n",
              "  display: inline-block !important;\n",
              "  position: relative;\n",
              "}\n",
              "\n",
              "#sk-container-id-3 div.sk-text-repr-fallback {\n",
              "  display: none;\n",
              "}\n",
              "\n",
              "div.sk-parallel-item,\n",
              "div.sk-serial,\n",
              "div.sk-item {\n",
              "  /* draw centered vertical line to link estimators */\n",
              "  background-image: linear-gradient(var(--sklearn-color-text-on-default-background), var(--sklearn-color-text-on-default-background));\n",
              "  background-size: 2px 100%;\n",
              "  background-repeat: no-repeat;\n",
              "  background-position: center center;\n",
              "}\n",
              "\n",
              "/* Parallel-specific style estimator block */\n",
              "\n",
              "#sk-container-id-3 div.sk-parallel-item::after {\n",
              "  content: \"\";\n",
              "  width: 100%;\n",
              "  border-bottom: 2px solid var(--sklearn-color-text-on-default-background);\n",
              "  flex-grow: 1;\n",
              "}\n",
              "\n",
              "#sk-container-id-3 div.sk-parallel {\n",
              "  display: flex;\n",
              "  align-items: stretch;\n",
              "  justify-content: center;\n",
              "  background-color: var(--sklearn-color-background);\n",
              "  position: relative;\n",
              "}\n",
              "\n",
              "#sk-container-id-3 div.sk-parallel-item {\n",
              "  display: flex;\n",
              "  flex-direction: column;\n",
              "}\n",
              "\n",
              "#sk-container-id-3 div.sk-parallel-item:first-child::after {\n",
              "  align-self: flex-end;\n",
              "  width: 50%;\n",
              "}\n",
              "\n",
              "#sk-container-id-3 div.sk-parallel-item:last-child::after {\n",
              "  align-self: flex-start;\n",
              "  width: 50%;\n",
              "}\n",
              "\n",
              "#sk-container-id-3 div.sk-parallel-item:only-child::after {\n",
              "  width: 0;\n",
              "}\n",
              "\n",
              "/* Serial-specific style estimator block */\n",
              "\n",
              "#sk-container-id-3 div.sk-serial {\n",
              "  display: flex;\n",
              "  flex-direction: column;\n",
              "  align-items: center;\n",
              "  background-color: var(--sklearn-color-background);\n",
              "  padding-right: 1em;\n",
              "  padding-left: 1em;\n",
              "}\n",
              "\n",
              "\n",
              "/* Toggleable style: style used for estimator/Pipeline/ColumnTransformer box that is\n",
              "clickable and can be expanded/collapsed.\n",
              "- Pipeline and ColumnTransformer use this feature and define the default style\n",
              "- Estimators will overwrite some part of the style using the `sk-estimator` class\n",
              "*/\n",
              "\n",
              "/* Pipeline and ColumnTransformer style (default) */\n",
              "\n",
              "#sk-container-id-3 div.sk-toggleable {\n",
              "  /* Default theme specific background. It is overwritten whether we have a\n",
              "  specific estimator or a Pipeline/ColumnTransformer */\n",
              "  background-color: var(--sklearn-color-background);\n",
              "}\n",
              "\n",
              "/* Toggleable label */\n",
              "#sk-container-id-3 label.sk-toggleable__label {\n",
              "  cursor: pointer;\n",
              "  display: flex;\n",
              "  width: 100%;\n",
              "  margin-bottom: 0;\n",
              "  padding: 0.5em;\n",
              "  box-sizing: border-box;\n",
              "  text-align: center;\n",
              "  align-items: start;\n",
              "  justify-content: space-between;\n",
              "  gap: 0.5em;\n",
              "}\n",
              "\n",
              "#sk-container-id-3 label.sk-toggleable__label .caption {\n",
              "  font-size: 0.6rem;\n",
              "  font-weight: lighter;\n",
              "  color: var(--sklearn-color-text-muted);\n",
              "}\n",
              "\n",
              "#sk-container-id-3 label.sk-toggleable__label-arrow:before {\n",
              "  /* Arrow on the left of the label */\n",
              "  content: \"▸\";\n",
              "  float: left;\n",
              "  margin-right: 0.25em;\n",
              "  color: var(--sklearn-color-icon);\n",
              "}\n",
              "\n",
              "#sk-container-id-3 label.sk-toggleable__label-arrow:hover:before {\n",
              "  color: var(--sklearn-color-text);\n",
              "}\n",
              "\n",
              "/* Toggleable content - dropdown */\n",
              "\n",
              "#sk-container-id-3 div.sk-toggleable__content {\n",
              "  max-height: 0;\n",
              "  max-width: 0;\n",
              "  overflow: hidden;\n",
              "  text-align: left;\n",
              "  /* unfitted */\n",
              "  background-color: var(--sklearn-color-unfitted-level-0);\n",
              "}\n",
              "\n",
              "#sk-container-id-3 div.sk-toggleable__content.fitted {\n",
              "  /* fitted */\n",
              "  background-color: var(--sklearn-color-fitted-level-0);\n",
              "}\n",
              "\n",
              "#sk-container-id-3 div.sk-toggleable__content pre {\n",
              "  margin: 0.2em;\n",
              "  border-radius: 0.25em;\n",
              "  color: var(--sklearn-color-text);\n",
              "  /* unfitted */\n",
              "  background-color: var(--sklearn-color-unfitted-level-0);\n",
              "}\n",
              "\n",
              "#sk-container-id-3 div.sk-toggleable__content.fitted pre {\n",
              "  /* unfitted */\n",
              "  background-color: var(--sklearn-color-fitted-level-0);\n",
              "}\n",
              "\n",
              "#sk-container-id-3 input.sk-toggleable__control:checked~div.sk-toggleable__content {\n",
              "  /* Expand drop-down */\n",
              "  max-height: 200px;\n",
              "  max-width: 100%;\n",
              "  overflow: auto;\n",
              "}\n",
              "\n",
              "#sk-container-id-3 input.sk-toggleable__control:checked~label.sk-toggleable__label-arrow:before {\n",
              "  content: \"▾\";\n",
              "}\n",
              "\n",
              "/* Pipeline/ColumnTransformer-specific style */\n",
              "\n",
              "#sk-container-id-3 div.sk-label input.sk-toggleable__control:checked~label.sk-toggleable__label {\n",
              "  color: var(--sklearn-color-text);\n",
              "  background-color: var(--sklearn-color-unfitted-level-2);\n",
              "}\n",
              "\n",
              "#sk-container-id-3 div.sk-label.fitted input.sk-toggleable__control:checked~label.sk-toggleable__label {\n",
              "  background-color: var(--sklearn-color-fitted-level-2);\n",
              "}\n",
              "\n",
              "/* Estimator-specific style */\n",
              "\n",
              "/* Colorize estimator box */\n",
              "#sk-container-id-3 div.sk-estimator input.sk-toggleable__control:checked~label.sk-toggleable__label {\n",
              "  /* unfitted */\n",
              "  background-color: var(--sklearn-color-unfitted-level-2);\n",
              "}\n",
              "\n",
              "#sk-container-id-3 div.sk-estimator.fitted input.sk-toggleable__control:checked~label.sk-toggleable__label {\n",
              "  /* fitted */\n",
              "  background-color: var(--sklearn-color-fitted-level-2);\n",
              "}\n",
              "\n",
              "#sk-container-id-3 div.sk-label label.sk-toggleable__label,\n",
              "#sk-container-id-3 div.sk-label label {\n",
              "  /* The background is the default theme color */\n",
              "  color: var(--sklearn-color-text-on-default-background);\n",
              "}\n",
              "\n",
              "/* On hover, darken the color of the background */\n",
              "#sk-container-id-3 div.sk-label:hover label.sk-toggleable__label {\n",
              "  color: var(--sklearn-color-text);\n",
              "  background-color: var(--sklearn-color-unfitted-level-2);\n",
              "}\n",
              "\n",
              "/* Label box, darken color on hover, fitted */\n",
              "#sk-container-id-3 div.sk-label.fitted:hover label.sk-toggleable__label.fitted {\n",
              "  color: var(--sklearn-color-text);\n",
              "  background-color: var(--sklearn-color-fitted-level-2);\n",
              "}\n",
              "\n",
              "/* Estimator label */\n",
              "\n",
              "#sk-container-id-3 div.sk-label label {\n",
              "  font-family: monospace;\n",
              "  font-weight: bold;\n",
              "  display: inline-block;\n",
              "  line-height: 1.2em;\n",
              "}\n",
              "\n",
              "#sk-container-id-3 div.sk-label-container {\n",
              "  text-align: center;\n",
              "}\n",
              "\n",
              "/* Estimator-specific */\n",
              "#sk-container-id-3 div.sk-estimator {\n",
              "  font-family: monospace;\n",
              "  border: 1px dotted var(--sklearn-color-border-box);\n",
              "  border-radius: 0.25em;\n",
              "  box-sizing: border-box;\n",
              "  margin-bottom: 0.5em;\n",
              "  /* unfitted */\n",
              "  background-color: var(--sklearn-color-unfitted-level-0);\n",
              "}\n",
              "\n",
              "#sk-container-id-3 div.sk-estimator.fitted {\n",
              "  /* fitted */\n",
              "  background-color: var(--sklearn-color-fitted-level-0);\n",
              "}\n",
              "\n",
              "/* on hover */\n",
              "#sk-container-id-3 div.sk-estimator:hover {\n",
              "  /* unfitted */\n",
              "  background-color: var(--sklearn-color-unfitted-level-2);\n",
              "}\n",
              "\n",
              "#sk-container-id-3 div.sk-estimator.fitted:hover {\n",
              "  /* fitted */\n",
              "  background-color: var(--sklearn-color-fitted-level-2);\n",
              "}\n",
              "\n",
              "/* Specification for estimator info (e.g. \"i\" and \"?\") */\n",
              "\n",
              "/* Common style for \"i\" and \"?\" */\n",
              "\n",
              ".sk-estimator-doc-link,\n",
              "a:link.sk-estimator-doc-link,\n",
              "a:visited.sk-estimator-doc-link {\n",
              "  float: right;\n",
              "  font-size: smaller;\n",
              "  line-height: 1em;\n",
              "  font-family: monospace;\n",
              "  background-color: var(--sklearn-color-background);\n",
              "  border-radius: 1em;\n",
              "  height: 1em;\n",
              "  width: 1em;\n",
              "  text-decoration: none !important;\n",
              "  margin-left: 0.5em;\n",
              "  text-align: center;\n",
              "  /* unfitted */\n",
              "  border: var(--sklearn-color-unfitted-level-1) 1pt solid;\n",
              "  color: var(--sklearn-color-unfitted-level-1);\n",
              "}\n",
              "\n",
              ".sk-estimator-doc-link.fitted,\n",
              "a:link.sk-estimator-doc-link.fitted,\n",
              "a:visited.sk-estimator-doc-link.fitted {\n",
              "  /* fitted */\n",
              "  border: var(--sklearn-color-fitted-level-1) 1pt solid;\n",
              "  color: var(--sklearn-color-fitted-level-1);\n",
              "}\n",
              "\n",
              "/* On hover */\n",
              "div.sk-estimator:hover .sk-estimator-doc-link:hover,\n",
              ".sk-estimator-doc-link:hover,\n",
              "div.sk-label-container:hover .sk-estimator-doc-link:hover,\n",
              ".sk-estimator-doc-link:hover {\n",
              "  /* unfitted */\n",
              "  background-color: var(--sklearn-color-unfitted-level-3);\n",
              "  color: var(--sklearn-color-background);\n",
              "  text-decoration: none;\n",
              "}\n",
              "\n",
              "div.sk-estimator.fitted:hover .sk-estimator-doc-link.fitted:hover,\n",
              ".sk-estimator-doc-link.fitted:hover,\n",
              "div.sk-label-container:hover .sk-estimator-doc-link.fitted:hover,\n",
              ".sk-estimator-doc-link.fitted:hover {\n",
              "  /* fitted */\n",
              "  background-color: var(--sklearn-color-fitted-level-3);\n",
              "  color: var(--sklearn-color-background);\n",
              "  text-decoration: none;\n",
              "}\n",
              "\n",
              "/* Span, style for the box shown on hovering the info icon */\n",
              ".sk-estimator-doc-link span {\n",
              "  display: none;\n",
              "  z-index: 9999;\n",
              "  position: relative;\n",
              "  font-weight: normal;\n",
              "  right: .2ex;\n",
              "  padding: .5ex;\n",
              "  margin: .5ex;\n",
              "  width: min-content;\n",
              "  min-width: 20ex;\n",
              "  max-width: 50ex;\n",
              "  color: var(--sklearn-color-text);\n",
              "  box-shadow: 2pt 2pt 4pt #999;\n",
              "  /* unfitted */\n",
              "  background: var(--sklearn-color-unfitted-level-0);\n",
              "  border: .5pt solid var(--sklearn-color-unfitted-level-3);\n",
              "}\n",
              "\n",
              ".sk-estimator-doc-link.fitted span {\n",
              "  /* fitted */\n",
              "  background: var(--sklearn-color-fitted-level-0);\n",
              "  border: var(--sklearn-color-fitted-level-3);\n",
              "}\n",
              "\n",
              ".sk-estimator-doc-link:hover span {\n",
              "  display: block;\n",
              "}\n",
              "\n",
              "/* \"?\"-specific style due to the `<a>` HTML tag */\n",
              "\n",
              "#sk-container-id-3 a.estimator_doc_link {\n",
              "  float: right;\n",
              "  font-size: 1rem;\n",
              "  line-height: 1em;\n",
              "  font-family: monospace;\n",
              "  background-color: var(--sklearn-color-background);\n",
              "  border-radius: 1rem;\n",
              "  height: 1rem;\n",
              "  width: 1rem;\n",
              "  text-decoration: none;\n",
              "  /* unfitted */\n",
              "  color: var(--sklearn-color-unfitted-level-1);\n",
              "  border: var(--sklearn-color-unfitted-level-1) 1pt solid;\n",
              "}\n",
              "\n",
              "#sk-container-id-3 a.estimator_doc_link.fitted {\n",
              "  /* fitted */\n",
              "  border: var(--sklearn-color-fitted-level-1) 1pt solid;\n",
              "  color: var(--sklearn-color-fitted-level-1);\n",
              "}\n",
              "\n",
              "/* On hover */\n",
              "#sk-container-id-3 a.estimator_doc_link:hover {\n",
              "  /* unfitted */\n",
              "  background-color: var(--sklearn-color-unfitted-level-3);\n",
              "  color: var(--sklearn-color-background);\n",
              "  text-decoration: none;\n",
              "}\n",
              "\n",
              "#sk-container-id-3 a.estimator_doc_link.fitted:hover {\n",
              "  /* fitted */\n",
              "  background-color: var(--sklearn-color-fitted-level-3);\n",
              "}\n",
              "</style><div id=\"sk-container-id-3\" class=\"sk-top-container\"><div class=\"sk-text-repr-fallback\"><pre>GradientBoostingClassifier(random_state=42)</pre><b>In a Jupyter environment, please rerun this cell to show the HTML representation or trust the notebook. <br />On GitHub, the HTML representation is unable to render, please try loading this page with nbviewer.org.</b></div><div class=\"sk-container\" hidden><div class=\"sk-item\"><div class=\"sk-estimator  sk-toggleable\"><input class=\"sk-toggleable__control sk-hidden--visually\" id=\"sk-estimator-id-3\" type=\"checkbox\" checked><label for=\"sk-estimator-id-3\" class=\"sk-toggleable__label  sk-toggleable__label-arrow\"><div><div>GradientBoostingClassifier</div></div><div><a class=\"sk-estimator-doc-link \" rel=\"noreferrer\" target=\"_blank\" href=\"https://scikit-learn.org/1.6/modules/generated/sklearn.ensemble.GradientBoostingClassifier.html\">?<span>Documentation for GradientBoostingClassifier</span></a><span class=\"sk-estimator-doc-link \">i<span>Not fitted</span></span></div></label><div class=\"sk-toggleable__content \"><pre>GradientBoostingClassifier(random_state=42)</pre></div> </div></div></div></div>"
            ]
          },
          "metadata": {},
          "execution_count": 40
        }
      ],
      "source": [
        "#@title Definição do modelo\n",
        "gb_classifier = GradientBoostingClassifier(n_estimators=100, learning_rate=0.1, max_depth=3, random_state=42)\n",
        "gb_classifier"
      ]
    },
    {
      "cell_type": "code",
      "execution_count": 41,
      "metadata": {
        "cellView": "form",
        "colab": {
          "base_uri": "https://localhost:8080/",
          "height": 80
        },
        "id": "SZHpQBPcKz-u",
        "outputId": "18aae229-5c86-4886-df27-48ba3ea26219"
      },
      "outputs": [
        {
          "output_type": "execute_result",
          "data": {
            "text/plain": [
              "GradientBoostingClassifier(random_state=42)"
            ],
            "text/html": [
              "<style>#sk-container-id-4 {\n",
              "  /* Definition of color scheme common for light and dark mode */\n",
              "  --sklearn-color-text: #000;\n",
              "  --sklearn-color-text-muted: #666;\n",
              "  --sklearn-color-line: gray;\n",
              "  /* Definition of color scheme for unfitted estimators */\n",
              "  --sklearn-color-unfitted-level-0: #fff5e6;\n",
              "  --sklearn-color-unfitted-level-1: #f6e4d2;\n",
              "  --sklearn-color-unfitted-level-2: #ffe0b3;\n",
              "  --sklearn-color-unfitted-level-3: chocolate;\n",
              "  /* Definition of color scheme for fitted estimators */\n",
              "  --sklearn-color-fitted-level-0: #f0f8ff;\n",
              "  --sklearn-color-fitted-level-1: #d4ebff;\n",
              "  --sklearn-color-fitted-level-2: #b3dbfd;\n",
              "  --sklearn-color-fitted-level-3: cornflowerblue;\n",
              "\n",
              "  /* Specific color for light theme */\n",
              "  --sklearn-color-text-on-default-background: var(--sg-text-color, var(--theme-code-foreground, var(--jp-content-font-color1, black)));\n",
              "  --sklearn-color-background: var(--sg-background-color, var(--theme-background, var(--jp-layout-color0, white)));\n",
              "  --sklearn-color-border-box: var(--sg-text-color, var(--theme-code-foreground, var(--jp-content-font-color1, black)));\n",
              "  --sklearn-color-icon: #696969;\n",
              "\n",
              "  @media (prefers-color-scheme: dark) {\n",
              "    /* Redefinition of color scheme for dark theme */\n",
              "    --sklearn-color-text-on-default-background: var(--sg-text-color, var(--theme-code-foreground, var(--jp-content-font-color1, white)));\n",
              "    --sklearn-color-background: var(--sg-background-color, var(--theme-background, var(--jp-layout-color0, #111)));\n",
              "    --sklearn-color-border-box: var(--sg-text-color, var(--theme-code-foreground, var(--jp-content-font-color1, white)));\n",
              "    --sklearn-color-icon: #878787;\n",
              "  }\n",
              "}\n",
              "\n",
              "#sk-container-id-4 {\n",
              "  color: var(--sklearn-color-text);\n",
              "}\n",
              "\n",
              "#sk-container-id-4 pre {\n",
              "  padding: 0;\n",
              "}\n",
              "\n",
              "#sk-container-id-4 input.sk-hidden--visually {\n",
              "  border: 0;\n",
              "  clip: rect(1px 1px 1px 1px);\n",
              "  clip: rect(1px, 1px, 1px, 1px);\n",
              "  height: 1px;\n",
              "  margin: -1px;\n",
              "  overflow: hidden;\n",
              "  padding: 0;\n",
              "  position: absolute;\n",
              "  width: 1px;\n",
              "}\n",
              "\n",
              "#sk-container-id-4 div.sk-dashed-wrapped {\n",
              "  border: 1px dashed var(--sklearn-color-line);\n",
              "  margin: 0 0.4em 0.5em 0.4em;\n",
              "  box-sizing: border-box;\n",
              "  padding-bottom: 0.4em;\n",
              "  background-color: var(--sklearn-color-background);\n",
              "}\n",
              "\n",
              "#sk-container-id-4 div.sk-container {\n",
              "  /* jupyter's `normalize.less` sets `[hidden] { display: none; }`\n",
              "     but bootstrap.min.css set `[hidden] { display: none !important; }`\n",
              "     so we also need the `!important` here to be able to override the\n",
              "     default hidden behavior on the sphinx rendered scikit-learn.org.\n",
              "     See: https://github.com/scikit-learn/scikit-learn/issues/21755 */\n",
              "  display: inline-block !important;\n",
              "  position: relative;\n",
              "}\n",
              "\n",
              "#sk-container-id-4 div.sk-text-repr-fallback {\n",
              "  display: none;\n",
              "}\n",
              "\n",
              "div.sk-parallel-item,\n",
              "div.sk-serial,\n",
              "div.sk-item {\n",
              "  /* draw centered vertical line to link estimators */\n",
              "  background-image: linear-gradient(var(--sklearn-color-text-on-default-background), var(--sklearn-color-text-on-default-background));\n",
              "  background-size: 2px 100%;\n",
              "  background-repeat: no-repeat;\n",
              "  background-position: center center;\n",
              "}\n",
              "\n",
              "/* Parallel-specific style estimator block */\n",
              "\n",
              "#sk-container-id-4 div.sk-parallel-item::after {\n",
              "  content: \"\";\n",
              "  width: 100%;\n",
              "  border-bottom: 2px solid var(--sklearn-color-text-on-default-background);\n",
              "  flex-grow: 1;\n",
              "}\n",
              "\n",
              "#sk-container-id-4 div.sk-parallel {\n",
              "  display: flex;\n",
              "  align-items: stretch;\n",
              "  justify-content: center;\n",
              "  background-color: var(--sklearn-color-background);\n",
              "  position: relative;\n",
              "}\n",
              "\n",
              "#sk-container-id-4 div.sk-parallel-item {\n",
              "  display: flex;\n",
              "  flex-direction: column;\n",
              "}\n",
              "\n",
              "#sk-container-id-4 div.sk-parallel-item:first-child::after {\n",
              "  align-self: flex-end;\n",
              "  width: 50%;\n",
              "}\n",
              "\n",
              "#sk-container-id-4 div.sk-parallel-item:last-child::after {\n",
              "  align-self: flex-start;\n",
              "  width: 50%;\n",
              "}\n",
              "\n",
              "#sk-container-id-4 div.sk-parallel-item:only-child::after {\n",
              "  width: 0;\n",
              "}\n",
              "\n",
              "/* Serial-specific style estimator block */\n",
              "\n",
              "#sk-container-id-4 div.sk-serial {\n",
              "  display: flex;\n",
              "  flex-direction: column;\n",
              "  align-items: center;\n",
              "  background-color: var(--sklearn-color-background);\n",
              "  padding-right: 1em;\n",
              "  padding-left: 1em;\n",
              "}\n",
              "\n",
              "\n",
              "/* Toggleable style: style used for estimator/Pipeline/ColumnTransformer box that is\n",
              "clickable and can be expanded/collapsed.\n",
              "- Pipeline and ColumnTransformer use this feature and define the default style\n",
              "- Estimators will overwrite some part of the style using the `sk-estimator` class\n",
              "*/\n",
              "\n",
              "/* Pipeline and ColumnTransformer style (default) */\n",
              "\n",
              "#sk-container-id-4 div.sk-toggleable {\n",
              "  /* Default theme specific background. It is overwritten whether we have a\n",
              "  specific estimator or a Pipeline/ColumnTransformer */\n",
              "  background-color: var(--sklearn-color-background);\n",
              "}\n",
              "\n",
              "/* Toggleable label */\n",
              "#sk-container-id-4 label.sk-toggleable__label {\n",
              "  cursor: pointer;\n",
              "  display: flex;\n",
              "  width: 100%;\n",
              "  margin-bottom: 0;\n",
              "  padding: 0.5em;\n",
              "  box-sizing: border-box;\n",
              "  text-align: center;\n",
              "  align-items: start;\n",
              "  justify-content: space-between;\n",
              "  gap: 0.5em;\n",
              "}\n",
              "\n",
              "#sk-container-id-4 label.sk-toggleable__label .caption {\n",
              "  font-size: 0.6rem;\n",
              "  font-weight: lighter;\n",
              "  color: var(--sklearn-color-text-muted);\n",
              "}\n",
              "\n",
              "#sk-container-id-4 label.sk-toggleable__label-arrow:before {\n",
              "  /* Arrow on the left of the label */\n",
              "  content: \"▸\";\n",
              "  float: left;\n",
              "  margin-right: 0.25em;\n",
              "  color: var(--sklearn-color-icon);\n",
              "}\n",
              "\n",
              "#sk-container-id-4 label.sk-toggleable__label-arrow:hover:before {\n",
              "  color: var(--sklearn-color-text);\n",
              "}\n",
              "\n",
              "/* Toggleable content - dropdown */\n",
              "\n",
              "#sk-container-id-4 div.sk-toggleable__content {\n",
              "  max-height: 0;\n",
              "  max-width: 0;\n",
              "  overflow: hidden;\n",
              "  text-align: left;\n",
              "  /* unfitted */\n",
              "  background-color: var(--sklearn-color-unfitted-level-0);\n",
              "}\n",
              "\n",
              "#sk-container-id-4 div.sk-toggleable__content.fitted {\n",
              "  /* fitted */\n",
              "  background-color: var(--sklearn-color-fitted-level-0);\n",
              "}\n",
              "\n",
              "#sk-container-id-4 div.sk-toggleable__content pre {\n",
              "  margin: 0.2em;\n",
              "  border-radius: 0.25em;\n",
              "  color: var(--sklearn-color-text);\n",
              "  /* unfitted */\n",
              "  background-color: var(--sklearn-color-unfitted-level-0);\n",
              "}\n",
              "\n",
              "#sk-container-id-4 div.sk-toggleable__content.fitted pre {\n",
              "  /* unfitted */\n",
              "  background-color: var(--sklearn-color-fitted-level-0);\n",
              "}\n",
              "\n",
              "#sk-container-id-4 input.sk-toggleable__control:checked~div.sk-toggleable__content {\n",
              "  /* Expand drop-down */\n",
              "  max-height: 200px;\n",
              "  max-width: 100%;\n",
              "  overflow: auto;\n",
              "}\n",
              "\n",
              "#sk-container-id-4 input.sk-toggleable__control:checked~label.sk-toggleable__label-arrow:before {\n",
              "  content: \"▾\";\n",
              "}\n",
              "\n",
              "/* Pipeline/ColumnTransformer-specific style */\n",
              "\n",
              "#sk-container-id-4 div.sk-label input.sk-toggleable__control:checked~label.sk-toggleable__label {\n",
              "  color: var(--sklearn-color-text);\n",
              "  background-color: var(--sklearn-color-unfitted-level-2);\n",
              "}\n",
              "\n",
              "#sk-container-id-4 div.sk-label.fitted input.sk-toggleable__control:checked~label.sk-toggleable__label {\n",
              "  background-color: var(--sklearn-color-fitted-level-2);\n",
              "}\n",
              "\n",
              "/* Estimator-specific style */\n",
              "\n",
              "/* Colorize estimator box */\n",
              "#sk-container-id-4 div.sk-estimator input.sk-toggleable__control:checked~label.sk-toggleable__label {\n",
              "  /* unfitted */\n",
              "  background-color: var(--sklearn-color-unfitted-level-2);\n",
              "}\n",
              "\n",
              "#sk-container-id-4 div.sk-estimator.fitted input.sk-toggleable__control:checked~label.sk-toggleable__label {\n",
              "  /* fitted */\n",
              "  background-color: var(--sklearn-color-fitted-level-2);\n",
              "}\n",
              "\n",
              "#sk-container-id-4 div.sk-label label.sk-toggleable__label,\n",
              "#sk-container-id-4 div.sk-label label {\n",
              "  /* The background is the default theme color */\n",
              "  color: var(--sklearn-color-text-on-default-background);\n",
              "}\n",
              "\n",
              "/* On hover, darken the color of the background */\n",
              "#sk-container-id-4 div.sk-label:hover label.sk-toggleable__label {\n",
              "  color: var(--sklearn-color-text);\n",
              "  background-color: var(--sklearn-color-unfitted-level-2);\n",
              "}\n",
              "\n",
              "/* Label box, darken color on hover, fitted */\n",
              "#sk-container-id-4 div.sk-label.fitted:hover label.sk-toggleable__label.fitted {\n",
              "  color: var(--sklearn-color-text);\n",
              "  background-color: var(--sklearn-color-fitted-level-2);\n",
              "}\n",
              "\n",
              "/* Estimator label */\n",
              "\n",
              "#sk-container-id-4 div.sk-label label {\n",
              "  font-family: monospace;\n",
              "  font-weight: bold;\n",
              "  display: inline-block;\n",
              "  line-height: 1.2em;\n",
              "}\n",
              "\n",
              "#sk-container-id-4 div.sk-label-container {\n",
              "  text-align: center;\n",
              "}\n",
              "\n",
              "/* Estimator-specific */\n",
              "#sk-container-id-4 div.sk-estimator {\n",
              "  font-family: monospace;\n",
              "  border: 1px dotted var(--sklearn-color-border-box);\n",
              "  border-radius: 0.25em;\n",
              "  box-sizing: border-box;\n",
              "  margin-bottom: 0.5em;\n",
              "  /* unfitted */\n",
              "  background-color: var(--sklearn-color-unfitted-level-0);\n",
              "}\n",
              "\n",
              "#sk-container-id-4 div.sk-estimator.fitted {\n",
              "  /* fitted */\n",
              "  background-color: var(--sklearn-color-fitted-level-0);\n",
              "}\n",
              "\n",
              "/* on hover */\n",
              "#sk-container-id-4 div.sk-estimator:hover {\n",
              "  /* unfitted */\n",
              "  background-color: var(--sklearn-color-unfitted-level-2);\n",
              "}\n",
              "\n",
              "#sk-container-id-4 div.sk-estimator.fitted:hover {\n",
              "  /* fitted */\n",
              "  background-color: var(--sklearn-color-fitted-level-2);\n",
              "}\n",
              "\n",
              "/* Specification for estimator info (e.g. \"i\" and \"?\") */\n",
              "\n",
              "/* Common style for \"i\" and \"?\" */\n",
              "\n",
              ".sk-estimator-doc-link,\n",
              "a:link.sk-estimator-doc-link,\n",
              "a:visited.sk-estimator-doc-link {\n",
              "  float: right;\n",
              "  font-size: smaller;\n",
              "  line-height: 1em;\n",
              "  font-family: monospace;\n",
              "  background-color: var(--sklearn-color-background);\n",
              "  border-radius: 1em;\n",
              "  height: 1em;\n",
              "  width: 1em;\n",
              "  text-decoration: none !important;\n",
              "  margin-left: 0.5em;\n",
              "  text-align: center;\n",
              "  /* unfitted */\n",
              "  border: var(--sklearn-color-unfitted-level-1) 1pt solid;\n",
              "  color: var(--sklearn-color-unfitted-level-1);\n",
              "}\n",
              "\n",
              ".sk-estimator-doc-link.fitted,\n",
              "a:link.sk-estimator-doc-link.fitted,\n",
              "a:visited.sk-estimator-doc-link.fitted {\n",
              "  /* fitted */\n",
              "  border: var(--sklearn-color-fitted-level-1) 1pt solid;\n",
              "  color: var(--sklearn-color-fitted-level-1);\n",
              "}\n",
              "\n",
              "/* On hover */\n",
              "div.sk-estimator:hover .sk-estimator-doc-link:hover,\n",
              ".sk-estimator-doc-link:hover,\n",
              "div.sk-label-container:hover .sk-estimator-doc-link:hover,\n",
              ".sk-estimator-doc-link:hover {\n",
              "  /* unfitted */\n",
              "  background-color: var(--sklearn-color-unfitted-level-3);\n",
              "  color: var(--sklearn-color-background);\n",
              "  text-decoration: none;\n",
              "}\n",
              "\n",
              "div.sk-estimator.fitted:hover .sk-estimator-doc-link.fitted:hover,\n",
              ".sk-estimator-doc-link.fitted:hover,\n",
              "div.sk-label-container:hover .sk-estimator-doc-link.fitted:hover,\n",
              ".sk-estimator-doc-link.fitted:hover {\n",
              "  /* fitted */\n",
              "  background-color: var(--sklearn-color-fitted-level-3);\n",
              "  color: var(--sklearn-color-background);\n",
              "  text-decoration: none;\n",
              "}\n",
              "\n",
              "/* Span, style for the box shown on hovering the info icon */\n",
              ".sk-estimator-doc-link span {\n",
              "  display: none;\n",
              "  z-index: 9999;\n",
              "  position: relative;\n",
              "  font-weight: normal;\n",
              "  right: .2ex;\n",
              "  padding: .5ex;\n",
              "  margin: .5ex;\n",
              "  width: min-content;\n",
              "  min-width: 20ex;\n",
              "  max-width: 50ex;\n",
              "  color: var(--sklearn-color-text);\n",
              "  box-shadow: 2pt 2pt 4pt #999;\n",
              "  /* unfitted */\n",
              "  background: var(--sklearn-color-unfitted-level-0);\n",
              "  border: .5pt solid var(--sklearn-color-unfitted-level-3);\n",
              "}\n",
              "\n",
              ".sk-estimator-doc-link.fitted span {\n",
              "  /* fitted */\n",
              "  background: var(--sklearn-color-fitted-level-0);\n",
              "  border: var(--sklearn-color-fitted-level-3);\n",
              "}\n",
              "\n",
              ".sk-estimator-doc-link:hover span {\n",
              "  display: block;\n",
              "}\n",
              "\n",
              "/* \"?\"-specific style due to the `<a>` HTML tag */\n",
              "\n",
              "#sk-container-id-4 a.estimator_doc_link {\n",
              "  float: right;\n",
              "  font-size: 1rem;\n",
              "  line-height: 1em;\n",
              "  font-family: monospace;\n",
              "  background-color: var(--sklearn-color-background);\n",
              "  border-radius: 1rem;\n",
              "  height: 1rem;\n",
              "  width: 1rem;\n",
              "  text-decoration: none;\n",
              "  /* unfitted */\n",
              "  color: var(--sklearn-color-unfitted-level-1);\n",
              "  border: var(--sklearn-color-unfitted-level-1) 1pt solid;\n",
              "}\n",
              "\n",
              "#sk-container-id-4 a.estimator_doc_link.fitted {\n",
              "  /* fitted */\n",
              "  border: var(--sklearn-color-fitted-level-1) 1pt solid;\n",
              "  color: var(--sklearn-color-fitted-level-1);\n",
              "}\n",
              "\n",
              "/* On hover */\n",
              "#sk-container-id-4 a.estimator_doc_link:hover {\n",
              "  /* unfitted */\n",
              "  background-color: var(--sklearn-color-unfitted-level-3);\n",
              "  color: var(--sklearn-color-background);\n",
              "  text-decoration: none;\n",
              "}\n",
              "\n",
              "#sk-container-id-4 a.estimator_doc_link.fitted:hover {\n",
              "  /* fitted */\n",
              "  background-color: var(--sklearn-color-fitted-level-3);\n",
              "}\n",
              "</style><div id=\"sk-container-id-4\" class=\"sk-top-container\"><div class=\"sk-text-repr-fallback\"><pre>GradientBoostingClassifier(random_state=42)</pre><b>In a Jupyter environment, please rerun this cell to show the HTML representation or trust the notebook. <br />On GitHub, the HTML representation is unable to render, please try loading this page with nbviewer.org.</b></div><div class=\"sk-container\" hidden><div class=\"sk-item\"><div class=\"sk-estimator fitted sk-toggleable\"><input class=\"sk-toggleable__control sk-hidden--visually\" id=\"sk-estimator-id-4\" type=\"checkbox\" checked><label for=\"sk-estimator-id-4\" class=\"sk-toggleable__label fitted sk-toggleable__label-arrow\"><div><div>GradientBoostingClassifier</div></div><div><a class=\"sk-estimator-doc-link fitted\" rel=\"noreferrer\" target=\"_blank\" href=\"https://scikit-learn.org/1.6/modules/generated/sklearn.ensemble.GradientBoostingClassifier.html\">?<span>Documentation for GradientBoostingClassifier</span></a><span class=\"sk-estimator-doc-link fitted\">i<span>Fitted</span></span></div></label><div class=\"sk-toggleable__content fitted\"><pre>GradientBoostingClassifier(random_state=42)</pre></div> </div></div></div></div>"
            ]
          },
          "metadata": {},
          "execution_count": 41
        }
      ],
      "source": [
        "#@title Treinamento inicial\n",
        "gb_classifier.fit(X_train, y_train)"
      ]
    },
    {
      "cell_type": "markdown",
      "metadata": {
        "id": "3KYk-el8Kz-v"
      },
      "source": [
        "#### Avaliação inicial"
      ]
    },
    {
      "cell_type": "code",
      "execution_count": 42,
      "metadata": {
        "cellView": "form",
        "colab": {
          "base_uri": "https://localhost:8080/"
        },
        "id": "kfFAN-vqCo54",
        "outputId": "4ba98285-aad9-4ed7-e283-25c87ff1a1b2"
      },
      "outputs": [
        {
          "output_type": "stream",
          "name": "stdout",
          "text": [
            "Predições: (1758,)\n"
          ]
        }
      ],
      "source": [
        "#@title Gerando predições\n",
        "gb_preds = gb_classifier.predict(X_test)\n",
        "gb_preds_0 = 1 - gb_preds\n",
        "gb_preds_scores = np.concatenate([gb_preds_0.reshape(-1, 1), gb_preds.reshape(-1, 1)], axis=1)\n",
        "print(f\"Predições: {gb_preds.shape}\")"
      ]
    },
    {
      "cell_type": "code",
      "execution_count": 44,
      "metadata": {
        "cellView": "form",
        "colab": {
          "base_uri": "https://localhost:8080/",
          "height": 472
        },
        "id": "V_DlFBGDKz-v",
        "outputId": "cd82e703-aca7-458f-b3f8-a80543a7639a"
      },
      "outputs": [
        {
          "output_type": "display_data",
          "data": {
            "text/plain": [
              "<Figure size 640x480 with 1 Axes>"
            ],
            "image/png": "[encoded data removed]"
          },
          "metadata": {}
        }
      ],
      "source": [
        "#@title Teste Kolmogorov-Smirnov\n",
        "gb_ks = plot_ks(y_test, gb_preds_scores)"
      ]
    },
    {
      "cell_type": "code",
      "execution_count": null,
      "metadata": {
        "cellView": "form",
        "colab": {
          "base_uri": "https://localhost:8080/"
        },
        "id": "GtjRE7RXKz-w",
        "outputId": "bc6e3a51-0e1b-42e9-a19b-00df41942434"
      },
      "outputs": [
        {
          "output_type": "stream",
          "name": "stdout",
          "text": [
            "MSE: 0.20136518771331058\n"
          ]
        }
      ],
      "source": [
        "#@title MSE\n",
        "gb_mse = mean_squared_error(y_test, gb_preds)\n",
        "print(f\"MSE: {gb_mse}\")"
      ]
    },
    {
      "cell_type": "code",
      "execution_count": 45,
      "metadata": {
        "cellView": "form",
        "colab": {
          "base_uri": "https://localhost:8080/",
          "height": 449
        },
        "id": "8XObM720Kz-x",
        "outputId": "6e08c4c6-ea55-4a7c-a59c-037e743bce86"
      },
      "outputs": [
        {
          "output_type": "display_data",
          "data": {
            "text/plain": [
              "<Figure size 640x480 with 2 Axes>"
            ],
            "image/png": "[encoded data removed]"
          },
          "metadata": {}
        }
      ],
      "source": [
        "#@title Matriz de confusão\n",
        "gb_cm = confusion_matrix(y_test, gb_preds)\n",
        "plot_conf_matrix(gb_cm)"
      ]
    },
    {
      "cell_type": "code",
      "execution_count": 46,
      "metadata": {
        "cellView": "form",
        "colab": {
          "base_uri": "https://localhost:8080/",
          "height": 559
        },
        "id": "DK1QbgV7Kz-x",
        "outputId": "ae7784df-eb71-463a-ee25-fb086db6a910"
      },
      "outputs": [
        {
          "output_type": "stream",
          "name": "stdout",
          "text": [
            "AUC-ROC: 0.7064059034959536\n"
          ]
        },
        {
          "output_type": "display_data",
          "data": {
            "text/plain": [
              "<Figure size 600x600 with 1 Axes>"
            ],
            "image/png": "[encoded data removed]"
          },
          "metadata": {}
        }
      ],
      "source": [
        "#@title AUC-ROC\n",
        "gb_auc = roc_auc_score(y_test, gb_preds)\n",
        "print(f\"AUC-ROC: {gb_auc}\")\n",
        "gb_fpr, gb_tpr, _ = roc_curve(y_test, gb_preds)\n",
        "plot_roc(gb_fpr, gb_tpr, gb_auc, 'Gradient Boosting')"
      ]
    },
    {
      "cell_type": "code",
      "execution_count": 47,
      "metadata": {
        "cellView": "form",
        "colab": {
          "base_uri": "https://localhost:8080/"
        },
        "id": "xd7ZeRhFKz-y",
        "outputId": "d695f204-9294-419f-a2d7-2274d0b17e79"
      },
      "outputs": [
        {
          "output_type": "stream",
          "name": "stdout",
          "text": [
            "Recall: 0.5096359743040685\n",
            "Precision: 0.6556473829201102\n",
            "F1-score: 0.5734939759036145\n"
          ]
        }
      ],
      "source": [
        "#@title Recall, precision e f-score\n",
        "gb_recall = recall_score(y_test, gb_preds)\n",
        "gb_precision = precision_score(y_test, gb_preds)\n",
        "gb_f1 = f1_score(y_test, gb_preds)\n",
        "print(f\"Recall: {gb_recall}\")\n",
        "print(f\"Precision: {gb_precision}\")\n",
        "print(f\"F1-score: {gb_f1}\")"
      ]
    },
    {
      "cell_type": "markdown",
      "source": [
        "### Otimizando com o Optuna"
      ],
      "metadata": {
        "id": "JRpnLe83F5-7"
      }
    },
    {
      "cell_type": "code",
      "source": [
        "#@title Otimização do Gradient Boosting com Optuna\n",
        "\n",
        "# A função de otimização de hiperparâmetros.\n",
        "def objective_gb(trial):\n",
        "    # Sugere os hiperparâmetros, conforme a especificação do projeto.\n",
        "    loss = trial.suggest_categorical('loss', ['log_loss', 'exponential'])\n",
        "    learning_rate = trial.suggest_float('learning_rate', 1e-5, 1e-2, log=True)\n",
        "    n_estimators = trial.suggest_int('n_estimators', 50, 500)\n",
        "    subsample = trial.suggest_float('subsample', 0.1, 1.0)\n",
        "    criterion = trial.suggest_categorical('criterion', ['friedman_mse', 'squared_error'])\n",
        "    min_samples_leaf = trial.suggest_int('min_samples_leaf', 1, 10)\n",
        "    max_depth = trial.suggest_int('max_depth', 2, 32)\n",
        "\n",
        "    #Aqui pega os melhores parametros achados e utiliza para criar um modelo com esse parametros\n",
        "    model = GradientBoostingClassifier(\n",
        "        loss=loss,\n",
        "        learning_rate=learning_rate,\n",
        "        n_estimators=n_estimators,\n",
        "        subsample=subsample,\n",
        "        criterion=criterion,\n",
        "        min_samples_leaf=min_samples_leaf,\n",
        "        max_depth=max_depth,\n",
        "        random_state=42\n",
        "    )\n",
        "\n",
        "\n",
        "    model.fit(X_train, y_train)\n",
        "\n",
        "\n",
        "    y_pred = model.predict_proba(X_val)[:, 1]\n",
        "    auc_score = roc_auc_score(y_val, y_pred)\n",
        "\n",
        "    return auc_score\n",
        "\n",
        "# Cria o estudo do Optuna e executa a otimização\n",
        "print(\"Iniciando a busca pelos hiperparametros do modelo Gradient Boosting...\")\n",
        "study_gb = optuna.create_study(direction='maximize')\n",
        "study_gb.optimize(objective_gb, n_trials=50)\n",
        "\n",
        "print(\"\\n--- Resultados da Otimização do Gradient Boosting ---\")\n",
        "print(\"Melhores hiperparametros encontrados:\")\n",
        "print(study_gb.best_params)\n",
        "print(\"\\nMelhor Area AUC no conjunto de validação:\")\n",
        "print(study_gb.best_value)"
      ],
      "metadata": {
        "cellView": "form",
        "id": "iruhPTJFF-k1",
        "outputId": "858b5ba9-434d-465b-83af-e2a99a36ca71",
        "colab": {
          "base_uri": "https://localhost:8080/"
        }
      },
      "execution_count": null,
      "outputs": [
        {
          "output_type": "stream",
          "name": "stderr",
          "text": [
            "[I 2025-08-08 00:45:14,219] A new study created in memory with name: no-name-034f0428-658d-47fd-9021-1df112b40bac\n"
          ]
        },
        {
          "output_type": "stream",
          "name": "stdout",
          "text": [
            "Iniciando a busca pelos hiperparametros do modelo Gradient Boosting...\n"
          ]
        },
        {
          "output_type": "stream",
          "name": "stderr",
          "text": [
            "[I 2025-08-08 00:45:18,513] Trial 0 finished with value: 0.8344924589108919 and parameters: {'loss': 'exponential', 'learning_rate': 0.00010632821982363651, 'n_estimators': 450, 'subsample': 0.5041777019844729, 'criterion': 'squared_error', 'min_samples_leaf': 4, 'max_depth': 6}. Best is trial 0 with value: 0.8344924589108919.\n",
            "[I 2025-08-08 00:45:21,452] Trial 1 finished with value: 0.8182243401443364 and parameters: {'loss': 'log_loss', 'learning_rate': 0.009095508655468118, 'n_estimators': 104, 'subsample': 0.1656759818790013, 'criterion': 'squared_error', 'min_samples_leaf': 1, 'max_depth': 29}. Best is trial 0 with value: 0.8344924589108919.\n",
            "[I 2025-08-08 00:45:23,643] Trial 2 finished with value: 0.8335022400177808 and parameters: {'loss': 'exponential', 'learning_rate': 1.0059735726546424e-05, 'n_estimators': 352, 'subsample': 0.10235973966587542, 'criterion': 'friedman_mse', 'min_samples_leaf': 4, 'max_depth': 20}. Best is trial 0 with value: 0.8344924589108919.\n",
            "[I 2025-08-08 00:45:54,646] Trial 3 finished with value: 0.8042990759615656 and parameters: {'loss': 'exponential', 'learning_rate': 0.0006006038893646252, 'n_estimators': 497, 'subsample': 0.888660277079173, 'criterion': 'squared_error', 'min_samples_leaf': 3, 'max_depth': 19}. Best is trial 0 with value: 0.8344924589108919.\n",
            "[I 2025-08-08 00:46:10,488] Trial 4 finished with value: 0.8083395671234059 and parameters: {'loss': 'exponential', 'learning_rate': 0.0036710948803012735, 'n_estimators': 230, 'subsample': 0.7477555843686351, 'criterion': 'friedman_mse', 'min_samples_leaf': 2, 'max_depth': 32}. Best is trial 0 with value: 0.8344924589108919.\n",
            "[I 2025-08-08 00:46:10,651] Trial 5 finished with value: 0.8289832259905091 and parameters: {'loss': 'log_loss', 'learning_rate': 0.0023439828572723387, 'n_estimators': 84, 'subsample': 0.12864254063368982, 'criterion': 'squared_error', 'min_samples_leaf': 4, 'max_depth': 2}. Best is trial 0 with value: 0.8344924589108919.\n",
            "[I 2025-08-08 00:46:15,210] Trial 6 finished with value: 0.8209453687777514 and parameters: {'loss': 'exponential', 'learning_rate': 0.006330811590042146, 'n_estimators': 162, 'subsample': 0.66679932085414, 'criterion': 'squared_error', 'min_samples_leaf': 6, 'max_depth': 12}. Best is trial 0 with value: 0.8344924589108919.\n",
            "[I 2025-08-08 00:47:10,600] Trial 7 finished with value: 0.8023343954274113 and parameters: {'loss': 'log_loss', 'learning_rate': 5.754501739169127e-05, 'n_estimators': 486, 'subsample': 0.7320380766001457, 'criterion': 'friedman_mse', 'min_samples_leaf': 1, 'max_depth': 27}. Best is trial 0 with value: 0.8344924589108919.\n",
            "[I 2025-08-08 00:47:11,763] Trial 8 finished with value: 0.8309188800076962 and parameters: {'loss': 'log_loss', 'learning_rate': 0.004501981659639236, 'n_estimators': 178, 'subsample': 0.1367304714858109, 'criterion': 'squared_error', 'min_samples_leaf': 5, 'max_depth': 25}. Best is trial 0 with value: 0.8344924589108919.\n",
            "[I 2025-08-08 00:47:15,058] Trial 9 finished with value: 0.8351932419633867 and parameters: {'loss': 'log_loss', 'learning_rate': 0.00010607090077687535, 'n_estimators': 401, 'subsample': 0.5474623996155749, 'criterion': 'squared_error', 'min_samples_leaf': 7, 'max_depth': 5}. Best is trial 9 with value: 0.8351932419633867.\n",
            "[I 2025-08-08 00:47:20,036] Trial 10 finished with value: 0.829491604701964 and parameters: {'loss': 'log_loss', 'learning_rate': 0.0004264526398810193, 'n_estimators': 349, 'subsample': 0.422238006051867, 'criterion': 'friedman_mse', 'min_samples_leaf': 9, 'max_depth': 11}. Best is trial 9 with value: 0.8351932419633867.\n",
            "[I 2025-08-08 00:47:21,379] Trial 11 finished with value: 0.8228644362138143 and parameters: {'loss': 'exponential', 'learning_rate': 0.00011842435031504217, 'n_estimators': 405, 'subsample': 0.44955741167594143, 'criterion': 'squared_error', 'min_samples_leaf': 7, 'max_depth': 2}. Best is trial 9 with value: 0.8351932419633867.\n",
            "[I 2025-08-08 00:47:26,060] Trial 12 finished with value: 0.8324075256635877 and parameters: {'loss': 'log_loss', 'learning_rate': 5.3399947014590995e-05, 'n_estimators': 415, 'subsample': 0.5161124459020818, 'criterion': 'squared_error', 'min_samples_leaf': 8, 'max_depth': 7}. Best is trial 9 with value: 0.8351932419633867.\n",
            "[I 2025-08-08 00:47:29,511] Trial 13 finished with value: 0.8329416135757849 and parameters: {'loss': 'exponential', 'learning_rate': 0.00015216819275486716, 'n_estimators': 304, 'subsample': 0.323969596292892, 'criterion': 'squared_error', 'min_samples_leaf': 10, 'max_depth': 8}. Best is trial 9 with value: 0.8351932419633867.\n",
            "[I 2025-08-08 00:47:40,082] Trial 14 finished with value: 0.8210125444313042 and parameters: {'loss': 'exponential', 'learning_rate': 1.7515579678949794e-05, 'n_estimators': 426, 'subsample': 0.6281306186389278, 'criterion': 'squared_error', 'min_samples_leaf': 6, 'max_depth': 14}. Best is trial 9 with value: 0.8351932419633867.\n",
            "[I 2025-08-08 00:47:43,598] Trial 15 finished with value: 0.8354959470689024 and parameters: {'loss': 'log_loss', 'learning_rate': 0.0009172268071788738, 'n_estimators': 449, 'subsample': 0.31146605303094144, 'criterion': 'squared_error', 'min_samples_leaf': 7, 'max_depth': 6}. Best is trial 15 with value: 0.8354959470689024.\n",
            "[I 2025-08-08 00:47:47,238] Trial 16 finished with value: 0.83207247672488 and parameters: {'loss': 'log_loss', 'learning_rate': 0.0011158500450267061, 'n_estimators': 362, 'subsample': 0.2997262198435282, 'criterion': 'squared_error', 'min_samples_leaf': 8, 'max_depth': 15}. Best is trial 15 with value: 0.8354959470689024.\n",
            "[I 2025-08-08 00:47:48,782] Trial 17 finished with value: 0.8364306009152476 and parameters: {'loss': 'log_loss', 'learning_rate': 0.0013887821969926313, 'n_estimators': 276, 'subsample': 0.3031126490705268, 'criterion': 'squared_error', 'min_samples_leaf': 7, 'max_depth': 5}. Best is trial 17 with value: 0.8364306009152476.\n",
            "[I 2025-08-08 00:47:51,032] Trial 18 finished with value: 0.8340296932975284 and parameters: {'loss': 'log_loss', 'learning_rate': 0.0010427260445066823, 'n_estimators': 272, 'subsample': 0.28185859744851566, 'criterion': 'friedman_mse', 'min_samples_leaf': 10, 'max_depth': 10}. Best is trial 17 with value: 0.8364306009152476.\n",
            "[I 2025-08-08 00:47:55,927] Trial 19 finished with value: 0.829194704899842 and parameters: {'loss': 'log_loss', 'learning_rate': 0.001735592100892698, 'n_estimators': 252, 'subsample': 0.38131142072983293, 'criterion': 'squared_error', 'min_samples_leaf': 8, 'max_depth': 22}. Best is trial 17 with value: 0.8364306009152476.\n",
            "[I 2025-08-08 00:47:56,762] Trial 20 finished with value: 0.8343357157192688 and parameters: {'loss': 'log_loss', 'learning_rate': 0.00027744046950311846, 'n_estimators': 210, 'subsample': 0.2141731750864319, 'criterion': 'squared_error', 'min_samples_leaf': 7, 'max_depth': 4}. Best is trial 17 with value: 0.8364306009152476.\n",
            "[I 2025-08-08 00:48:00,330] Trial 21 finished with value: 0.8291623610666499 and parameters: {'loss': 'log_loss', 'learning_rate': 0.0007388706863169349, 'n_estimators': 311, 'subsample': 0.9753220446780774, 'criterion': 'squared_error', 'min_samples_leaf': 7, 'max_depth': 5}. Best is trial 17 with value: 0.8364306009152476.\n",
            "[I 2025-08-08 00:48:06,969] Trial 22 finished with value: 0.8286854968593309 and parameters: {'loss': 'log_loss', 'learning_rate': 0.00026484611576870366, 'n_estimators': 383, 'subsample': 0.5911903125085662, 'criterion': 'squared_error', 'min_samples_leaf': 6, 'max_depth': 8}. Best is trial 17 with value: 0.8364306009152476.\n",
            "[I 2025-08-08 00:48:08,830] Trial 23 finished with value: 0.8370683549594707 and parameters: {'loss': 'log_loss', 'learning_rate': 0.0018958869961329032, 'n_estimators': 456, 'subsample': 0.2561272673353913, 'criterion': 'squared_error', 'min_samples_leaf': 9, 'max_depth': 4}. Best is trial 23 with value: 0.8370683549594707.\n",
            "[I 2025-08-08 00:48:09,930] Trial 24 finished with value: 0.8311021617291179 and parameters: {'loss': 'log_loss', 'learning_rate': 0.0017770283023941895, 'n_estimators': 446, 'subsample': 0.23295755194459428, 'criterion': 'squared_error', 'min_samples_leaf': 9, 'max_depth': 2}. Best is trial 23 with value: 0.8370683549594707.\n",
            "[I 2025-08-08 00:48:15,050] Trial 25 finished with value: 0.8294468209329289 and parameters: {'loss': 'log_loss', 'learning_rate': 0.0026966720861936197, 'n_estimators': 469, 'subsample': 0.37497814058257817, 'criterion': 'squared_error', 'min_samples_leaf': 9, 'max_depth': 10}. Best is trial 23 with value: 0.8370683549594707.\n",
            "[I 2025-08-08 00:48:18,109] Trial 26 finished with value: 0.8329631761312463 and parameters: {'loss': 'log_loss', 'learning_rate': 0.0011019033627448474, 'n_estimators': 306, 'subsample': 0.23521362131407125, 'criterion': 'friedman_mse', 'min_samples_leaf': 8, 'max_depth': 14}. Best is trial 23 with value: 0.8370683549594707.\n",
            "[I 2025-08-08 00:48:18,959] Trial 27 finished with value: 0.8334773601460946 and parameters: {'loss': 'log_loss', 'learning_rate': 0.0005626975988913128, 'n_estimators': 140, 'subsample': 0.3359443678112405, 'criterion': 'squared_error', 'min_samples_leaf': 5, 'max_depth': 4}. Best is trial 23 with value: 0.8370683549594707.\n",
            "[I 2025-08-08 00:48:19,641] Trial 28 finished with value: 0.829062012250849 and parameters: {'loss': 'log_loss', 'learning_rate': 0.0015195304279149466, 'n_estimators': 56, 'subsample': 0.4671041699773101, 'criterion': 'squared_error', 'min_samples_leaf': 9, 'max_depth': 8}. Best is trial 23 with value: 0.8370683549594707.\n",
            "[I 2025-08-08 00:48:21,818] Trial 29 finished with value: 0.8369671768146136 and parameters: {'loss': 'log_loss', 'learning_rate': 0.0030143299914879218, 'n_estimators': 434, 'subsample': 0.20937607286948307, 'criterion': 'squared_error', 'min_samples_leaf': 10, 'max_depth': 6}. Best is trial 23 with value: 0.8370683549594707.\n",
            "[I 2025-08-08 00:48:23,810] Trial 30 finished with value: 0.8358508999049589 and parameters: {'loss': 'log_loss', 'learning_rate': 0.004197594626095779, 'n_estimators': 325, 'subsample': 0.1906354881622477, 'criterion': 'squared_error', 'min_samples_leaf': 10, 'max_depth': 17}. Best is trial 23 with value: 0.8370683549594707.\n",
            "[I 2025-08-08 00:48:26,133] Trial 31 finished with value: 0.8351426528909581 and parameters: {'loss': 'log_loss', 'learning_rate': 0.0038197523236618573, 'n_estimators': 378, 'subsample': 0.18977020310388676, 'criterion': 'squared_error', 'min_samples_leaf': 10, 'max_depth': 17}. Best is trial 23 with value: 0.8370683549594707.\n",
            "[I 2025-08-08 00:48:28,704] Trial 32 finished with value: 0.8280054470332411 and parameters: {'loss': 'log_loss', 'learning_rate': 0.007549038601962131, 'n_estimators': 315, 'subsample': 0.25654477282538, 'criterion': 'squared_error', 'min_samples_leaf': 10, 'max_depth': 23}. Best is trial 23 with value: 0.8370683549594707.\n",
            "[I 2025-08-08 00:48:31,160] Trial 33 finished with value: 0.8337726012901043 and parameters: {'loss': 'log_loss', 'learning_rate': 0.00530567705994209, 'n_estimators': 275, 'subsample': 0.19648849671837226, 'criterion': 'squared_error', 'min_samples_leaf': 9, 'max_depth': 9}. Best is trial 23 with value: 0.8370683549594707.\n",
            "[I 2025-08-08 00:48:32,757] Trial 34 finished with value: 0.836059890827123 and parameters: {'loss': 'log_loss', 'learning_rate': 0.0028935654367720554, 'n_estimators': 334, 'subsample': 0.145299632757872, 'criterion': 'squared_error', 'min_samples_leaf': 10, 'max_depth': 12}. Best is trial 23 with value: 0.8370683549594707.\n",
            "[I 2025-08-08 00:48:35,031] Trial 35 finished with value: 0.8368859025671052 and parameters: {'loss': 'log_loss', 'learning_rate': 0.0028116404675612734, 'n_estimators': 468, 'subsample': 0.13901674522995475, 'criterion': 'squared_error', 'min_samples_leaf': 9, 'max_depth': 12}. Best is trial 23 with value: 0.8370683549594707.\n",
            "[I 2025-08-08 00:48:36,299] Trial 36 finished with value: 0.8375974668973308 and parameters: {'loss': 'log_loss', 'learning_rate': 0.0084508377479912, 'n_estimators': 472, 'subsample': 0.11000801622940609, 'criterion': 'friedman_mse', 'min_samples_leaf': 8, 'max_depth': 4}. Best is trial 36 with value: 0.8375974668973308.\n",
            "[I 2025-08-08 00:48:37,290] Trial 37 finished with value: 0.8403259594922516 and parameters: {'loss': 'exponential', 'learning_rate': 0.00967715667324741, 'n_estimators': 473, 'subsample': 0.10038989513464383, 'criterion': 'friedman_mse', 'min_samples_leaf': 9, 'max_depth': 3}. Best is trial 37 with value: 0.8403259594922516.\n",
            "[I 2025-08-08 00:48:38,368] Trial 38 finished with value: 0.8388580470627652 and parameters: {'loss': 'exponential', 'learning_rate': 0.009544550105645058, 'n_estimators': 492, 'subsample': 0.10472809101565225, 'criterion': 'friedman_mse', 'min_samples_leaf': 8, 'max_depth': 3}. Best is trial 37 with value: 0.8403259594922516.\n",
            "[I 2025-08-08 00:48:39,471] Trial 39 finished with value: 0.838989081053646 and parameters: {'loss': 'exponential', 'learning_rate': 0.008749961401476563, 'n_estimators': 489, 'subsample': 0.10416008695169776, 'criterion': 'friedman_mse', 'min_samples_leaf': 8, 'max_depth': 3}. Best is trial 37 with value: 0.8403259594922516.\n",
            "[I 2025-08-08 00:48:40,311] Trial 40 finished with value: 0.8403715725903429 and parameters: {'loss': 'exponential', 'learning_rate': 0.009258504877320406, 'n_estimators': 481, 'subsample': 0.10156490916287331, 'criterion': 'friedman_mse', 'min_samples_leaf': 8, 'max_depth': 2}. Best is trial 40 with value: 0.8403715725903429.\n",
            "[I 2025-08-08 00:48:41,340] Trial 41 finished with value: 0.8400282303610733 and parameters: {'loss': 'exponential', 'learning_rate': 0.008743883985172944, 'n_estimators': 500, 'subsample': 0.10002078512733373, 'criterion': 'friedman_mse', 'min_samples_leaf': 8, 'max_depth': 2}. Best is trial 40 with value: 0.8403715725903429.\n",
            "[I 2025-08-08 00:48:42,647] Trial 42 finished with value: 0.8403491807058254 and parameters: {'loss': 'exponential', 'learning_rate': 0.009309021932259775, 'n_estimators': 500, 'subsample': 0.10982868579577572, 'criterion': 'friedman_mse', 'min_samples_leaf': 8, 'max_depth': 2}. Best is trial 40 with value: 0.8403715725903429.\n",
            "[I 2025-08-08 00:48:43,851] Trial 43 finished with value: 0.8393125193855668 and parameters: {'loss': 'exponential', 'learning_rate': 0.006324438233319235, 'n_estimators': 500, 'subsample': 0.16106746045803885, 'criterion': 'friedman_mse', 'min_samples_leaf': 8, 'max_depth': 2}. Best is trial 40 with value: 0.8403715725903429.\n",
            "[I 2025-08-08 00:48:44,891] Trial 44 finished with value: 0.8393954522911873 and parameters: {'loss': 'exponential', 'learning_rate': 0.005952867096927152, 'n_estimators': 489, 'subsample': 0.16412194223451682, 'criterion': 'friedman_mse', 'min_samples_leaf': 6, 'max_depth': 2}. Best is trial 40 with value: 0.8403715725903429.\n",
            "[I 2025-08-08 00:48:50,395] Trial 45 finished with value: 0.829066988225186 and parameters: {'loss': 'exponential', 'learning_rate': 0.005792281168702428, 'n_estimators': 470, 'subsample': 0.16589946392492583, 'criterion': 'friedman_mse', 'min_samples_leaf': 3, 'max_depth': 32}. Best is trial 40 with value: 0.8403715725903429.\n",
            "[I 2025-08-08 00:48:51,300] Trial 46 finished with value: 0.8398739751566188 and parameters: {'loss': 'exponential', 'learning_rate': 0.009661038638347287, 'n_estimators': 431, 'subsample': 0.16562658306727987, 'criterion': 'friedman_mse', 'min_samples_leaf': 5, 'max_depth': 2}. Best is trial 40 with value: 0.8403715725903429.\n",
            "[I 2025-08-08 00:48:58,029] Trial 47 finished with value: 0.8290835748063102 and parameters: {'loss': 'exponential', 'learning_rate': 0.00963943569927, 'n_estimators': 442, 'subsample': 0.7088033943201786, 'criterion': 'friedman_mse', 'min_samples_leaf': 5, 'max_depth': 7}. Best is trial 40 with value: 0.8403715725903429.\n",
            "[I 2025-08-08 00:49:03,243] Trial 48 finished with value: 0.8345123628082409 and parameters: {'loss': 'exponential', 'learning_rate': 0.004064153337597152, 'n_estimators': 418, 'subsample': 0.8039136393242651, 'criterion': 'friedman_mse', 'min_samples_leaf': 4, 'max_depth': 6}. Best is trial 40 with value: 0.8403715725903429.\n",
            "[I 2025-08-08 00:49:04,128] Trial 49 finished with value: 0.8387933593963812 and parameters: {'loss': 'exponential', 'learning_rate': 0.006856776421878309, 'n_estimators': 392, 'subsample': 0.10514770274433026, 'criterion': 'friedman_mse', 'min_samples_leaf': 4, 'max_depth': 3}. Best is trial 40 with value: 0.8403715725903429.\n"
          ]
        },
        {
          "output_type": "stream",
          "name": "stdout",
          "text": [
            "\n",
            "--- Resultados da Otimização do Gradient Boosting ---\n",
            "Melhores hiperparametros encontrados:\n",
            "{'loss': 'exponential', 'learning_rate': 0.009258504877320406, 'n_estimators': 481, 'subsample': 0.10156490916287331, 'criterion': 'friedman_mse', 'min_samples_leaf': 8, 'max_depth': 2}\n",
            "\n",
            "Melhor Area AUC no conjunto de validação:\n",
            "0.8403715725903429\n"
          ]
        }
      ]
    },
    {
      "cell_type": "markdown",
      "metadata": {
        "id": "ofwMeTt_MDGY"
      },
      "source": [
        "# Avaliação final"
      ]
    },
    {
      "cell_type": "markdown",
      "metadata": {
        "id": "lAdq6jM1MFqO"
      },
      "source": [
        "## Comparação de métricas de todos os modelos"
      ]
    }
  ],
  "metadata": {
    "accelerator": "GPU",
    "colab": {
      "collapsed_sections": [
        "fCaQcByCJHBp",
        "0afoLfT3JZWB",
        "h7H67oBpL4os",
        "OXRvMnHlJKbj",
        "MXiiKlu2JMoT",
        "fSGO55TvJdDf"
      ],
      "gpuType": "T4",
      "provenance": [],
      "toc_visible": true
    },
    "kernelspec": {
      "display_name": "Python 3",
      "name": "python3"
    },
    "language_info": {
      "name": "python"
    }
  },
  "nbformat": 4,
  "nbformat_minor": 0
}